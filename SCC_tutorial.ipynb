{
 "cells": [
  {
   "cell_type": "code",
   "execution_count": 4,
   "metadata": {},
   "outputs": [],
   "source": [
    "import os, sys\n",
    "import scanpy as sc\n",
    "import pandas as pd\n",
    "import numpy as np\n",
    "import json\n",
    "import warnings\n",
    "warnings.filterwarnings(\"ignore\")"
   ]
  },
  {
   "cell_type": "code",
   "execution_count": 2,
   "metadata": {},
   "outputs": [],
   "source": [
    "from spamint import sprout_plus\n",
    "from spamint import preprocess as pp\n",
    "#import logging\n",
    "#logger = logging.getLogger(__name__)\n",
    "logger = sprout_plus.logger"
   ]
  },
  {
   "attachments": {},
   "cell_type": "markdown",
   "metadata": {},
   "source": [
    "# 1. Load files"
   ]
  },
  {
   "cell_type": "code",
   "execution_count": 5,
   "metadata": {},
   "outputs": [
    {
     "name": "stdout",
     "output_type": "stream",
     "text": [
      "[2024-07-16 14:03:38,176/INFO] Loading files...\n"
     ]
    }
   ],
   "source": [
    "logger.info(\"Loading files...\")\n",
    "inputDir = './scc_data/'\n",
    "outDir = f'{inputDir}/results/'\n",
    "sc_exp = pd.read_csv(f'{inputDir}/SC_exp.tsv',sep = '\\t',header=0,index_col=0)\n",
    "sc_meta = pd.read_csv(f'{inputDir}/SC_meta.tsv',sep = '\\t',header=0,index_col=0)\n",
    "st_exp = pd.read_csv(f'{inputDir}/ST_exp.tsv',sep = '\\t',header=0,index_col=0)\n",
    "st_coord = pd.read_csv(f'{inputDir}/ST_coord.csv',sep = ',',header=0,index_col=0)\n",
    "st_decon = pd.read_csv(f'{inputDir}/ST_decon.tsv',sep = '\\t',header=0,index_col=0)\n",
    "sc_smurf = pd.read_csv(f'{inputDir}/smurf_ref.csv',sep = ',',header=0,index_col=0)\n",
    "lr_df = pd.read_csv('./LR/human_LR_pairs.txt',sep='\\t',header=None)\n",
    "logger.info(\"File loading complete\")"
   ]
  },
  {
   "cell_type": "markdown",
   "metadata": {},
   "source": [
    "# Parameters"
   ]
  },
  {
   "cell_type": "code",
   "execution_count": 5,
   "metadata": {},
   "outputs": [
    {
     "name": "stdout",
     "output_type": "stream",
     "text": [
      "[2024-07-08 23:22:43,111/INFO] Setting parameters...\n"
     ]
    }
   ],
   "source": [
    "logger.info(\"Setting parameters...\")\n",
    "st_decon.columns = [x.split('sf_')[-1] for x in st_decon.columns]\n",
    "species = 'Mouse'\n",
    "st_tp = 'visum'\n",
    "meta_key = 'level3_celltype'\n",
    "SUM = 1e4\n",
    "alpha, beta, gamma, delta, eta = [1, 0.001, 0.001, 0.1, 0.0005]\n",
    "if st_tp == 'slide-seq':\n",
    "    num_per_spot = 1\n",
    "    repeat_penalty = 2\n",
    "else:\n",
    "    num_per_spot = 10\n",
    "    repeat_penalty = int((st_exp.shape[0] * num_per_spot/sc_exp.shape[0]) * 10)\n",
    "\n",
    "max_rep = 20"
   ]
  },
  {
   "cell_type": "code",
   "execution_count": 6,
   "metadata": {},
   "outputs": [
    {
     "name": "stdout",
     "output_type": "stream",
     "text": [
      "[2024-07-08 23:23:06,734/DEBUG] Reloading all SpaMint modules\n",
      "spamint\n",
      "spamint.utils\n",
      "spamint.optimizers\n",
      "spamint.preprocess\n",
      "spamint.cell_selection\n",
      "spamint.gradient_descent\n",
      "spamint.sprout_plus\n"
     ]
    }
   ],
   "source": [
    "logger.debug(\"Reloading all SpaMint modules\")\n",
    "import importlib\n",
    "l = [module for module in sys.modules.values() if module.__name__.startswith('spamint')]\n",
    "for module in l:\n",
    "    try:\n",
    "        if module.__name__.startswith('spamint'):\n",
    "            print(module.__name__)\n",
    "            importlib.reload(module)\n",
    "    except:\n",
    "        pass"
   ]
  },
  {
   "cell_type": "markdown",
   "metadata": {},
   "source": [
    "# Preprocess"
   ]
  },
  {
   "cell_type": "code",
   "execution_count": 7,
   "metadata": {},
   "outputs": [
    {
     "name": "stdout",
     "output_type": "stream",
     "text": [
      "[2024-07-08 23:23:28,446/DEBUG] Data clean is done! Using 15399 shared genes .\n"
     ]
    }
   ],
   "source": [
    "if st_exp.shape[1]<1e4:\n",
    "    # merfish data, only has 200~500 genes\n",
    "    sc_adata, st_adata, sc_ref, lr_df = pp.prep_all_adata_merfish(sc_exp = sc_exp, st_exp = st_exp, sc_distribution = sc_smurf, \n",
    "                                                        sc_meta = sc_meta, st_coord = st_coord, lr_df = lr_df, SP = species)\n",
    "else:\n",
    "    sc_adata, st_adata, sc_ref, lr_df = pp.prep_all_adata(sc_exp = sc_exp, st_exp = st_exp, sc_distribution = sc_smurf, \n",
    "                                                            sc_meta = sc_meta, st_coord = st_coord, lr_df = lr_df, SP = species)"
   ]
  },
  {
   "cell_type": "code",
   "execution_count": 8,
   "metadata": {},
   "outputs": [
    {
     "name": "stdout",
     "output_type": "stream",
     "text": [
      "sc_ref and sc_adata has different genes, both data are subset to 15399 genes.\n",
      "[2024-07-08 23:23:37,887/DEBUG] Parameters checked!\n",
      "[2024-07-08 23:23:40,673/DEBUG] Getting svg genes\n",
      "By setting k as 4, each spot has average 3.990990990990991 neighbors.\n",
      "[2024-07-08 23:23:41,034/DEBUG] Calculating spots affinity profile data\n",
      "[2024-07-08 23:23:43,459/DEBUG] SpaMint object created.\n"
     ]
    }
   ],
   "source": [
    "obj_spex = sprout_plus.SpaMint(save_path = outDir, st_adata = st_adata, weight = st_decon, \n",
    "                sc_ref = sc_ref, sc_adata = sc_adata, cell_type_key = meta_key, lr_df = lr_df, \n",
    "                st_tp = st_tp)\n",
    "#obj_spex.prep()"
   ]
  },
  {
   "cell_type": "markdown",
   "metadata": {},
   "source": [
    "# cell selection"
   ]
  },
  {
   "cell_type": "code",
   "execution_count": 9,
   "metadata": {},
   "outputs": [
    {
     "name": "stdout",
     "output_type": "stream",
     "text": [
      "[2024-07-08 23:23:43,524/INFO] Starting cell selection\n",
      "[2024-07-08 23:23:43,528/DEBUG] 0. calc num of cell per spot\n",
      "[2024-07-08 23:23:43,530/DEBUG] \t Estimating the cell number in each spot by the deconvolution result.\n",
      "[2024-07-08 23:23:47,089/DEBUG] 1. filter gene\n",
      "[2024-07-08 23:23:47,758/DEBUG] 2. feature select\n",
      "[2024-07-08 23:27:40,629/DEBUG] \t SpexMod selects 3747 feature genes.\n",
      "[2024-07-08 23:27:40,633/DEBUG] 3. scale and norm\n",
      "[2024-07-08 23:27:43,581/DEBUG] 4. init solution\n",
      "[2024-07-08 23:29:11,621/DEBUG] \t Init solution: max - 0.9201,     mean - 0.6428,     min - 0.1343\n",
      "[2024-07-08 23:29:13,875/DEBUG] 5. Swap selection start...\n",
      "[2024-07-08 23:29:13,876/DEBUG] \tSwap selection iter 0 of 1\n",
      "[2024-07-08 23:33:01,940/DEBUG] \t Swapped solution: max - 0.92,     mean - 0.71,     min - 0.20\n"
     ]
    }
   ],
   "source": [
    "sc_agg_meta = obj_spex.select_cells(use_sc_orig = True, p = 0, mean_num_per_spot = num_per_spot,\n",
    "                                    mode = 'strict', max_rep = 1,\n",
    "                                    repeat_penalty = repeat_penalty)\n",
    "sc_agg_meta.to_csv(f'{outDir}/spexmod_sc_meta.tsv',sep = '\\t',header=True,index=True)"
   ]
  },
  {
   "cell_type": "markdown",
   "metadata": {},
   "source": [
    "if p != 0, extremely time consuming"
   ]
  },
  {
   "cell_type": "code",
   "execution_count": null,
   "metadata": {},
   "outputs": [],
   "source": [
    "# change p to 0.1, use different code to select cells\n",
    "sc_agg_meta = obj_spex.select_cells(use_sc_orig = True, p = 0.1, mean_num_per_spot = num_per_spot, mode = 'strict', max_rep = 1, \n",
    "                                    repeat_penalty = repeat_penalty)\n",
    "sc_agg_meta.to_csv(f'{outDir}/spexmod_sc_meta.tsv',sep = '\\t',header=True,index=True)"
   ]
  },
  {
   "cell_type": "code",
   "execution_count": 10,
   "metadata": {},
   "outputs": [
    {
     "name": "stdout",
     "output_type": "stream",
     "text": [
      "[2024-07-08 23:33:06,815/DEBUG] Running v12 now...\n",
      "[2024-07-08 23:33:06,821/DEBUG] Init sc_coord by affinity embedding...\n",
      "Average shape correlation is: 0.8824550524353375\n",
      "[2024-07-08 23:34:37,614/DEBUG] First-term calculation done!\n",
      "[2024-07-08 23:34:43,757/DEBUG] Second-term calculation done!\n"
     ]
    },
    {
     "ename": "ValueError",
     "evalue": "No cell has neighbor, check parameter st_tp",
     "output_type": "error",
     "traceback": [
      "\u001b[0;31m---------------------------------------------------------------------------\u001b[0m",
      "\u001b[0;31mValueError\u001b[0m                                Traceback (most recent call last)",
      "Cell \u001b[0;32mIn[10], line 1\u001b[0m\n\u001b[0;32m----> 1\u001b[0m alter_sc_exp, sc_agg_meta \u001b[38;5;241m=\u001b[39m \u001b[43mobj_spex\u001b[49m\u001b[38;5;241;43m.\u001b[39;49m\u001b[43mgradient_descent\u001b[49m\u001b[43m(\u001b[49m\n\u001b[1;32m      2\u001b[0m \u001b[43m                \u001b[49m\u001b[43malpha\u001b[49m\u001b[43m,\u001b[49m\u001b[43m \u001b[49m\u001b[43mbeta\u001b[49m\u001b[43m,\u001b[49m\u001b[43m \u001b[49m\u001b[43mgamma\u001b[49m\u001b[43m,\u001b[49m\u001b[43m \u001b[49m\u001b[43mdelta\u001b[49m\u001b[43m,\u001b[49m\u001b[43m \u001b[49m\u001b[43meta\u001b[49m\u001b[43m,\u001b[49m\u001b[43m \u001b[49m\n\u001b[1;32m      3\u001b[0m \u001b[43m                \u001b[49m\u001b[43minit_sc_embed\u001b[49m\u001b[43m \u001b[49m\u001b[38;5;241;43m=\u001b[39;49m\u001b[43m \u001b[49m\u001b[38;5;28;43;01mFalse\u001b[39;49;00m\u001b[43m,\u001b[49m\n\u001b[1;32m      4\u001b[0m \u001b[43m                \u001b[49m\u001b[43miteration\u001b[49m\u001b[43m \u001b[49m\u001b[38;5;241;43m=\u001b[39;49m\u001b[43m \u001b[49m\u001b[43mmax_rep\u001b[49m\u001b[43m,\u001b[49m\u001b[43m \u001b[49m\u001b[43mk\u001b[49m\u001b[43m \u001b[49m\u001b[38;5;241;43m=\u001b[39;49m\u001b[43m \u001b[49m\u001b[38;5;241;43m2\u001b[39;49m\u001b[43m,\u001b[49m\u001b[43m \u001b[49m\u001b[43mW_HVG\u001b[49m\u001b[43m \u001b[49m\u001b[38;5;241;43m=\u001b[39;49m\u001b[43m \u001b[49m\u001b[38;5;241;43m2\u001b[39;49m\u001b[43m,\u001b[49m\n\u001b[1;32m      5\u001b[0m \u001b[43m                \u001b[49m\u001b[43mleft_range\u001b[49m\u001b[43m \u001b[49m\u001b[38;5;241;43m=\u001b[39;49m\u001b[43m \u001b[49m\u001b[38;5;241;43m1\u001b[39;49m\u001b[43m,\u001b[49m\u001b[43m \u001b[49m\u001b[43mright_range\u001b[49m\u001b[43m \u001b[49m\u001b[38;5;241;43m=\u001b[39;49m\u001b[43m \u001b[49m\u001b[38;5;241;43m2\u001b[39;49m\u001b[43m,\u001b[49m\u001b[43m \u001b[49m\u001b[43msteps\u001b[49m\u001b[43m \u001b[49m\u001b[38;5;241;43m=\u001b[39;49m\u001b[43m \u001b[49m\u001b[38;5;241;43m1\u001b[39;49m\u001b[43m,\u001b[49m\u001b[43m \u001b[49m\u001b[43mdim\u001b[49m\u001b[43m \u001b[49m\u001b[38;5;241;43m=\u001b[39;49m\u001b[43m \u001b[49m\u001b[38;5;241;43m2\u001b[39;49m\u001b[43m)\u001b[49m\n\u001b[1;32m      6\u001b[0m sc_agg_meta\u001b[38;5;241m.\u001b[39mto_csv(\u001b[38;5;124mf\u001b[39m\u001b[38;5;124m'\u001b[39m\u001b[38;5;132;01m{\u001b[39;00moutDir\u001b[38;5;132;01m}\u001b[39;00m\u001b[38;5;124m/spexmod_sc_meta.tsv\u001b[39m\u001b[38;5;124m'\u001b[39m,sep \u001b[38;5;241m=\u001b[39m \u001b[38;5;124m'\u001b[39m\u001b[38;5;130;01m\\t\u001b[39;00m\u001b[38;5;124m'\u001b[39m,header\u001b[38;5;241m=\u001b[39m\u001b[38;5;28;01mTrue\u001b[39;00m,index\u001b[38;5;241m=\u001b[39m\u001b[38;5;28;01mTrue\u001b[39;00m)\n\u001b[1;32m      7\u001b[0m \u001b[38;5;28;01mwith\u001b[39;00m \u001b[38;5;28mopen\u001b[39m(\u001b[38;5;124mf\u001b[39m\u001b[38;5;124m'\u001b[39m\u001b[38;5;132;01m{\u001b[39;00moutDir\u001b[38;5;132;01m}\u001b[39;00m\u001b[38;5;124m/sc_knn.json\u001b[39m\u001b[38;5;124m'\u001b[39m, \u001b[38;5;124m'\u001b[39m\u001b[38;5;124mw\u001b[39m\u001b[38;5;124m'\u001b[39m) \u001b[38;5;28;01mas\u001b[39;00m fp:\n",
      "File \u001b[0;32m~/Documents/2406-work/SpaMint/spamint/sprout_plus.py:147\u001b[0m, in \u001b[0;36mSpaMint.gradient_descent\u001b[0;34m(self, alpha, beta, gamma, delta, eta, init_sc_embed, iteration, k, W_HVG, left_range, right_range, steps, dim)\u001b[0m\n\u001b[1;32m    144\u001b[0m solver \u001b[38;5;241m=\u001b[39m GradientDescentSolver(\u001b[38;5;28mself\u001b[39m, alpha, beta, gamma, delta, eta, \n\u001b[1;32m    145\u001b[0m         init_sc_embed, iteration, k, W_HVG, left_range, right_range, steps, dim)\n\u001b[1;32m    146\u001b[0m \u001b[38;5;28mself\u001b[39m\u001b[38;5;241m.\u001b[39mgradient_descent_solver \u001b[38;5;241m=\u001b[39m solver\n\u001b[0;32m--> 147\u001b[0m \u001b[38;5;28mself\u001b[39m\u001b[38;5;241m.\u001b[39malter_sc_exp, \u001b[38;5;28mself\u001b[39m\u001b[38;5;241m.\u001b[39msc_agg_meta \u001b[38;5;241m=\u001b[39m \u001b[43msolver\u001b[49m\u001b[38;5;241;43m.\u001b[39;49m\u001b[43mgradient_descent\u001b[49m\u001b[43m(\u001b[49m\u001b[43m)\u001b[49m\n\u001b[1;32m    148\u001b[0m \u001b[38;5;28mself\u001b[39m\u001b[38;5;241m.\u001b[39msc_knn \u001b[38;5;241m=\u001b[39m solver\u001b[38;5;241m.\u001b[39msc_knn\n\u001b[1;32m    149\u001b[0m \u001b[38;5;28;01mreturn\u001b[39;00m \u001b[38;5;28mself\u001b[39m\u001b[38;5;241m.\u001b[39malter_sc_exp, \u001b[38;5;28mself\u001b[39m\u001b[38;5;241m.\u001b[39msc_agg_meta\n",
      "File \u001b[0;32m~/Documents/2406-work/SpaMint/spamint/gradient_descent.py:130\u001b[0m, in \u001b[0;36mGradientDescentSolver.gradient_descent\u001b[0;34m(self)\u001b[0m\n\u001b[1;32m    128\u001b[0m     \u001b[38;5;28mself\u001b[39m\u001b[38;5;241m.\u001b[39minit_sc_embed \u001b[38;5;241m=\u001b[39m \u001b[38;5;28mself\u001b[39m\u001b[38;5;241m.\u001b[39mst_coord\u001b[38;5;241m.\u001b[39mloc[\u001b[38;5;28mself\u001b[39m\u001b[38;5;241m.\u001b[39msc_agg_meta[\u001b[38;5;124m'\u001b[39m\u001b[38;5;124mspot\u001b[39m\u001b[38;5;124m'\u001b[39m]]\n\u001b[1;32m    129\u001b[0m     \u001b[38;5;28mself\u001b[39m\u001b[38;5;241m.\u001b[39minit_sc_embed\u001b[38;5;241m.\u001b[39mindex \u001b[38;5;241m=\u001b[39m \u001b[38;5;28mself\u001b[39m\u001b[38;5;241m.\u001b[39msc_agg_meta\u001b[38;5;241m.\u001b[39mindex\n\u001b[0;32m--> 130\u001b[0m \u001b[38;5;28;43mself\u001b[39;49m\u001b[38;5;241;43m.\u001b[39;49m\u001b[43minit_grad\u001b[49m\u001b[43m(\u001b[49m\u001b[43m)\u001b[49m\n\u001b[1;32m    131\u001b[0m \u001b[38;5;66;03m# loss = self.loss1 + self.ALPHA*self.loss2 + self.BETA*self.loss3 + self.GAMMA*self.loss4 + self.DELTA*self.loss5\u001b[39;00m\n\u001b[1;32m    132\u001b[0m \u001b[38;5;66;03m# tmp = pd.DataFrame(np.array([[self.loss1,self.ALPHA*self.loss2,self.BETA*self.loss3,self.GAMMA*self.loss4,self.DELTA*self.loss5,loss]]),columns = res_col, index = [0])\u001b[39;00m\n\u001b[1;32m    133\u001b[0m \u001b[38;5;66;03m# result = pd.concat((result,tmp),axis=0)\u001b[39;00m\n\u001b[1;32m    134\u001b[0m \u001b[38;5;66;03m######### init done ############\u001b[39;00m\n\u001b[1;32m    135\u001b[0m \u001b[38;5;28;01mfor\u001b[39;00m ite \u001b[38;5;129;01min\u001b[39;00m \u001b[38;5;28mrange\u001b[39m(\u001b[38;5;28mself\u001b[39m\u001b[38;5;241m.\u001b[39miteration):\n",
      "File \u001b[0;32m~/Documents/2406-work/SpaMint/spamint/gradient_descent.py:112\u001b[0m, in \u001b[0;36mGradientDescentSolver.init_grad\u001b[0;34m(self)\u001b[0m\n\u001b[1;32m    109\u001b[0m     \u001b[38;5;66;03m# TODO 减少aff计算次数；使用sparse array\u001b[39;00m\n\u001b[1;32m    110\u001b[0m     \u001b[38;5;28mself\u001b[39m\u001b[38;5;241m.\u001b[39msc_coord,_,_,_ \u001b[38;5;241m=\u001b[39m optimizers\u001b[38;5;241m.\u001b[39maff_embedding(\u001b[38;5;28mself\u001b[39m\u001b[38;5;241m.\u001b[39malter_sc_exp,\u001b[38;5;28mself\u001b[39m\u001b[38;5;241m.\u001b[39mst_coord,\u001b[38;5;28mself\u001b[39m\u001b[38;5;241m.\u001b[39msc_agg_meta,\u001b[38;5;28mself\u001b[39m\u001b[38;5;241m.\u001b[39mlr_df,\n\u001b[1;32m    111\u001b[0m                     \u001b[38;5;28mself\u001b[39m\u001b[38;5;241m.\u001b[39msave_path,\u001b[38;5;28mself\u001b[39m\u001b[38;5;241m.\u001b[39mleft_range,\u001b[38;5;28mself\u001b[39m\u001b[38;5;241m.\u001b[39mright_range,\u001b[38;5;28mself\u001b[39m\u001b[38;5;241m.\u001b[39msteps,\u001b[38;5;28mself\u001b[39m\u001b[38;5;241m.\u001b[39mdim,verbose \u001b[38;5;241m=\u001b[39m \u001b[38;5;28;01mFalse\u001b[39;00m)\n\u001b[0;32m--> 112\u001b[0m \u001b[38;5;28;43mself\u001b[39;49m\u001b[38;5;241;43m.\u001b[39;49m\u001b[43mrun_gradient\u001b[49m\u001b[43m(\u001b[49m\u001b[43m)\u001b[49m\n\u001b[1;32m    113\u001b[0m \u001b[38;5;66;03m# v5 calculte the initial loss of each term to balance their force.\u001b[39;00m\n\u001b[1;32m    114\u001b[0m adj2,adj3,adj4,adj5 \u001b[38;5;241m=\u001b[39m optimizers\u001b[38;5;241m.\u001b[39mloss_adj(\u001b[38;5;28mself\u001b[39m\u001b[38;5;241m.\u001b[39mloss1,\u001b[38;5;28mself\u001b[39m\u001b[38;5;241m.\u001b[39mloss2,\u001b[38;5;28mself\u001b[39m\u001b[38;5;241m.\u001b[39mloss3,\u001b[38;5;28mself\u001b[39m\u001b[38;5;241m.\u001b[39mloss4,\u001b[38;5;28mself\u001b[39m\u001b[38;5;241m.\u001b[39mloss5)\n",
      "File \u001b[0;32m~/Documents/2406-work/SpaMint/spamint/gradient_descent.py:79\u001b[0m, in \u001b[0;36mGradientDescentSolver.run_gradient\u001b[0;34m(self)\u001b[0m\n\u001b[1;32m     77\u001b[0m     \u001b[38;5;66;03m# 3.2 get c' = N(c)\u001b[39;00m\n\u001b[1;32m     78\u001b[0m     \u001b[38;5;28mself\u001b[39m\u001b[38;5;241m.\u001b[39msc_knn \u001b[38;5;241m=\u001b[39m optimizers\u001b[38;5;241m.\u001b[39mfindCellKNN(\u001b[38;5;28mself\u001b[39m\u001b[38;5;241m.\u001b[39mst_coord,\u001b[38;5;28mself\u001b[39m\u001b[38;5;241m.\u001b[39mst_tp,\u001b[38;5;28mself\u001b[39m\u001b[38;5;241m.\u001b[39msc_agg_meta,\u001b[38;5;28mself\u001b[39m\u001b[38;5;241m.\u001b[39msc_coord,\u001b[38;5;28mself\u001b[39m\u001b[38;5;241m.\u001b[39mK)\n\u001b[0;32m---> 79\u001b[0m     \u001b[43mutils\u001b[49m\u001b[38;5;241;43m.\u001b[39;49m\u001b[43mcheck_empty_dict\u001b[49m\u001b[43m(\u001b[49m\u001b[38;5;28;43mself\u001b[39;49m\u001b[38;5;241;43m.\u001b[39;49m\u001b[43msc_knn\u001b[49m\u001b[43m)\u001b[49m\n\u001b[1;32m     81\u001b[0m \u001b[38;5;66;03m# 3.3 get the paring genes (g') of gene g for each cells\u001b[39;00m\n\u001b[1;32m     82\u001b[0m \u001b[38;5;28mself\u001b[39m\u001b[38;5;241m.\u001b[39mrl_agg \u001b[38;5;241m=\u001b[39m optimizers\u001b[38;5;241m.\u001b[39mgenerate_LR_agg(\u001b[38;5;28mself\u001b[39m\u001b[38;5;241m.\u001b[39malter_sc_exp,\u001b[38;5;28mself\u001b[39m\u001b[38;5;241m.\u001b[39mlr_df)\n",
      "File \u001b[0;32m~/Documents/2406-work/SpaMint/spamint/utils.py:94\u001b[0m, in \u001b[0;36mcheck_empty_dict\u001b[0;34m(mydict)\u001b[0m\n\u001b[1;32m     92\u001b[0m \u001b[38;5;28;01mdef\u001b[39;00m \u001b[38;5;21mcheck_empty_dict\u001b[39m(mydict):\n\u001b[1;32m     93\u001b[0m     \u001b[38;5;28;01mif\u001b[39;00m \u001b[38;5;129;01mnot\u001b[39;00m \u001b[38;5;28many\u001b[39m(mydict\u001b[38;5;241m.\u001b[39mvalues()):\n\u001b[0;32m---> 94\u001b[0m         \u001b[38;5;28;01mraise\u001b[39;00m \u001b[38;5;167;01mValueError\u001b[39;00m(\n\u001b[1;32m     95\u001b[0m             \u001b[38;5;124m\"\u001b[39m\u001b[38;5;124mNo cell has neighbor, check parameter st_tp\u001b[39m\u001b[38;5;124m\"\u001b[39m)\n",
      "\u001b[0;31mValueError\u001b[0m: No cell has neighbor, check parameter st_tp"
     ]
    }
   ],
   "source": [
    "alter_sc_exp, sc_agg_meta = obj_spex.gradient_descent(\n",
    "                alpha, beta, gamma, delta, eta, \n",
    "                init_sc_embed = False,\n",
    "                iteration = max_rep, k = 2, W_HVG = 2,\n",
    "                left_range = 1, right_range = 2, steps = 1, dim = 2)\n",
    "sc_agg_meta.to_csv(f'{outDir}/spexmod_sc_meta.tsv',sep = '\\t',header=True,index=True)\n",
    "with open(f'{outDir}/sc_knn.json', 'w') as fp:\n",
    "    json.dump(obj_spex.sc_knn, fp)\n",
    "# utils.save_object(obj_spex, f'{outDir}/obj_spex.pkl')\n"
   ]
  },
  {
   "cell_type": "code",
   "execution_count": 30,
   "metadata": {},
   "outputs": [
    {
     "name": "stdout",
     "output_type": "stream",
     "text": [
      "[2024-07-09 00:34:47,068/DEBUG] calcNeighborAffMat\n",
      "[2024-07-09 00:35:04,701/DEBUG] OK\n",
      "[2024-07-09 00:35:04,708/DEBUG] calcAffMat\n",
      "[2024-07-09 00:35:18,771/DEBUG] ok\n"
     ]
    }
   ],
   "source": [
    "from spamint import optimizers\n",
    "importlib.reload(optimizers)\n",
    "import cProfile\n",
    "'''\n",
    "print(optimizers.findCellKNN(obj_spex.st_coord, obj_spex.st_tp, \n",
    "                            obj_spex.sc_agg_meta,\n",
    "                            obj_spex.gradient_descent_solver.sc_coord,\n",
    "                            obj_spex.gradient_descent_solver.K ))\n",
    "'''\n",
    "self=obj_spex.gradient_descent_solver\n",
    "\n",
    "logger.debug(\"calcNeighborAffMat\")\n",
    "#cProfile.runctx('''\n",
    "optimizers.calcNeighborAffinityMat(self.spots_nn_lst, self.spot_cell_dict, self.lr_df, self.alter_sc_exp)\n",
    "#                ''', globals(), locals(), sort='tottime')\n",
    "logger.debug(\"OK\")\n",
    "\n",
    "logger.debug(\"calcAffMat\")\n",
    "optimizers.calculate_affinity_mat(self.lr_df, self.alter_sc_exp)\n",
    "logger.debug(\"ok\")"
   ]
  }
 ],
 "metadata": {
  "kernelspec": {
   "display_name": "Python 3.8.8 ('base')",
   "language": "python",
   "name": "python3"
  },
  "language_info": {
   "codemirror_mode": {
    "name": "ipython",
    "version": 3
   },
   "file_extension": ".py",
   "mimetype": "text/x-python",
   "name": "python",
   "nbconvert_exporter": "python",
   "pygments_lexer": "ipython3",
   "version": "3.8.10"
  },
  "orig_nbformat": 4,
  "vscode": {
   "interpreter": {
    "hash": "7786051ca713700aed95fca0518a8a985661b55e7fd6f71a0a277d271e5f8daf"
   }
  }
 },
 "nbformat": 4,
 "nbformat_minor": 2
}
