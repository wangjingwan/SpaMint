{
 "cells": [
  {
   "cell_type": "code",
   "execution_count": 1,
   "metadata": {},
   "outputs": [],
   "source": [
    "import os\n",
    "import scanpy as sc\n",
    "import pandas as pd\n",
    "import numpy as np\n",
    "import json"
   ]
  },
  {
   "cell_type": "code",
   "execution_count": 2,
   "metadata": {},
   "outputs": [
    {
     "name": "stderr",
     "output_type": "stream",
     "text": [
      "/home/wangjingwan/.local/lib/python3.8/site-packages/umap/distances.py:1063: NumbaDeprecationWarning: \u001b[1mThe 'nopython' keyword argument was not supplied to the 'numba.jit' decorator. The implicit default value for this argument is currently False, but it will be changed to True in Numba 0.59.0. See https://numba.readthedocs.io/en/stable/reference/deprecation.html#deprecation-of-object-mode-fall-back-behaviour-when-using-jit for details.\u001b[0m\n",
      "  @numba.jit()\n",
      "/home/wangjingwan/.local/lib/python3.8/site-packages/umap/distances.py:1071: NumbaDeprecationWarning: \u001b[1mThe 'nopython' keyword argument was not supplied to the 'numba.jit' decorator. The implicit default value for this argument is currently False, but it will be changed to True in Numba 0.59.0. See https://numba.readthedocs.io/en/stable/reference/deprecation.html#deprecation-of-object-mode-fall-back-behaviour-when-using-jit for details.\u001b[0m\n",
      "  @numba.jit()\n",
      "/home/wangjingwan/.local/lib/python3.8/site-packages/umap/distances.py:1086: NumbaDeprecationWarning: \u001b[1mThe 'nopython' keyword argument was not supplied to the 'numba.jit' decorator. The implicit default value for this argument is currently False, but it will be changed to True in Numba 0.59.0. See https://numba.readthedocs.io/en/stable/reference/deprecation.html#deprecation-of-object-mode-fall-back-behaviour-when-using-jit for details.\u001b[0m\n",
      "  @numba.jit()\n",
      "/home/wangjingwan/.local/lib/python3.8/site-packages/tqdm/auto.py:22: TqdmWarning: IProgress not found. Please update jupyter and ipywidgets. See https://ipywidgets.readthedocs.io/en/stable/user_install.html\n",
      "  from .autonotebook import tqdm as notebook_tqdm\n",
      "/home/wangjingwan/.local/lib/python3.8/site-packages/umap/umap_.py:660: NumbaDeprecationWarning: \u001b[1mThe 'nopython' keyword argument was not supplied to the 'numba.jit' decorator. The implicit default value for this argument is currently False, but it will be changed to True in Numba 0.59.0. See https://numba.readthedocs.io/en/stable/reference/deprecation.html#deprecation-of-object-mode-fall-back-behaviour-when-using-jit for details.\u001b[0m\n",
      "  @numba.jit()\n"
     ]
    }
   ],
   "source": [
    "from spamint import sprout_plus\n",
    "from spamint import preprocess as pp\n",
    "import warnings\n",
    "warnings.filterwarnings(\"ignore\")"
   ]
  },
  {
   "attachments": {},
   "cell_type": "markdown",
   "metadata": {},
   "source": [
    "# 1. Load files"
   ]
  },
  {
   "cell_type": "code",
   "execution_count": 24,
   "metadata": {},
   "outputs": [],
   "source": [
    "inputDir = './tutorial/SCC_demo/'\n",
    "outDir = f'{inputDir}/results/'\n",
    "sc_exp = pd.read_csv(f'{inputDir}/SC_exp.tsv',sep = '\\t',header=0,index_col=0)\n",
    "sc_meta = pd.read_csv(f'{inputDir}/SC_meta.tsv',sep = '\\t',header=0,index_col=0)\n",
    "st_exp = pd.read_csv(f'{inputDir}/ST_exp.tsv',sep = '\\t',header=0,index_col=0)\n",
    "st_coord = pd.read_csv(f'{inputDir}/ST_coord.csv',sep = ',',header=0,index_col=0)\n",
    "st_decon = pd.read_csv(f'{inputDir}/ST_decon.tsv',sep = '\\t',header=0,index_col=0)\n",
    "sc_smurf = pd.read_csv(f'{inputDir}/smurf_ref.csv',sep = ',',header=0,index_col=0)\n",
    "lr_df = pd.read_csv('./LR/human_LR_pairs.txt',sep='\\t',header=None)"
   ]
  },
  {
   "cell_type": "code",
   "execution_count": 28,
   "metadata": {},
   "outputs": [],
   "source": [
    "st_decon.columns = [x.split('sf_')[-1] for x in st_decon.columns]"
   ]
  },
  {
   "cell_type": "code",
   "execution_count": 25,
   "metadata": {},
   "outputs": [],
   "source": [
    "species = 'Mouse'\n",
    "st_tp = 'visum'\n",
    "meta_key = 'level3_celltype'"
   ]
  },
  {
   "cell_type": "markdown",
   "metadata": {},
   "source": [
    "# Parameters"
   ]
  },
  {
   "cell_type": "code",
   "execution_count": 8,
   "metadata": {},
   "outputs": [],
   "source": [
    "SUM = 1e4\n",
    "alpha, beta, gamma, delta, eta = [1, 0.001, 0.001, 0.1, 0.0005]\n",
    "if st_tp == 'slide-seq':\n",
    "    num_per_spot = 1\n",
    "    repeat_penalty = 2\n",
    "else:\n",
    "    num_per_spot = 10\n",
    "    repeat_penalty = int((st_exp.shape[0] * num_per_spot/sc_exp.shape[0]) * 10)\n",
    "\n",
    "max_rep = 20"
   ]
  },
  {
   "cell_type": "code",
   "execution_count": 9,
   "metadata": {},
   "outputs": [
    {
     "data": {
      "text/plain": [
       "<module 'spamint.sprout_plus' from '/data6/wangjingwan/5.Simpute/SpaMint/spamint/sprout_plus.py'>"
      ]
     },
     "execution_count": 9,
     "metadata": {},
     "output_type": "execute_result"
    }
   ],
   "source": [
    "from importlib import reload\n",
    "reload(sprout_plus)"
   ]
  },
  {
   "cell_type": "markdown",
   "metadata": {},
   "source": [
    "# Preprocess"
   ]
  },
  {
   "cell_type": "code",
   "execution_count": 26,
   "metadata": {},
   "outputs": [
    {
     "name": "stdout",
     "output_type": "stream",
     "text": [
      "Data clean is done! Using 15399 shared genes .\n"
     ]
    }
   ],
   "source": [
    "if st_exp.shape[1]<1e4:\n",
    "    # merfish data, only has 200~500 genes\n",
    "    sc_adata, st_adata, sc_ref, lr_df = pp.prep_all_adata_merfish(sc_exp = sc_exp, st_exp = st_exp, sc_distribution = sc_smurf, \n",
    "                                                        sc_meta = sc_meta, st_coord = st_coord, lr_df = lr_df, SP = species)\n",
    "else:\n",
    "    sc_adata, st_adata, sc_ref, lr_df = pp.prep_all_adata(sc_exp = sc_exp, st_exp = st_exp, sc_distribution = sc_smurf, \n",
    "                                                            sc_meta = sc_meta, st_coord = st_coord, lr_df = lr_df, SP = species)"
   ]
  },
  {
   "cell_type": "code",
   "execution_count": 30,
   "metadata": {},
   "outputs": [
    {
     "name": "stdout",
     "output_type": "stream",
     "text": [
      "sc_ref and sc_adata has different genes, both data are subset to 15399 genes.\n",
      "Parameters checked!\n",
      "Getting svg genes\n",
      "By setting k as 6, each spot has average 5.8408408408408405 neighbors.\n"
     ]
    }
   ],
   "source": [
    "obj_spex = sprout_plus.spaMint(save_path = outDir, st_adata = st_adata, weight = st_decon, \n",
    "                 sc_ref = sc_ref, sc_adata = sc_adata, cell_type_key = meta_key, lr_df = lr_df, \n",
    "                 st_tp = st_tp)\n",
    "obj_spex.prep()"
   ]
  },
  {
   "cell_type": "markdown",
   "metadata": {},
   "source": [
    "# cell selection"
   ]
  },
  {
   "cell_type": "code",
   "execution_count": 31,
   "metadata": {},
   "outputs": [
    {
     "name": "stdout",
     "output_type": "stream",
     "text": [
      "\t Estimating the cell number in each spot by the deconvolution result.\n"
     ]
    },
    {
     "ename": "KeyboardInterrupt",
     "evalue": "",
     "output_type": "error",
     "traceback": [
      "\u001b[0;31m---------------------------------------------------------------------------\u001b[0m",
      "\u001b[0;31mKeyboardInterrupt\u001b[0m                         Traceback (most recent call last)",
      "Cell \u001b[0;32mIn[31], line 1\u001b[0m\n\u001b[0;32m----> 1\u001b[0m sc_agg_meta \u001b[38;5;241m=\u001b[39m \u001b[43mobj_spex\u001b[49m\u001b[38;5;241;43m.\u001b[39;49m\u001b[43mselect_cells\u001b[49m\u001b[43m(\u001b[49m\u001b[43muse_sc_orig\u001b[49m\u001b[43m \u001b[49m\u001b[38;5;241;43m=\u001b[39;49m\u001b[43m \u001b[49m\u001b[38;5;28;43;01mTrue\u001b[39;49;00m\u001b[43m,\u001b[49m\u001b[43m \u001b[49m\u001b[43mp\u001b[49m\u001b[43m \u001b[49m\u001b[38;5;241;43m=\u001b[39;49m\u001b[43m \u001b[49m\u001b[38;5;241;43m0\u001b[39;49m\u001b[43m,\u001b[49m\u001b[43m \u001b[49m\u001b[43mmean_num_per_spot\u001b[49m\u001b[43m \u001b[49m\u001b[38;5;241;43m=\u001b[39;49m\u001b[43m \u001b[49m\u001b[43mnum_per_spot\u001b[49m\u001b[43m,\u001b[49m\u001b[43m \u001b[49m\u001b[43mmode\u001b[49m\u001b[43m \u001b[49m\u001b[38;5;241;43m=\u001b[39;49m\u001b[43m \u001b[49m\u001b[38;5;124;43m'\u001b[39;49m\u001b[38;5;124;43mstrict\u001b[39;49m\u001b[38;5;124;43m'\u001b[39;49m\u001b[43m,\u001b[49m\u001b[43m \u001b[49m\u001b[43mmax_rep\u001b[49m\u001b[43m \u001b[49m\u001b[38;5;241;43m=\u001b[39;49m\u001b[43m \u001b[49m\u001b[38;5;241;43m1\u001b[39;49m\u001b[43m,\u001b[49m\u001b[43m \u001b[49m\n\u001b[1;32m      2\u001b[0m \u001b[43m                                    \u001b[49m\u001b[43mrepeat_penalty\u001b[49m\u001b[43m \u001b[49m\u001b[38;5;241;43m=\u001b[39;49m\u001b[43m \u001b[49m\u001b[43mrepeat_penalty\u001b[49m\u001b[43m)\u001b[49m\n\u001b[1;32m      3\u001b[0m sc_agg_meta\u001b[38;5;241m.\u001b[39mto_csv(\u001b[38;5;124mf\u001b[39m\u001b[38;5;124m'\u001b[39m\u001b[38;5;132;01m{\u001b[39;00moutDir\u001b[38;5;132;01m}\u001b[39;00m\u001b[38;5;124m/spexmod_sc_meta.tsv\u001b[39m\u001b[38;5;124m'\u001b[39m,sep \u001b[38;5;241m=\u001b[39m \u001b[38;5;124m'\u001b[39m\u001b[38;5;130;01m\\t\u001b[39;00m\u001b[38;5;124m'\u001b[39m,header\u001b[38;5;241m=\u001b[39m\u001b[38;5;28;01mTrue\u001b[39;00m,index\u001b[38;5;241m=\u001b[39m\u001b[38;5;28;01mTrue\u001b[39;00m)\n",
      "File \u001b[0;32m/data6/wangjingwan/5.Simpute/SpaMint/spamint/sprout_plus.py:19\u001b[0m, in \u001b[0;36mtimeit.<locals>.wrapper\u001b[0;34m(*args, **kwargs)\u001b[0m\n\u001b[1;32m     17\u001b[0m \u001b[38;5;28;01mdef\u001b[39;00m \u001b[38;5;21mwrapper\u001b[39m(\u001b[38;5;241m*\u001b[39margs, \u001b[38;5;241m*\u001b[39m\u001b[38;5;241m*\u001b[39mkwargs):\n\u001b[1;32m     18\u001b[0m     start \u001b[38;5;241m=\u001b[39m time\u001b[38;5;241m.\u001b[39mtime()\n\u001b[0;32m---> 19\u001b[0m     result \u001b[38;5;241m=\u001b[39m \u001b[43mfunc\u001b[49m\u001b[43m(\u001b[49m\u001b[38;5;241;43m*\u001b[39;49m\u001b[43margs\u001b[49m\u001b[43m,\u001b[49m\u001b[43m \u001b[49m\u001b[38;5;241;43m*\u001b[39;49m\u001b[38;5;241;43m*\u001b[39;49m\u001b[43mkwargs\u001b[49m\u001b[43m)\u001b[49m\n\u001b[1;32m     20\u001b[0m     end \u001b[38;5;241m=\u001b[39m time\u001b[38;5;241m.\u001b[39mtime()\n\u001b[1;32m     21\u001b[0m     logging\u001b[38;5;241m.\u001b[39minfo(\u001b[38;5;124mf\u001b[39m\u001b[38;5;124m'\u001b[39m\u001b[38;5;132;01m{\u001b[39;00mfunc\u001b[38;5;241m.\u001b[39m\u001b[38;5;18m__name__\u001b[39m\u001b[38;5;132;01m}\u001b[39;00m\u001b[38;5;130;01m\\t\u001b[39;00m\u001b[38;5;132;01m{\u001b[39;00mend\u001b[38;5;250m \u001b[39m\u001b[38;5;241m-\u001b[39m\u001b[38;5;250m \u001b[39mstart\u001b[38;5;132;01m}\u001b[39;00m\u001b[38;5;124m seconds\u001b[39m\u001b[38;5;124m'\u001b[39m)\n",
      "File \u001b[0;32m/data6/wangjingwan/5.Simpute/SpaMint/spamint/sprout_plus.py:167\u001b[0m, in \u001b[0;36mspaMint.select_cells\u001b[0;34m(self, use_sc_orig, p, mean_num_per_spot, mode, max_rep, repeat_penalty)\u001b[0m\n\u001b[1;32m    165\u001b[0m \u001b[38;5;28mself\u001b[39m\u001b[38;5;241m.\u001b[39mfilter_st_exp, \u001b[38;5;28mself\u001b[39m\u001b[38;5;241m.\u001b[39mfilter_sc_exp \u001b[38;5;241m=\u001b[39m pp\u001b[38;5;241m.\u001b[39msubset_inter(\u001b[38;5;28mself\u001b[39m\u001b[38;5;241m.\u001b[39mst_exp, \u001b[38;5;28mself\u001b[39m\u001b[38;5;241m.\u001b[39msc_exp)\n\u001b[1;32m    166\u001b[0m \u001b[38;5;66;03m# 2. feature selection\u001b[39;00m\n\u001b[0;32m--> 167\u001b[0m \u001b[38;5;28mself\u001b[39m\u001b[38;5;241m.\u001b[39msort_genes \u001b[38;5;241m=\u001b[39m \u001b[43mcell_selection\u001b[49m\u001b[38;5;241;43m.\u001b[39;49m\u001b[43mfeature_sort\u001b[49m\u001b[43m(\u001b[49m\u001b[38;5;28;43mself\u001b[39;49m\u001b[38;5;241;43m.\u001b[39;49m\u001b[43mfilter_sc_exp\u001b[49m\u001b[43m,\u001b[49m\u001b[43m \u001b[49m\u001b[43mdegree\u001b[49m\u001b[43m \u001b[49m\u001b[38;5;241;43m=\u001b[39;49m\u001b[43m \u001b[49m\u001b[38;5;241;43m2\u001b[39;49m\u001b[43m,\u001b[49m\u001b[43m \u001b[49m\u001b[43mspan\u001b[49m\u001b[43m \u001b[49m\u001b[38;5;241;43m=\u001b[39;49m\u001b[43m \u001b[49m\u001b[38;5;241;43m0.3\u001b[39;49m\u001b[43m)\u001b[49m\n\u001b[1;32m    168\u001b[0m \u001b[38;5;28mself\u001b[39m\u001b[38;5;241m.\u001b[39mlr_hvg_genes \u001b[38;5;241m=\u001b[39m cell_selection\u001b[38;5;241m.\u001b[39mlr_shared_top_k_gene(\u001b[38;5;28mself\u001b[39m\u001b[38;5;241m.\u001b[39msort_genes, \u001b[38;5;28mself\u001b[39m\u001b[38;5;241m.\u001b[39mlr_df, k \u001b[38;5;241m=\u001b[39m \u001b[38;5;241m3000\u001b[39m, keep_lr_per \u001b[38;5;241m=\u001b[39m \u001b[38;5;241m1\u001b[39m)\n\u001b[1;32m    169\u001b[0m \u001b[38;5;28mprint\u001b[39m(\u001b[38;5;124mf\u001b[39m\u001b[38;5;124m'\u001b[39m\u001b[38;5;130;01m\\t\u001b[39;00m\u001b[38;5;124m SpexMod selects \u001b[39m\u001b[38;5;132;01m{\u001b[39;00m\u001b[38;5;28mlen\u001b[39m(\u001b[38;5;28mself\u001b[39m\u001b[38;5;241m.\u001b[39mlr_hvg_genes)\u001b[38;5;132;01m}\u001b[39;00m\u001b[38;5;124m feature genes.\u001b[39m\u001b[38;5;124m'\u001b[39m)\n",
      "File \u001b[0;32m/data6/wangjingwan/5.Simpute/SpaMint/spamint/cell_selection.py:17\u001b[0m, in \u001b[0;36mtimeit.<locals>.wrapper\u001b[0;34m(*args, **kwargs)\u001b[0m\n\u001b[1;32m     15\u001b[0m \u001b[38;5;28;01mdef\u001b[39;00m \u001b[38;5;21mwrapper\u001b[39m(\u001b[38;5;241m*\u001b[39margs, \u001b[38;5;241m*\u001b[39m\u001b[38;5;241m*\u001b[39mkwargs):\n\u001b[1;32m     16\u001b[0m     start \u001b[38;5;241m=\u001b[39m time\u001b[38;5;241m.\u001b[39mtime()\n\u001b[0;32m---> 17\u001b[0m     result \u001b[38;5;241m=\u001b[39m \u001b[43mfunc\u001b[49m\u001b[43m(\u001b[49m\u001b[38;5;241;43m*\u001b[39;49m\u001b[43margs\u001b[49m\u001b[43m,\u001b[49m\u001b[43m \u001b[49m\u001b[38;5;241;43m*\u001b[39;49m\u001b[38;5;241;43m*\u001b[39;49m\u001b[43mkwargs\u001b[49m\u001b[43m)\u001b[49m\n\u001b[1;32m     18\u001b[0m     end \u001b[38;5;241m=\u001b[39m time\u001b[38;5;241m.\u001b[39mtime()\n\u001b[1;32m     19\u001b[0m     logging\u001b[38;5;241m.\u001b[39minfo(\u001b[38;5;124mf\u001b[39m\u001b[38;5;124m'\u001b[39m\u001b[38;5;132;01m{\u001b[39;00mfunc\u001b[38;5;241m.\u001b[39m\u001b[38;5;18m__name__\u001b[39m\u001b[38;5;132;01m}\u001b[39;00m\u001b[38;5;130;01m\\t\u001b[39;00m\u001b[38;5;132;01m{\u001b[39;00mend\u001b[38;5;250m \u001b[39m\u001b[38;5;241m-\u001b[39m\u001b[38;5;250m \u001b[39mstart\u001b[38;5;132;01m}\u001b[39;00m\u001b[38;5;124m seconds\u001b[39m\u001b[38;5;124m'\u001b[39m)\n",
      "File \u001b[0;32m/data6/wangjingwan/5.Simpute/SpaMint/spamint/cell_selection.py:117\u001b[0m, in \u001b[0;36mfeature_sort\u001b[0;34m(exp, degree, span)\u001b[0m\n\u001b[1;32m    115\u001b[0m mean \u001b[38;5;241m=\u001b[39m np\u001b[38;5;241m.\u001b[39marray(np\u001b[38;5;241m.\u001b[39mlog10(exp\u001b[38;5;241m.\u001b[39mmean(axis\u001b[38;5;241m=\u001b[39m\u001b[38;5;241m1\u001b[39m) \u001b[38;5;241m+\u001b[39m REALMIN))\n\u001b[1;32m    116\u001b[0m \u001b[38;5;66;03m# 3. fit model \u001b[39;00m\n\u001b[0;32m--> 117\u001b[0m xout, yout, wout \u001b[38;5;241m=\u001b[39m \u001b[43mloess_1d\u001b[49m\u001b[43m(\u001b[49m\u001b[43mmean\u001b[49m\u001b[43m,\u001b[49m\u001b[43m \u001b[49m\u001b[43mvar\u001b[49m\u001b[43m,\u001b[49m\u001b[43m \u001b[49m\u001b[43mfrac\u001b[49m\u001b[43m \u001b[49m\u001b[38;5;241;43m=\u001b[39;49m\u001b[43m \u001b[49m\u001b[43mspan\u001b[49m\u001b[43m,\u001b[49m\u001b[43m \u001b[49m\u001b[43mdegree\u001b[49m\u001b[43m \u001b[49m\u001b[38;5;241;43m=\u001b[39;49m\u001b[43m \u001b[49m\u001b[43mdegree\u001b[49m\u001b[43m,\u001b[49m\u001b[43m \u001b[49m\u001b[43mrotate\u001b[49m\u001b[38;5;241;43m=\u001b[39;49m\u001b[38;5;28;43;01mFalse\u001b[39;49;00m\u001b[43m)\u001b[49m\n\u001b[1;32m    118\u001b[0m \u001b[38;5;66;03m# 4. calculate standaridized value\u001b[39;00m\n\u001b[1;32m    119\u001b[0m exp_center \u001b[38;5;241m=\u001b[39m exp\u001b[38;5;241m.\u001b[39mapply(\u001b[38;5;28;01mlambda\u001b[39;00m x: x \u001b[38;5;241m-\u001b[39m np\u001b[38;5;241m.\u001b[39mmean(x), axis\u001b[38;5;241m=\u001b[39m\u001b[38;5;241m1\u001b[39m)\n",
      "File \u001b[0;32m~/.local/lib/python3.8/site-packages/loess/loess_1d.py:276\u001b[0m, in \u001b[0;36mloess_1d\u001b[0;34m(x, y, xnew, degree, frac, npoints, rotate, sigy)\u001b[0m\n\u001b[1;32m    274\u001b[0m biweights \u001b[38;5;241m=\u001b[39m (\u001b[38;5;241m1\u001b[39m \u001b[38;5;241m-\u001b[39m uu)\u001b[38;5;241m*\u001b[39m\u001b[38;5;241m*\u001b[39m\u001b[38;5;241m2\u001b[39m\n\u001b[1;32m    275\u001b[0m tot_weights \u001b[38;5;241m=\u001b[39m dist_weights\u001b[38;5;241m*\u001b[39mbiweights\n\u001b[0;32m--> 276\u001b[0m poly \u001b[38;5;241m=\u001b[39m \u001b[43mpolyfit1d\u001b[49m\u001b[43m(\u001b[49m\u001b[43mx\u001b[49m\u001b[43m[\u001b[49m\u001b[43mw\u001b[49m\u001b[43m]\u001b[49m\u001b[43m,\u001b[49m\u001b[43m \u001b[49m\u001b[43my\u001b[49m\u001b[43m[\u001b[49m\u001b[43mw\u001b[49m\u001b[43m]\u001b[49m\u001b[43m,\u001b[49m\u001b[43m \u001b[49m\u001b[43mdegree\u001b[49m\u001b[43m,\u001b[49m\u001b[43m \u001b[49m\u001b[43mtot_weights\u001b[49m\u001b[43m)\u001b[49m\n\u001b[1;32m    277\u001b[0m yfit \u001b[38;5;241m=\u001b[39m poly\u001b[38;5;241m.\u001b[39myfit\n\u001b[1;32m    278\u001b[0m badOld \u001b[38;5;241m=\u001b[39m bad\n",
      "File \u001b[0;32m~/.local/lib/python3.8/site-packages/loess/loess_1d.py:81\u001b[0m, in \u001b[0;36mpolyfit1d.__init__\u001b[0;34m(self, x, y, degree, weights)\u001b[0m\n\u001b[1;32m     67\u001b[0m \u001b[38;5;250m\u001b[39m\u001b[38;5;124;03m\"\"\"\u001b[39;00m\n\u001b[1;32m     68\u001b[0m \u001b[38;5;124;03mFit a univariate polynomial of given DEGREE to a set of points\u001b[39;00m\n\u001b[1;32m     69\u001b[0m \u001b[38;5;124;03m(X, Y), assuming errors in the Y variable only and weights=1/sigy^2.\u001b[39;00m\n\u001b[0;32m   (...)\u001b[0m\n\u001b[1;32m     78\u001b[0m \n\u001b[1;32m     79\u001b[0m \u001b[38;5;124;03m\"\"\"\u001b[39;00m\n\u001b[1;32m     80\u001b[0m sqw \u001b[38;5;241m=\u001b[39m np\u001b[38;5;241m.\u001b[39msqrt(weights)\n\u001b[0;32m---> 81\u001b[0m a \u001b[38;5;241m=\u001b[39m \u001b[43mx\u001b[49m\u001b[43m[\u001b[49m\u001b[43m:\u001b[49m\u001b[43m,\u001b[49m\u001b[43m \u001b[49m\u001b[38;5;28;43;01mNone\u001b[39;49;00m\u001b[43m]\u001b[49m\u001b[38;5;241;43m*\u001b[39;49m\u001b[38;5;241;43m*\u001b[39;49m\u001b[43mnp\u001b[49m\u001b[38;5;241;43m.\u001b[39;49m\u001b[43marange\u001b[49m\u001b[43m(\u001b[49m\u001b[43mdegree\u001b[49m\u001b[43m \u001b[49m\u001b[38;5;241;43m+\u001b[39;49m\u001b[43m \u001b[49m\u001b[38;5;241;43m1\u001b[39;49m\u001b[43m)\u001b[49m\n\u001b[1;32m     82\u001b[0m \u001b[38;5;28mself\u001b[39m\u001b[38;5;241m.\u001b[39mdegree \u001b[38;5;241m=\u001b[39m degree\n\u001b[1;32m     83\u001b[0m \u001b[38;5;28mself\u001b[39m\u001b[38;5;241m.\u001b[39mcoeff \u001b[38;5;241m=\u001b[39m np\u001b[38;5;241m.\u001b[39mlinalg\u001b[38;5;241m.\u001b[39mlstsq(a\u001b[38;5;241m*\u001b[39msqw[:, \u001b[38;5;28;01mNone\u001b[39;00m], y\u001b[38;5;241m*\u001b[39msqw, rcond\u001b[38;5;241m=\u001b[39m\u001b[38;5;28;01mNone\u001b[39;00m)[\u001b[38;5;241m0\u001b[39m]\n",
      "\u001b[0;31mKeyboardInterrupt\u001b[0m: "
     ]
    }
   ],
   "source": [
    "sc_agg_meta = obj_spex.select_cells(use_sc_orig = True, p = 0, mean_num_per_spot = num_per_spot, mode = 'strict', max_rep = 1, \n",
    "                                    repeat_penalty = repeat_penalty)\n",
    "sc_agg_meta.to_csv(f'{outDir}/spexmod_sc_meta.tsv',sep = '\\t',header=True,index=True)"
   ]
  },
  {
   "cell_type": "markdown",
   "metadata": {},
   "source": [
    "if p != 0, extremely time consuming"
   ]
  },
  {
   "cell_type": "code",
   "execution_count": 30,
   "metadata": {},
   "outputs": [
    {
     "name": "stdout",
     "output_type": "stream",
     "text": [
      "\t Estimating the cell number in each spot by the deconvolution result.\n",
      "\t SpexMod selects 882 feature genes.\n",
      "\t Init solution: max - 1.0000,     mean - 0.9614,     min - 0.6215\n",
      "\t Swap selection start...\n",
      "\t Swapped solution: max - 1.00,     mean - 0.98,     min - 0.61\n"
     ]
    }
   ],
   "source": [
    "# change p to 0.1, use different code to select cells\n",
    "sc_agg_meta = obj_spex.select_cells(use_sc_orig = True, p = 0.1, mean_num_per_spot = num_per_spot, mode = 'strict', max_rep = 1, \n",
    "                                    repeat_penalty = repeat_penalty)\n",
    "sc_agg_meta.to_csv(f'{outDir}/spexmod_sc_meta.tsv',sep = '\\t',header=True,index=True)"
   ]
  },
  {
   "cell_type": "code",
   "execution_count": 31,
   "metadata": {},
   "outputs": [
    {
     "name": "stdout",
     "output_type": "stream",
     "text": [
      "Running v12 now...\n",
      "Init sc_coord by affinity embedding...\n",
      "Avearge shape correlation is: 0.9775563419483628\n",
      "First-term calculation done!\n",
      "Second-term calculation done!\n",
      "Third term calculation done!\n",
      "Fourth term calculation done!\n",
      "Hyperparameters adjusted.\n",
      "-----Start iteration 0 -----\n",
      "Avearge shape correlation is: 0.9775563419483628\n",
      "First-term calculation done!\n",
      "Second-term calculation done!\n",
      "Third term calculation done!\n",
      "Fourth term calculation done!\n",
      "---0 self.loss4 231.45334216469772 self.GAMMA 0.004929331087856589 self.GAMMA*self.loss4 1.1409101549207525\n",
      "---In iteration 0, the loss is:loss1:1140.91015,loss2:2445.32648,loss3:496.65820,loss4:231.45334,loss5:2943.01440.\n",
      "---In iteration 0, the loss is:loss1:1140.91015,loss2:1140.91015,loss3:1.14091,loss4:1.14091,loss5:114.09102.\n",
      "The total loss after iteration 0 is 2398.19315.\n",
      "-----Start iteration 1 -----\n",
      "Avearge shape correlation is: 0.978597862997212\n",
      "First-term calculation done!\n",
      "Second-term calculation done!\n",
      "Third term calculation done!\n",
      "Fourth term calculation done!\n",
      "---1 self.loss4 226.79467989622168 self.GAMMA 0.004929331087856589 self.GAMMA*self.loss4 1.1179460661729292\n",
      "---In iteration 1, the loss is:loss1:1138.69514,loss2:2442.40921,loss3:530.25528,loss4:226.79468,loss5:2939.78101.\n",
      "---In iteration 1, the loss is:loss1:1138.69514,loss2:1139.54905,loss3:1.21809,loss4:1.11795,loss5:113.96567.\n",
      "The total loss after iteration 1 is 2394.54589.\n",
      "-----Start iteration 2 -----\n",
      "Avearge shape correlation is: 0.9786510642999673\n",
      "First-term calculation done!\n",
      "Second-term calculation done!\n",
      "Third term calculation done!\n",
      "Fourth term calculation done!\n",
      "---2 self.loss4 226.67741911721095 self.GAMMA 0.004929331087856589 self.GAMMA*self.loss4 1.1173680489695652\n",
      "---In iteration 2, the loss is:loss1:1136.48468,loss2:2439.49706,loss3:523.77133,loss4:226.67742,loss5:2936.55226.\n",
      "---In iteration 2, the loss is:loss1:1136.48468,loss2:1138.19033,loss3:1.20319,loss4:1.11737,loss5:113.84050.\n",
      "The total loss after iteration 2 is 2390.83608.\n",
      "-----Start iteration 3 -----\n",
      "Avearge shape correlation is: 0.9785234448868075\n",
      "First-term calculation done!\n",
      "Second-term calculation done!\n",
      "Third term calculation done!\n",
      "Fourth term calculation done!\n",
      "---3 self.loss4 226.1295597599646 self.GAMMA 0.004929331087856589 self.GAMMA*self.loss4 1.1146674688081177\n",
      "---In iteration 3, the loss is:loss1:1134.27873,loss2:2436.59009,loss3:508.93795,loss4:226.12956,loss5:2933.32899.\n",
      "---In iteration 3, the loss is:loss1:1134.27873,loss2:1136.83404,loss3:1.16912,loss4:1.11467,loss5:113.71554.\n",
      "The total loss after iteration 3 is 2387.11210.\n",
      "-----Start iteration 4 -----\n",
      "Avearge shape correlation is: 0.9771310161145249\n",
      "First-term calculation done!\n",
      "Second-term calculation done!\n",
      "Third term calculation done!\n",
      "Fourth term calculation done!\n",
      "---4 self.loss4 225.28793939680284 self.GAMMA 0.004929331087856589 self.GAMMA*self.loss4 1.1105188433878113\n",
      "---In iteration 4, the loss is:loss1:1132.07712,loss2:2433.68797,loss3:521.62106,loss4:225.28794,loss5:2930.11084.\n",
      "---In iteration 4, the loss is:loss1:1132.07712,loss2:1135.48000,loss3:1.19825,loss4:1.11052,loss5:113.59079.\n",
      "The total loss after iteration 4 is 2383.45668.\n",
      "-----Start iteration 5 -----\n",
      "Avearge shape correlation is: 0.9779094826380156\n",
      "First-term calculation done!\n",
      "Second-term calculation done!\n",
      "Third term calculation done!\n",
      "Fourth term calculation done!\n",
      "---5 self.loss4 227.26848190392448 self.GAMMA 0.004929331087856589 self.GAMMA*self.loss4 1.1202815931389876\n",
      "---In iteration 5, the loss is:loss1:1129.87996,loss2:2430.79099,loss3:524.87418,loss4:227.26848,loss5:2926.89811.\n",
      "---In iteration 5, the loss is:loss1:1129.87996,loss2:1134.12837,loss3:1.20573,loss4:1.12028,loss5:113.46624.\n",
      "The total loss after iteration 5 is 2379.80058.\n",
      "-----Start iteration 6 -----\n",
      "Avearge shape correlation is: 0.9782219717025434\n",
      "First-term calculation done!\n",
      "Second-term calculation done!\n",
      "Third term calculation done!\n",
      "Fourth term calculation done!\n",
      "---6 self.loss4 223.36876213715817 self.GAMMA 0.004929331087856589 self.GAMMA*self.loss4 1.1010585832587374\n",
      "---In iteration 6, the loss is:loss1:1127.68729,loss2:2427.89922,loss3:506.68621,loss4:223.36876,loss5:2923.69090.\n",
      "---In iteration 6, the loss is:loss1:1127.68729,loss2:1132.77916,loss3:1.16395,loss4:1.10106,loss5:113.34191.\n",
      "The total loss after iteration 6 is 2376.07336.\n",
      "-----Start iteration 7 -----\n",
      "Avearge shape correlation is: 0.9772312651768663\n",
      "First-term calculation done!\n",
      "Second-term calculation done!\n",
      "Third term calculation done!\n",
      "Fourth term calculation done!\n",
      "---7 self.loss4 224.54197679504597 self.GAMMA 0.004929331087856589 self.GAMMA*self.loss4 1.1068417467445928\n",
      "---In iteration 7, the loss is:loss1:1125.49903,loss2:2425.01236,loss3:491.82793,loss4:224.54198,loss5:2920.48886.\n",
      "---In iteration 7, the loss is:loss1:1125.49903,loss2:1131.43225,loss3:1.12981,loss4:1.10684,loss5:113.21777.\n",
      "The total loss after iteration 7 is 2372.38571.\n",
      "-----Start iteration 8 -----\n",
      "Avearge shape correlation is: 0.977261492388239\n",
      "First-term calculation done!\n",
      "Second-term calculation done!\n",
      "Third term calculation done!\n",
      "Fourth term calculation done!\n",
      "---8 self.loss4 221.35834092675728 self.GAMMA 0.004929331087856589 self.GAMMA*self.loss4 1.0911485514866222\n",
      "---In iteration 8, the loss is:loss1:1123.31523,loss2:2422.13073,loss3:508.79398,loss4:221.35834,loss5:2917.29237.\n",
      "---In iteration 8, the loss is:loss1:1123.31523,loss2:1130.08777,loss3:1.16879,loss4:1.09115,loss5:113.09386.\n",
      "The total loss after iteration 8 is 2368.75679.\n",
      "-----Start iteration 9 -----\n",
      "Avearge shape correlation is: 0.9761836112839638\n",
      "First-term calculation done!\n",
      "Second-term calculation done!\n",
      "Third term calculation done!\n",
      "Fourth term calculation done!\n",
      "---9 self.loss4 222.03028155894663 self.GAMMA 0.004929331087856589 self.GAMMA*self.loss4 1.094460769334067\n",
      "---In iteration 9, the loss is:loss1:1121.13583,loss2:2419.25396,loss3:507.90410,loss4:222.03028,loss5:2914.10101.\n",
      "---In iteration 9, the loss is:loss1:1121.13583,loss2:1128.74556,loss3:1.16674,loss4:1.09446,loss5:112.97014.\n",
      "The total loss after iteration 9 is 2365.11274.\n",
      "-----Start iteration 10 -----\n",
      "Avearge shape correlation is: 0.978551805076107\n",
      "First-term calculation done!\n",
      "Second-term calculation done!\n",
      "Third term calculation done!\n",
      "Fourth term calculation done!\n",
      "---10 self.loss4 220.48521477142023 self.GAMMA 0.004929331087856589 self.GAMMA*self.loss4 1.0868446235854985\n",
      "---In iteration 10, the loss is:loss1:1118.96076,loss2:2416.38227,loss3:500.37776,loss4:220.48521,loss5:2910.91502.\n",
      "---In iteration 10, the loss is:loss1:1118.96076,loss2:1127.40573,loss3:1.14945,loss4:1.08684,loss5:112.84663.\n",
      "The total loss after iteration 10 is 2361.44942.\n",
      "-----Start iteration 11 -----\n",
      "Avearge shape correlation is: 0.9777334540279087\n",
      "First-term calculation done!\n",
      "Second-term calculation done!\n",
      "Third term calculation done!\n",
      "Fourth term calculation done!\n",
      "---11 self.loss4 221.2753451146949 self.GAMMA 0.004929331087856589 self.GAMMA*self.loss4 1.090739437650061\n",
      "---In iteration 11, the loss is:loss1:1116.79017,loss2:2413.51567,loss3:543.40628,loss4:221.27535,loss5:2907.73441.\n",
      "---In iteration 11, the loss is:loss1:1116.79017,loss2:1126.06826,loss3:1.24830,loss4:1.09074,loss5:112.72333.\n",
      "The total loss after iteration 11 is 2357.92080.\n",
      "-----Start iteration 12 -----\n",
      "Avearge shape correlation is: 0.9797934153445566\n",
      "First-term calculation done!\n",
      "Second-term calculation done!\n",
      "Third term calculation done!\n",
      "Fourth term calculation done!\n",
      "---12 self.loss4 224.9744797119048 self.GAMMA 0.004929331087856589 self.GAMMA*self.loss4 1.1089736968182538\n",
      "---In iteration 12, the loss is:loss1:1114.62399,loss2:2410.65418,loss3:498.95895,loss4:224.97448,loss5:2904.55919.\n",
      "---In iteration 12, the loss is:loss1:1114.62399,loss2:1124.73318,loss3:1.14620,loss4:1.10897,loss5:112.60023.\n",
      "The total loss after iteration 12 is 2354.21258.\n",
      "-----Start iteration 13 -----\n",
      "Avearge shape correlation is: 0.9766118909250436\n",
      "First-term calculation done!\n",
      "Second-term calculation done!\n",
      "Third term calculation done!\n",
      "Fourth term calculation done!\n",
      "---13 self.loss4 226.369694872467 self.GAMMA 0.004929331087856589 self.GAMMA*self.loss4 1.1158511742834618\n",
      "---In iteration 13, the loss is:loss1:1112.46205,loss2:2407.79746,loss3:506.11147,loss4:226.36969,loss5:2901.38903.\n",
      "---In iteration 13, the loss is:loss1:1112.46205,loss2:1123.40033,loss3:1.16263,loss4:1.11585,loss5:112.47734.\n",
      "The total loss after iteration 13 is 2350.61819.\n",
      "-----Start iteration 14 -----\n",
      "Avearge shape correlation is: 0.9781078876514201\n",
      "First-term calculation done!\n",
      "Second-term calculation done!\n",
      "Third term calculation done!\n",
      "Fourth term calculation done!\n",
      "---14 self.loss4 223.5952120538318 self.GAMMA 0.004929331087856589 self.GAMMA*self.loss4 1.1021748298728393\n",
      "---In iteration 14, the loss is:loss1:1110.30445,loss2:2404.94570,loss3:527.17957,loss4:223.59521,loss5:2898.22407.\n",
      "---In iteration 14, the loss is:loss1:1110.30445,loss2:1122.06979,loss3:1.21102,loss4:1.10217,loss5:112.35464.\n",
      "The total loss after iteration 14 is 2347.04208.\n",
      "-----Start iteration 15 -----\n",
      "Avearge shape correlation is: 0.9786808608233155\n",
      "First-term calculation done!\n",
      "Second-term calculation done!\n",
      "Third term calculation done!\n",
      "Fourth term calculation done!\n",
      "---15 self.loss4 222.23690802704175 self.GAMMA 0.004929331087856589 self.GAMMA*self.loss4 1.0954792996068223\n",
      "---In iteration 15, the loss is:loss1:1108.15129,loss2:2402.09906,loss3:487.93846,loss4:222.23691,loss5:2895.06457.\n",
      "---In iteration 15, the loss is:loss1:1108.15129,loss2:1120.74164,loss3:1.12088,loss4:1.09548,loss5:112.23216.\n",
      "The total loss after iteration 15 is 2343.34145.\n",
      "-----Start iteration 16 -----\n",
      "Avearge shape correlation is: 0.9778424766752755\n",
      "First-term calculation done!\n",
      "Second-term calculation done!\n",
      "Third term calculation done!\n",
      "Fourth term calculation done!\n",
      "---16 self.loss4 216.50508621913724 self.GAMMA 0.004929331087856589 self.GAMMA*self.loss4 1.0672252521790644\n",
      "---In iteration 16, the loss is:loss1:1106.00250,loss2:2399.25730,loss3:471.82028,loss4:216.50509,loss5:2891.91022.\n",
      "---In iteration 16, the loss is:loss1:1106.00250,loss2:1119.41577,loss3:1.08385,loss4:1.06723,loss5:112.10987.\n",
      "The total loss after iteration 16 is 2339.67922.\n",
      "-----Start iteration 17 -----\n",
      "Avearge shape correlation is: 0.9777419182449368\n",
      "First-term calculation done!\n",
      "Second-term calculation done!\n",
      "Third term calculation done!\n",
      "Fourth term calculation done!\n",
      "---17 self.loss4 221.3659331118807 self.GAMMA 0.004929331087856589 self.GAMMA*self.loss4 1.0911859758807758\n",
      "---In iteration 17, the loss is:loss1:1103.85805,loss2:2396.42065,loss3:518.41613,loss4:221.36593,loss5:2888.76128.\n",
      "---In iteration 17, the loss is:loss1:1103.85805,loss2:1118.09228,loss3:1.19089,loss4:1.09119,loss5:111.98780.\n",
      "The total loss after iteration 17 is 2336.22020.\n",
      "-----Start iteration 18 -----\n",
      "Avearge shape correlation is: 0.9787560668661582\n",
      "First-term calculation done!\n",
      "Second-term calculation done!\n",
      "Third term calculation done!\n",
      "Fourth term calculation done!\n",
      "---18 self.loss4 219.40060919220906 self.GAMMA 0.004929331087856589 self.GAMMA*self.loss4 1.0814982435858302\n",
      "---In iteration 18, the loss is:loss1:1101.71789,loss2:2393.58887,loss3:509.05760,loss4:219.40061,loss5:2885.61749.\n",
      "---In iteration 18, the loss is:loss1:1101.71789,loss2:1116.77106,loss3:1.16939,loss4:1.08150,loss5:111.86593.\n",
      "The total loss after iteration 18 is 2332.60576.\n",
      "-----Start iteration 19 -----\n",
      "Avearge shape correlation is: 0.9788779782385238\n",
      "First-term calculation done!\n",
      "Second-term calculation done!\n",
      "Third term calculation done!\n",
      "Fourth term calculation done!\n",
      "---19 self.loss4 223.62469810672306 self.GAMMA 0.004929331087856589 self.GAMMA*self.loss4 1.1023201763900143\n",
      "---In iteration 19, the loss is:loss1:1099.58209,loss2:2390.76211,loss3:550.17316,loss4:223.62470,loss5:2882.47901.\n",
      "---In iteration 19, the loss is:loss1:1099.58209,loss2:1115.45219,loss3:1.26384,loss4:1.10232,loss5:111.74426.\n",
      "The total loss after iteration 19 is 2329.14470.\n",
      "Avearge shape correlation is: 0.9800505482332755\n"
     ]
    }
   ],
   "source": [
    "alter_sc_exp, sc_agg_meta = obj_spex.gradient_descent(\n",
    "                alpha, beta, gamma, delta, eta, \n",
    "                init_sc_embed = False,\n",
    "                iteration = max_rep, k = 2, W_HVG = 2,\n",
    "                left_range = 1, right_range = 2, steps = 1, dim = 2)\n",
    "sc_agg_meta.to_csv(f'{outDir}/spexmod_sc_meta.tsv',sep = '\\t',header=True,index=True)\n",
    "with open(f'{outDir}/sc_knn.json', 'w') as fp:\n",
    "    json.dump(obj_spex.sc_knn, fp)\n",
    "# utils.save_object(obj_spex, f'{outDir}/obj_spex.pkl')\n"
   ]
  }
 ],
 "metadata": {
  "kernelspec": {
   "display_name": "Python 3.8.8 ('base')",
   "language": "python",
   "name": "python3"
  },
  "language_info": {
   "codemirror_mode": {
    "name": "ipython",
    "version": 3
   },
   "file_extension": ".py",
   "mimetype": "text/x-python",
   "name": "python",
   "nbconvert_exporter": "python",
   "pygments_lexer": "ipython3",
   "version": "3.8.10"
  },
  "orig_nbformat": 4,
  "vscode": {
   "interpreter": {
    "hash": "7786051ca713700aed95fca0518a8a985661b55e7fd6f71a0a277d271e5f8daf"
   }
  }
 },
 "nbformat": 4,
 "nbformat_minor": 2
}
