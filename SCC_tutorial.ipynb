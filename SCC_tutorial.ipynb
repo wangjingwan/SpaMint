{
 "cells": [
  {
   "cell_type": "code",
   "execution_count": 4,
   "metadata": {},
   "outputs": [],
   "source": [
    "import os, sys\n",
    "import scanpy as sc\n",
    "import pandas as pd\n",
    "import numpy as np\n",
    "import json\n",
    "import warnings\n",
    "warnings.filterwarnings(\"ignore\")"
   ]
  },
  {
   "cell_type": "code",
   "execution_count": 2,
   "metadata": {},
   "outputs": [],
   "source": [
    "from spamint import sprout_plus\n",
    "from spamint import preprocess as pp\n",
    "#import logging\n",
    "#logger = logging.getLogger(__name__)\n",
    "logger = sprout_plus.logger"
   ]
  },
  {
   "attachments": {},
   "cell_type": "markdown",
   "metadata": {},
   "source": [
    "# 1. Load files"
   ]
  },
  {
   "cell_type": "code",
   "execution_count": 5,
   "metadata": {},
   "outputs": [
    {
     "name": "stdout",
     "output_type": "stream",
     "text": [
      "[2024-07-16 14:03:38,176/INFO] Loading files...\n",
      "[2024-07-16 14:04:36,437/INFO] File loading complete\n"
     ]
    }
   ],
   "source": [
    "logger.info(\"Loading files...\")\n",
    "inputDir = './scc_data/'\n",
    "outDir = f'{inputDir}/results/'\n",
    "sc_exp = pd.read_csv(f'{inputDir}/SC_exp.tsv',sep = '\\t',header=0,index_col=0)\n",
    "sc_meta = pd.read_csv(f'{inputDir}/SC_meta.tsv',sep = '\\t',header=0,index_col=0)\n",
    "st_exp = pd.read_csv(f'{inputDir}/ST_exp.tsv',sep = '\\t',header=0,index_col=0)\n",
    "st_coord = pd.read_csv(f'{inputDir}/ST_coord.csv',sep = ',',header=0,index_col=0)\n",
    "st_decon = pd.read_csv(f'{inputDir}/ST_decon.tsv',sep = '\\t',header=0,index_col=0)\n",
    "sc_smurf = pd.read_csv(f'{inputDir}/smurf_ref.csv',sep = ',',header=0,index_col=0)\n",
    "lr_df = pd.read_csv('./LR/human_LR_pairs.txt',sep='\\t',header=None)\n",
    "logger.info(\"File loading complete\")"
   ]
  },
  {
   "cell_type": "markdown",
   "metadata": {},
   "source": [
    "# Parameters"
   ]
  },
  {
   "cell_type": "code",
   "execution_count": 11,
   "metadata": {},
   "outputs": [
    {
     "name": "stdout",
     "output_type": "stream",
     "text": [
      "[2024-07-16 14:36:58,975/INFO] Setting parameters...\n"
     ]
    }
   ],
   "source": [
    "logger.info(\"Setting parameters...\")\n",
    "st_decon.columns = [x.split('sf_')[-1] for x in st_decon.columns]\n",
    "species = 'Human'\n",
    "st_tp = 'visum'\n",
    "meta_key = 'level3_celltype'\n",
    "SUM = 1e4\n",
    "alpha, beta, gamma, delta, eta = [1, 0.001, 0.001, 0.1, 0.0005]\n",
    "if st_tp == 'slide-seq':\n",
    "    num_per_spot = 1\n",
    "    repeat_penalty = 2\n",
    "else:\n",
    "    num_per_spot = 10\n",
    "    repeat_penalty = int((st_exp.shape[0] * num_per_spot/sc_exp.shape[0]) * 10)\n",
    "\n",
    "max_rep = 3"
   ]
  },
  {
   "cell_type": "code",
   "execution_count": 98,
   "metadata": {},
   "outputs": [
    {
     "name": "stdout",
     "output_type": "stream",
     "text": [
      "[2024-07-16 16:59:42,243/DEBUG] Reloading all SpaMint modules\n",
      "spamint\n",
      "spamint.utils\n",
      "spamint.optimizers\n",
      "spamint.preprocess\n",
      "spamint.cell_selection\n",
      "spamint.gradient_descent\n",
      "spamint.sprout_plus\n"
     ]
    }
   ],
   "source": [
    "logger.debug(\"Reloading all SpaMint modules\")\n",
    "import importlib\n",
    "l = [module for module in sys.modules.values() if module.__name__.startswith('spamint')]\n",
    "for module in l:\n",
    "    try:\n",
    "        if module.__name__.startswith('spamint'):\n",
    "            print(module.__name__)\n",
    "            importlib.reload(module)\n",
    "    except:\n",
    "        pass"
   ]
  },
  {
   "cell_type": "markdown",
   "metadata": {},
   "source": [
    "# Preprocess"
   ]
  },
  {
   "cell_type": "code",
   "execution_count": 99,
   "metadata": {},
   "outputs": [
    {
     "name": "stdout",
     "output_type": "stream",
     "text": [
      "[2024-07-16 16:59:48,204/DEBUG] Data clean is done! Using 15386 shared genes .\n"
     ]
    }
   ],
   "source": [
    "if st_exp.shape[1]<1e4:\n",
    "    # merfish data, only has 200~500 genes\n",
    "    sc_adata, st_adata, sc_ref, lr_df = pp.prep_all_adata_merfish(sc_exp = sc_exp, st_exp = st_exp, sc_distribution = sc_smurf, \n",
    "                                                        sc_meta = sc_meta, st_coord = st_coord, lr_df = lr_df, SP = species)\n",
    "else:\n",
    "    sc_adata, st_adata, sc_ref, lr_df = pp.prep_all_adata(sc_exp = sc_exp, st_exp = st_exp, sc_distribution = sc_smurf, \n",
    "                                                            sc_meta = sc_meta, st_coord = st_coord, lr_df = lr_df, SP = species)"
   ]
  },
  {
   "cell_type": "code",
   "execution_count": 100,
   "metadata": {},
   "outputs": [
    {
     "name": "stdout",
     "output_type": "stream",
     "text": [
      "sc_ref and sc_adata has different genes, both data are subset to 15386 genes.\n",
      "[2024-07-16 16:59:50,083/DEBUG] Parameters checked!\n",
      "[2024-07-16 16:59:52,100/DEBUG] Getting svg genes\n",
      "By setting k as 4, each spot has average 3.990990990990991 neighbors.\n",
      "[2024-07-16 16:59:52,317/DEBUG] Calculating spots affinity profile data\n",
      "[2024-07-16 16:59:55,148/DEBUG] SpaMint object created.\n"
     ]
    }
   ],
   "source": [
    "obj_spex = sprout_plus.SpaMint(save_path = outDir, st_adata = st_adata, weight = st_decon, \n",
    "                sc_ref = sc_ref, sc_adata = sc_adata, cell_type_key = meta_key, lr_df = lr_df, \n",
    "                st_tp = st_tp)\n",
    "#obj_spex.prep()"
   ]
  },
  {
   "cell_type": "markdown",
   "metadata": {},
   "source": [
    "# cell selection"
   ]
  },
  {
   "cell_type": "code",
   "execution_count": 101,
   "metadata": {},
   "outputs": [
    {
     "name": "stdout",
     "output_type": "stream",
     "text": [
      "[2024-07-16 17:00:05,511/INFO] Starting cell selection\n",
      "[2024-07-16 17:00:05,514/DEBUG] 0. calc num of cell per spot\n",
      "[2024-07-16 17:00:05,516/DEBUG] \t Estimating the cell number in each spot by the deconvolution result.\n",
      "[2024-07-16 17:00:07,384/DEBUG] 1. filter gene\n",
      "[2024-07-16 17:00:07,524/DEBUG] 2. feature select\n",
      "[2024-07-16 17:00:07,527/DEBUG] \t SpexMod selects 3430 feature genes.\n",
      "[2024-07-16 17:00:07,529/DEBUG] 3. scale and norm\n",
      "[2024-07-16 17:00:09,730/DEBUG] 4. init solution\n",
      "[2024-07-16 17:01:40,652/DEBUG] \t Init solution: max - 0.9477,     mean - 0.6281,     min - 0.0603\n",
      "[2024-07-16 17:01:42,819/DEBUG] 5. Swap selection start...\n",
      "[2024-07-16 17:01:42,821/DEBUG] \tSwap selection iter 0 of 1\n",
      "[2024-07-16 17:02:16,550/DEBUG] \t Swapped solution: max - 0.92,     mean - 0.70,     min - 0.07\n"
     ]
    }
   ],
   "source": [
    "sc_agg_meta = obj_spex.select_cells(use_sc_orig = True, p = 0, mean_num_per_spot = num_per_spot,\n",
    "                                    mode = 'strict', max_rep = 1,\n",
    "                                    repeat_penalty = repeat_penalty)\n",
    "sc_agg_meta.to_csv(f'{outDir}/spexmod_sc_meta.tsv',sep = '\\t',header=True,index=True)"
   ]
  },
  {
   "cell_type": "code",
   "execution_count": 10,
   "metadata": {},
   "outputs": [
    {
     "name": "stdout",
     "output_type": "stream",
     "text": [
      "[2024-07-16 14:10:13,594/INFO] Starting cell selection\n",
      "[2024-07-16 14:10:13,596/DEBUG] 0. calc num of cell per spot\n",
      "[2024-07-16 14:10:13,597/DEBUG] \t Estimating the cell number in each spot by the deconvolution result.\n",
      "[2024-07-16 14:10:15,166/DEBUG] 1. filter gene\n",
      "[2024-07-16 14:10:15,242/DEBUG] 2. feature select\n",
      "[2024-07-16 14:15:45,201/DEBUG] \t SpexMod selects 3746 feature genes.\n",
      "[2024-07-16 14:15:45,202/DEBUG] 3. scale and norm\n",
      "[2024-07-16 14:15:47,209/DEBUG] 4. init solution\n",
      "[2024-07-16 14:17:19,826/DEBUG] \t Init solution: max - 0.9501,     mean - 0.6417,     min - 0.1346\n",
      "[2024-07-16 14:17:21,653/DEBUG] 5. Swap selection start...\n",
      "[2024-07-16 14:17:21,655/DEBUG] \tSwap selection iter 0 of 1\n",
      "[2024-07-16 14:17:52,797/DEBUG] \t Swapped solution: max - 0.92,     mean - 0.70,     min - 0.13\n"
     ]
    }
   ],
   "source": [
    "sc_agg_meta = obj_spex.select_cells(use_sc_orig = True, p = 0, mean_num_per_spot = num_per_spot,\n",
    "                                    mode = 'strict', max_rep = 1,\n",
    "                                    repeat_penalty = repeat_penalty)\n",
    "sc_agg_meta.to_csv(f'{outDir}/spexmod_sc_meta.tsv',sep = '\\t',header=True,index=True)"
   ]
  },
  {
   "cell_type": "markdown",
   "metadata": {},
   "source": [
    "if p != 0, extremely time consuming"
   ]
  },
  {
   "cell_type": "code",
   "execution_count": null,
   "metadata": {},
   "outputs": [],
   "source": [
    "# change p to 0.1, use different code to select cells\n",
    "sc_agg_meta = obj_spex.select_cells(use_sc_orig = True, p = 0.1, mean_num_per_spot = num_per_spot, mode = 'strict', max_rep = 1, \n",
    "                                    repeat_penalty = repeat_penalty)\n",
    "sc_agg_meta.to_csv(f'{outDir}/spexmod_sc_meta.tsv',sep = '\\t',header=True,index=True)"
   ]
  },
  {
   "cell_type": "code",
   "execution_count": 102,
   "metadata": {},
   "outputs": [
    {
     "name": "stdout",
     "output_type": "stream",
     "text": [
      "[2024-07-16 17:10:04,276/DEBUG] Running v12 now...\n",
      "[2024-07-16 17:10:04,280/DEBUG] Init sc_coord by affinity embedding...\n",
      "[2024-07-16 17:10:04,281/DEBUG] Start embedding...\n",
      "[2024-07-16 17:10:04,282/DEBUG] Calc aff mat...\n"
     ]
    }
   ],
   "source": [
    "alter_sc_exp, sc_agg_meta = obj_spex.gradient_descent(\n",
    "                alpha, beta, gamma, delta, eta, \n",
    "                init_sc_embed = False,\n",
    "                iteration = max_rep, k = 2, W_HVG = 2,\n",
    "                left_range = 1, right_range = 2, steps = 1, dim = 2)\n",
    "sc_agg_meta.to_csv(f'{outDir}/spexmod_sc_meta.tsv',sep = '\\t',header=True,index=True)\n",
    "# with open(f'{outDir}/sc_knn.json', 'w') as fp:\n",
    "#     json.dump(obj_spex.sc_knn, fp)\n",
    "# utils.save_object(obj_spex, f'{outDir}/obj_spex.pkl')\n"
   ]
  },
  {
   "cell_type": "code",
   "execution_count": 30,
   "metadata": {},
   "outputs": [
    {
     "name": "stdout",
     "output_type": "stream",
     "text": [
      "[2024-07-09 00:34:47,068/DEBUG] calcNeighborAffMat\n",
      "[2024-07-09 00:35:04,701/DEBUG] OK\n",
      "[2024-07-09 00:35:04,708/DEBUG] calcAffMat\n",
      "[2024-07-09 00:35:18,771/DEBUG] ok\n"
     ]
    }
   ],
   "source": [
    "from spamint import optimizers\n",
    "importlib.reload(optimizers)\n",
    "import cProfile\n",
    "'''\n",
    "print(optimizers.findCellKNN(obj_spex.st_coord, obj_spex.st_tp, \n",
    "                            obj_spex.sc_agg_meta,\n",
    "                            obj_spex.gradient_descent_solver.sc_coord,\n",
    "                            obj_spex.gradient_descent_solver.K ))\n",
    "'''\n",
    "self=obj_spex.gradient_descent_solver\n",
    "\n",
    "logger.debug(\"calcNeighborAffMat\")\n",
    "#cProfile.runctx('''\n",
    "optimizers.calcNeighborAffinityMat(self.spots_nn_lst, self.spot_cell_dict, self.lr_df, self.alter_sc_exp)\n",
    "#                ''', globals(), locals(), sort='tottime')\n",
    "logger.debug(\"OK\")\n",
    "\n",
    "logger.debug(\"calcAffMat\")\n",
    "optimizers.calculate_affinity_mat(self.lr_df, self.alter_sc_exp)\n",
    "logger.debug(\"ok\")"
   ]
  }
 ],
 "metadata": {
  "kernelspec": {
   "display_name": "Python 3.8.8 ('base')",
   "language": "python",
   "name": "python3"
  },
  "language_info": {
   "codemirror_mode": {
    "name": "ipython",
    "version": 3
   },
   "file_extension": ".py",
   "mimetype": "text/x-python",
   "name": "python",
   "nbconvert_exporter": "python",
   "pygments_lexer": "ipython3",
   "version": "3.8.10"
  },
  "orig_nbformat": 4,
  "vscode": {
   "interpreter": {
    "hash": "7786051ca713700aed95fca0518a8a985661b55e7fd6f71a0a277d271e5f8daf"
   }
  }
 },
 "nbformat": 4,
 "nbformat_minor": 2
}
