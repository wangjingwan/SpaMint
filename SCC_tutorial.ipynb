{
 "cells": [
  {
   "cell_type": "code",
   "execution_count": 1,
   "metadata": {},
   "outputs": [],
   "source": [
    "import os, sys\n",
    "import scanpy as sc\n",
    "import pandas as pd\n",
    "import numpy as np\n",
    "import json\n",
    "import warnings\n",
    "warnings.filterwarnings(\"ignore\")"
   ]
  },
  {
   "cell_type": "code",
   "execution_count": 2,
   "metadata": {},
   "outputs": [],
   "source": [
    "from spamint import sprout_plus\n",
    "from spamint import preprocess as pp\n",
    "#import logging\n",
    "#logger = logging.getLogger(__name__)\n",
    "logger = sprout_plus.logger"
   ]
  },
  {
   "attachments": {},
   "cell_type": "markdown",
   "metadata": {},
   "source": [
    "# 1. Load files"
   ]
  },
  {
   "cell_type": "code",
   "execution_count": 3,
   "metadata": {},
   "outputs": [
    {
     "name": "stdout",
     "output_type": "stream",
     "text": [
      "[2024-08-01 14:26:36,528/INFO] Loading files...\n",
      "[2024-08-01 14:27:58,754/INFO] File loading complete\n"
     ]
    }
   ],
   "source": [
    "logger.info(\"Loading files...\")\n",
    "inputDir = './tutorial/SCC_demo/'\n",
    "outDir = f'{inputDir}/results/'\n",
    "sc_exp = pd.read_csv(f'{inputDir}/SC_exp.tsv',sep = '\\t',header=0,index_col=0)\n",
    "sc_meta = pd.read_csv(f'{inputDir}/SC_meta.tsv',sep = '\\t',header=0,index_col=0)\n",
    "st_exp = pd.read_csv(f'{inputDir}/ST_exp.tsv',sep = '\\t',header=0,index_col=0)\n",
    "st_coord = pd.read_csv(f'{inputDir}/ST_coord.csv',sep = ',',header=0,index_col=0)\n",
    "st_decon = pd.read_csv(f'{inputDir}/ST_decon.tsv',sep = '\\t',header=0,index_col=0)\n",
    "sc_smurf = pd.read_csv(f'{inputDir}/smurf_ref.csv',sep = ',',header=0,index_col=0)\n",
    "lr_df = pd.read_csv('./LR/human_LR_pairs.txt',sep='\\t',header=None)\n",
    "logger.info(\"File loading complete\")"
   ]
  },
  {
   "cell_type": "markdown",
   "metadata": {},
   "source": [
    "# Parameters"
   ]
  },
  {
   "cell_type": "code",
   "execution_count": 4,
   "metadata": {},
   "outputs": [
    {
     "name": "stdout",
     "output_type": "stream",
     "text": [
      "[2024-08-01 14:27:58,766/INFO] Setting parameters...\n"
     ]
    }
   ],
   "source": [
    "logger.info(\"Setting parameters...\")\n",
    "st_decon.columns = [x.split('sf_')[-1] for x in st_decon.columns]\n",
    "species = 'Human'\n",
    "st_tp = 'visum'\n",
    "meta_key = 'level3_celltype'\n",
    "SUM = 1e4\n",
    "alpha, beta, gamma, delta, eta = [1, 0.001, 0.001, 0.1, 0.0005]\n",
    "if st_tp == 'slide-seq':\n",
    "    num_per_spot = 1\n",
    "    repeat_penalty = 2\n",
    "else:\n",
    "    num_per_spot = 10\n",
    "    repeat_penalty = int((st_exp.shape[0] * num_per_spot/sc_exp.shape[0]) * 10)\n",
    "\n",
    "max_rep = 3"
   ]
  },
  {
   "cell_type": "code",
   "execution_count": 30,
   "metadata": {},
   "outputs": [
    {
     "name": "stdout",
     "output_type": "stream",
     "text": [
      "[2024-08-01 15:58:40,572/DEBUG] Reloading all SpaMint modules\n"
     ]
    },
    {
     "name": "stdout",
     "output_type": "stream",
     "text": [
      "spamint\n",
      "spamint.utils\n",
      "spamint.optimizers\n",
      "spamint.preprocess\n",
      "spamint.cell_selection\n",
      "spamint.gd_torch\n",
      "spamint.sprout_plus\n"
     ]
    }
   ],
   "source": [
    "logger.debug(\"Reloading all SpaMint modules\")\n",
    "import importlib\n",
    "l = [module for module in sys.modules.values() if module.__name__.startswith('spamint')]\n",
    "for module in l:\n",
    "    try:\n",
    "        if module.__name__.startswith('spamint'):\n",
    "            print(module.__name__)\n",
    "            importlib.reload(module)\n",
    "    except:\n",
    "        pass"
   ]
  },
  {
   "cell_type": "markdown",
   "metadata": {},
   "source": [
    "# Preprocess"
   ]
  },
  {
   "cell_type": "code",
   "execution_count": 6,
   "metadata": {},
   "outputs": [
    {
     "name": "stdout",
     "output_type": "stream",
     "text": [
      "[2024-08-01 14:28:08,077/DEBUG] Data clean is done! Using 15386 shared genes .\n"
     ]
    }
   ],
   "source": [
    "if st_exp.shape[1]<1e4:\n",
    "    # merfish data, only has 200~500 genes\n",
    "    sc_adata, st_adata, sc_ref, lr_df = pp.prep_all_adata_merfish(sc_exp = sc_exp, st_exp = st_exp, sc_distribution = sc_smurf, \n",
    "                                                        sc_meta = sc_meta, st_coord = st_coord, lr_df = lr_df, SP = species)\n",
    "else:\n",
    "    sc_adata, st_adata, sc_ref, lr_df = pp.prep_all_adata(sc_exp = sc_exp, st_exp = st_exp, sc_distribution = sc_smurf, \n",
    "                                                            sc_meta = sc_meta, st_coord = st_coord, lr_df = lr_df, SP = species)"
   ]
  },
  {
   "cell_type": "code",
   "execution_count": 7,
   "metadata": {},
   "outputs": [
    {
     "name": "stdout",
     "output_type": "stream",
     "text": [
      "sc_ref and sc_adata has different genes, both data are subset to 15386 genes.\n",
      "[2024-08-01 14:28:09,015/DEBUG] Parameters checked!\n",
      "[2024-08-01 14:28:18,449/DEBUG] Getting svg genes\n",
      "By setting k as 4, each spot has average 3.990990990990991 neighbors.\n",
      "[2024-08-01 14:28:18,696/DEBUG] Calculating spots affinity profile data\n",
      "[2024-08-01 14:28:22,211/DEBUG] SpaMint object created.\n"
     ]
    }
   ],
   "source": [
    "obj_spex = sprout_plus.SpaMint(save_path = outDir, st_adata = st_adata, weight = st_decon, \n",
    "                sc_ref = sc_ref, sc_adata = sc_adata, cell_type_key = meta_key, lr_df = lr_df, \n",
    "                st_tp = st_tp)\n",
    "#obj_spex.prep()"
   ]
  },
  {
   "cell_type": "markdown",
   "metadata": {},
   "source": [
    "# cell selection"
   ]
  },
  {
   "cell_type": "code",
   "execution_count": 18,
   "metadata": {},
   "outputs": [
    {
     "name": "stdout",
     "output_type": "stream",
     "text": [
      "[2024-07-22 08:49:19,169/INFO] Starting cell selection\n",
      "[2024-07-22 08:49:19,170/DEBUG] 0. calc num of cell per spot\n",
      "[2024-07-22 08:49:19,172/DEBUG] \t Estimating the cell number in each spot by the deconvolution result.\n",
      "[2024-07-22 08:49:21,401/DEBUG] 1. filter gene\n",
      "[2024-07-22 08:49:21,566/DEBUG] 2. feature select\n",
      "[2024-07-22 08:49:21,568/DEBUG] \t SpexMod selects 3430 feature genes.\n",
      "[2024-07-22 08:49:21,569/DEBUG] 3. scale and norm\n",
      "[2024-07-22 08:49:25,042/DEBUG] 4. init solution\n",
      "[2024-07-22 08:50:49,440/DEBUG] \t Init solution: max - 0.9472,     mean - 0.6388,     min - 0.1398\n",
      "[2024-07-22 08:50:51,622/DEBUG] 5. Swap selection start...\n",
      "[2024-07-22 08:50:51,623/DEBUG] \tSwap selection iter 0 of 1\n",
      "[2024-07-22 08:56:18,272/DEBUG] \t Swapped solution: max - 0.93,     mean - 0.70,     min - 0.15\n"
     ]
    }
   ],
   "source": [
    "sc_agg_meta = obj_spex.select_cells(use_sc_orig = True, p = 0, mean_num_per_spot = num_per_spot,\n",
    "                                    mode = 'strict', max_rep = 1,\n",
    "                                    repeat_penalty = repeat_penalty)\n",
    "sc_agg_meta.to_csv(f'{outDir}/spexmod_sc_meta.tsv',sep = '\\t',header=True,index=True)"
   ]
  },
  {
   "cell_type": "markdown",
   "metadata": {},
   "source": [
    "if p != 0, extremely time consuming"
   ]
  },
  {
   "cell_type": "code",
   "execution_count": null,
   "metadata": {},
   "outputs": [],
   "source": [
    "# change p to 0.1, use different code to select cells\n",
    "sc_agg_meta = obj_spex.select_cells(use_sc_orig = True, p = 0.1, mean_num_per_spot = num_per_spot, mode = 'strict', max_rep = 1, \n",
    "                                    repeat_penalty = repeat_penalty)\n",
    "sc_agg_meta.to_csv(f'{outDir}/spexmod_sc_meta.tsv',sep = '\\t',header=True,index=True)"
   ]
  },
  {
   "cell_type": "markdown",
   "metadata": {},
   "source": [
    "use user defined cell selection"
   ]
  },
  {
   "cell_type": "code",
   "execution_count": null,
   "metadata": {},
   "outputs": [],
   "source": [
    "# use our result to pretend the user provided cell selection\n",
    "# the user_sc_agg_meta should contain celltype, spot, sc_id columns"
   ]
  },
  {
   "cell_type": "code",
   "execution_count": 8,
   "metadata": {},
   "outputs": [],
   "source": [
    "user_sc_agg_meta = pd.read_csv(f'{outDir}/spexmod_sc_meta.tsv',sep = '\\t',header=0,index_col=0)\n",
    "user_sc_exp = sc_exp.loc[user_sc_agg_meta['sc_id']]\n",
    "sc_agg_meta = obj_spex.load_predefined_cells(user_sc_exp, user_sc_agg_meta)"
   ]
  },
  {
   "cell_type": "code",
   "execution_count": 21,
   "metadata": {},
   "outputs": [
    {
     "name": "stdout",
     "output_type": "stream",
     "text": [
      "[2024-07-22 09:02:40,539/DEBUG] Running v12 now...\n",
      "[2024-07-22 09:02:40,582/DEBUG] Init sc_coord by affinity embedding...\n",
      "[2024-07-22 09:02:40,584/DEBUG] Start embedding...\n",
      "[2024-07-22 09:02:40,585/DEBUG] Calc aff mat...\n",
      "[2024-07-22 09:03:22,035/DEBUG] Preprocessing affinity matrix\n",
      "[2024-07-22 09:03:47,177/DEBUG] Evaluating coord generated by UMAP...\n",
      "[2024-07-22 09:03:51,816/DEBUG] shape correlation is: 0.961643958842655\n",
      "[2024-07-22 09:03:51,830/DEBUG] End embedding.\n",
      "[2024-07-22 09:04:33,173/DEBUG] First-term calculation done!\n",
      "[2024-07-22 09:05:35,487/DEBUG] Second-term calculation done!\n",
      "[2024-07-22 09:09:13,870/DEBUG] Third term calculation done!\n",
      "[2024-07-22 09:14:01,310/DEBUG] Fourth term calculation done!\n",
      "[2024-07-22 09:14:02,083/DEBUG] Hyperparameters adjusted.\n",
      "[2024-07-22 09:14:02,084/DEBUG] -----Start iteration 0 -----\n",
      "[2024-07-22 09:14:02,085/DEBUG] Start embedding...\n",
      "[2024-07-22 09:14:02,086/DEBUG] Calc aff mat...\n",
      "[2024-07-22 09:14:38,219/DEBUG] Preprocessing affinity matrix\n",
      "[2024-07-22 09:14:52,956/DEBUG] Evaluating coord generated by UMAP...\n",
      "[2024-07-22 09:14:54,967/DEBUG] shape correlation is: 0.961643958842655\n",
      "[2024-07-22 09:14:54,970/DEBUG] End embedding.\n",
      "[2024-07-22 09:15:21,651/DEBUG] First-term calculation done!\n",
      "[2024-07-22 09:15:46,591/DEBUG] Second-term calculation done!\n",
      "[2024-07-22 09:18:14,413/DEBUG] Third term calculation done!\n",
      "[2024-07-22 09:22:20,046/DEBUG] Fourth term calculation done!\n",
      "[2024-07-22 09:22:58,195/DEBUG] ---0 self.loss4 612.9155001120422 self.GAMMA 2.346915186700511e-05 self.GAMMA*self.loss4 0.014384606953770907\n",
      "[2024-07-22 09:22:58,235/DEBUG] ---In iteration 0, the loss is:loss1:14.38461,loss2:8.32669,loss3:979.47664,                loss4:612.91550,loss5:32.87053.\n",
      "[2024-07-22 09:22:58,237/DEBUG] ---In iteration 0, the loss is:loss1:14.38461,loss2:14.38461,loss3:0.01438,                loss4:0.01438,loss5:1.43846.\n",
      "[2024-07-22 09:22:58,239/DEBUG] The total loss after iteration 0 is 30.23644.\n",
      "[2024-07-22 09:24:26,539/DEBUG] Start embedding...\n",
      "[2024-07-22 09:24:26,540/DEBUG] Calc aff mat...\n",
      "[2024-07-22 09:25:05,191/DEBUG] Preprocessing affinity matrix\n",
      "[2024-07-22 09:25:20,251/DEBUG] Evaluating coord generated by UMAP...\n",
      "[2024-07-22 09:25:22,271/DEBUG] shape correlation is: 0.9775128250485499\n",
      "[2024-07-22 09:25:22,274/DEBUG] End embedding.\n"
     ]
    }
   ],
   "source": [
    "alter_sc_exp, sc_agg_meta = obj_spex.gradient_descent(\n",
    "                alpha, beta, gamma, delta, eta, \n",
    "                init_sc_embed = sc_agg_meta[['adj_spex_UMAP1','adj_spex_UMAP2']],\n",
    "                iteration = max_rep, k = 2, W_HVG = 2,\n",
    "                left_range = 1, right_range = 2, steps = 1, dim = 2)\n",
    "sc_agg_meta.to_csv(f'{outDir}/spexmod_sc_meta.tsv',sep = '\\t',header=True,index=True)"
   ]
  },
  {
   "cell_type": "markdown",
   "metadata": {},
   "source": [
    "# Gradient desent"
   ]
  },
  {
   "cell_type": "code",
   "execution_count": 31,
   "metadata": {},
   "outputs": [
    {
     "name": "stdout",
     "output_type": "stream",
     "text": [
      "[2024-08-01 15:58:50,410/DEBUG] Term1 (original) start\n",
      "[2024-08-01 15:59:33,567/DEBUG] Term1 (torch) start\n",
      "[2024-08-01 15:59:38,982/DEBUG] First-term calculation done!\n",
      "> \u001b[0;32m/home/notify/Documents/2406-work/SpaMint/spamint/gd_torch.py\u001b[0m(92)\u001b[0;36mrun_gradient\u001b[0;34m()\u001b[0m\n",
      "\u001b[0;32m     90 \u001b[0;31m        \u001b[0mpdb\u001b[0m\u001b[0;34m.\u001b[0m\u001b[0mset_trace\u001b[0m\u001b[0;34m(\u001b[0m\u001b[0;34m)\u001b[0m\u001b[0;34m\u001b[0m\u001b[0;34m\u001b[0m\u001b[0m\n",
      "\u001b[0m\u001b[0;32m     91 \u001b[0;31m        \u001b[0;31m# self.term2_df, self.loss2 = self.term2()\u001b[0m\u001b[0;34m\u001b[0m\u001b[0;34m\u001b[0m\u001b[0m\n",
      "\u001b[0m\u001b[0;32m---> 92 \u001b[0;31m        '''\n",
      "\u001b[0m\u001b[0;32m     93 \u001b[0;31m\u001b[0;34m\u001b[0m\u001b[0m\n",
      "\u001b[0m\u001b[0;32m     94 \u001b[0;31m\u001b[0;34m\u001b[0m\u001b[0m\n",
      "\u001b[0m\n",
      "*** AttributeError: GradientDescent has no attr loss1_. Did you mean: 'loss1'?\n"
     ]
    }
   ],
   "source": [
    "alter_sc_exp, sc_agg_meta = obj_spex.gradient_descent(\n",
    "                alpha, beta, gamma, delta, eta, \n",
    "                init_sc_embed = False,\n",
    "                iteration = 1, k = 2, W_HVG = 2,\n",
    "                left_range = 1, right_range = 2, steps = 1, dim = 2)\n",
    "sc_agg_meta.to_csv(f'{outDir}/spexmod_sc_meta.tsv',sep = '\\t',header=True,index=True)\n",
    "# with open(f'{outDir}/sc_knn.json', 'w') as fp:\n",
    "#     json.dump(obj_spex.sc_knn, fp)\n",
    "# utils.save_object(obj_spex, f'{outDir}/obj_spex.pkl')\n"
   ]
  },
  {
   "cell_type": "code",
   "execution_count": null,
   "metadata": {},
   "outputs": [
    {
     "name": "stdout",
     "output_type": "stream",
     "text": [
      "[2024-07-09 00:34:47,068/DEBUG] calcNeighborAffMat\n",
      "[2024-07-09 00:35:04,701/DEBUG] OK\n",
      "[2024-07-09 00:35:04,708/DEBUG] calcAffMat\n",
      "[2024-07-09 00:35:18,771/DEBUG] ok\n"
     ]
    }
   ],
   "source": [
    "from spamint import optimizers\n",
    "importlib.reload(optimizers)\n",
    "import cProfile\n",
    "'''\n",
    "print(optimizers.findCellKNN(obj_spex.st_coord, obj_spex.st_tp, \n",
    "                            obj_spex.sc_agg_meta,\n",
    "                            obj_spex.gradient_descent_solver.sc_coord,\n",
    "                            obj_spex.gradient_descent_solver.K ))\n",
    "'''\n",
    "self=obj_spex.gradient_descent_solver\n",
    "\n",
    "logger.debug(\"calcNeighborAffMat\")\n",
    "#cProfile.runctx('''\n",
    "optimizers.calcNeighborAffinityMat(self.spots_nn_lst, self.spot_cell_dict, self.lr_df, self.alter_sc_exp)\n",
    "#                ''', globals(), locals(), sort='tottime')\n",
    "logger.debug(\"OK\")\n",
    "\n",
    "logger.debug(\"calcAffMat\")\n",
    "optimizers.calculate_affinity_mat(self.lr_df, self.alter_sc_exp)\n",
    "logger.debug(\"ok\")"
   ]
  }
 ],
 "metadata": {
  "kernelspec": {
   "display_name": "Python 3.8.8 ('base')",
   "language": "python",
   "name": "python3"
  },
  "language_info": {
   "codemirror_mode": {
    "name": "ipython",
    "version": 3
   },
   "file_extension": ".py",
   "mimetype": "text/x-python",
   "name": "python",
   "nbconvert_exporter": "python",
   "pygments_lexer": "ipython3",
   "version": "3.12.4"
  },
  "orig_nbformat": 4,
  "vscode": {
   "interpreter": {
    "hash": "7786051ca713700aed95fca0518a8a985661b55e7fd6f71a0a277d271e5f8daf"
   }
  }
 },
 "nbformat": 4,
 "nbformat_minor": 2
}
