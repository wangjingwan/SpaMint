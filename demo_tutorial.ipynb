{
 "cells": [
  {
   "cell_type": "markdown",
   "metadata": {},
   "source": [
    "# 0. Import libraries"
   ]
  },
  {
   "cell_type": "code",
   "execution_count": 1,
   "metadata": {},
   "outputs": [],
   "source": [
    "import os\n",
    "import scanpy as sc\n",
    "import pandas as pd\n",
    "import numpy as np\n",
    "import json\n",
    "\n",
    "import warnings\n",
    "warnings.filterwarnings(\"ignore\")"
   ]
  },
  {
   "cell_type": "code",
   "execution_count": 2,
   "metadata": {},
   "outputs": [],
   "source": [
    "from spamint import sprout_plus\n",
    "from spamint import preprocess as pp"
   ]
  },
  {
   "attachments": {},
   "cell_type": "markdown",
   "metadata": {},
   "source": [
    "# 1. Load files"
   ]
  },
  {
   "cell_type": "code",
   "execution_count": 3,
   "metadata": {},
   "outputs": [],
   "source": [
    "inputDir = './tutorial/demo/'\n",
    "outDir = f'{inputDir}/demo_results/'\n",
    "sc_exp = pd.read_csv(f'{inputDir}/SC_exp.tsv',sep = '\\t',header=0,index_col=0)\n",
    "sc_meta = pd.read_csv(f'{inputDir}/SC_meta.tsv',sep = '\\t',header=0,index_col=0)\n",
    "st_exp = pd.read_csv(f'{inputDir}/ST_exp.tsv',sep = '\\t',header=0,index_col=0)\n",
    "st_coord = pd.read_csv(f'{inputDir}/ST_coord.tsv',sep = '\\t',header=0,index_col=0)\n",
    "st_decon = pd.read_csv(f'{inputDir}/ST_decon.tsv',sep = '\\t',header=0,index_col=0)\n",
    "# TODO run smurf for demo\n",
    "sc_smurf = sc_exp + np.random.rand(sc_exp.shape[0],sc_exp.shape[1])*10\n",
    "lr_df = pd.read_csv('./LR/mouse_LR_pairs.txt',sep='\\t',header=None)"
   ]
  },
  {
   "attachments": {},
   "cell_type": "markdown",
   "metadata": {},
   "source": [
    "# 2.Run sprout"
   ]
  },
  {
   "cell_type": "code",
   "execution_count": 4,
   "metadata": {},
   "outputs": [],
   "source": [
    "species = 'Mouse'\n",
    "st_tp = 'st'"
   ]
  },
  {
   "cell_type": "code",
   "execution_count": 5,
   "metadata": {},
   "outputs": [],
   "source": [
    "st_coord.index = ['spot_' + str(x) for x in st_coord.index]\n",
    "st_exp.index = ['spot_' + str(x) for x in st_exp.index]\n",
    "st_decon.index = ['spot_' + str(x) for x in st_decon.index]\n",
    "sc_exp.index = ['cell_' + str(x) for x in sc_exp.index]\n",
    "sc_meta.index = ['cell_' + str(x) for x in sc_meta.index]\n",
    "sc_smurf.index = ['cell_' + str(x) for x in sc_smurf.index]"
   ]
  },
  {
   "cell_type": "markdown",
   "metadata": {},
   "source": [
    "# Parameters"
   ]
  },
  {
   "cell_type": "code",
   "execution_count": 6,
   "metadata": {},
   "outputs": [],
   "source": [
    "SUM = 1e4\n",
    "alpha, beta, gamma, delta, eta = [1, 0.001, 0.001, 0.1, 0.0005]\n",
    "if st_tp == 'slide-seq':\n",
    "    num_per_spot = 1\n",
    "    repeat_penalty = 2\n",
    "else:\n",
    "    num_per_spot = 10\n",
    "    repeat_penalty = int((st_exp.shape[0] * num_per_spot/sc_exp.shape[0]) * 10)\n",
    "\n",
    "max_rep = 20"
   ]
  },
  {
   "cell_type": "code",
   "execution_count": 7,
   "metadata": {},
   "outputs": [
    {
     "data": {
      "text/plain": [
       "<module 'spamint.sprout_plus' from '/home/notify/Documents/2406-work/SpaMint/spamint/sprout_plus.py'>"
      ]
     },
     "execution_count": 7,
     "metadata": {},
     "output_type": "execute_result"
    }
   ],
   "source": [
    "from importlib import reload\n",
    "reload(sprout_plus)"
   ]
  },
  {
   "cell_type": "markdown",
   "metadata": {},
   "source": [
    "# Preprocess"
   ]
  },
  {
   "cell_type": "code",
   "execution_count": 8,
   "metadata": {},
   "outputs": [
    {
     "name": "stdout",
     "output_type": "stream",
     "text": [
      "Data clean and scale are done! Single-cell data has 882 genes, spatial data has 882 genes.\n"
     ]
    }
   ],
   "source": [
    "if st_exp.shape[1]<1e4:\n",
    "    # merfish data, only has 200~500 genes\n",
    "    sc_adata, st_adata, sc_ref, lr_df = pp.prep_all_adata_merfish(sc_exp = sc_exp, st_exp = st_exp, sc_distribution = sc_smurf, \n",
    "                                                        sc_meta = sc_meta, st_coord = st_coord, lr_df = lr_df, SP = species)\n",
    "else:\n",
    "    sc_adata, st_adata, sc_ref, lr_df = pp.prep_all_adata(sc_exp = sc_exp, st_exp = st_exp, sc_distribution = sc_smurf, \n",
    "                                                            sc_meta = sc_meta, st_coord = st_coord, lr_df = lr_df, SP = species)"
   ]
  },
  {
   "cell_type": "code",
   "execution_count": 9,
   "metadata": {},
   "outputs": [
    {
     "name": "stdout",
     "output_type": "stream",
     "text": [
      "sc_ref and sc_adata has different genes, both data are subset to 882 genes.\n",
      "Parameters checked!\n",
      "Getting svg genes\n",
      "By setting k as 4, each spot has average 3.9788359788359786 neighbors.\n"
     ]
    }
   ],
   "source": [
    "obj_spex = sprout_plus.spaMint(save_path = outDir, st_adata = st_adata, weight = st_decon, \n",
    "                 sc_ref = sc_ref, sc_adata = sc_adata, cell_type_key = 'celltype', lr_df = lr_df, \n",
    "                 st_tp = st_tp)\n",
    "obj_spex.prep()"
   ]
  },
  {
   "cell_type": "markdown",
   "metadata": {},
   "source": [
    "# cell selection"
   ]
  },
  {
   "cell_type": "code",
   "execution_count": 10,
   "metadata": {},
   "outputs": [
    {
     "name": "stdout",
     "output_type": "stream",
     "text": [
      "\t Estimating the cell number in each spot by the deconvolution result.\n",
      "\t SpexMod selects 882 feature genes.\n",
      "\t Init solution: max - 1.0000,     mean - 0.9614,     min - 0.6215\n",
      "\t Swap selection start...\n",
      "\t Swapped solution: max - 1.00,     mean - 0.99,     min - 0.60\n"
     ]
    }
   ],
   "source": [
    "sc_agg_meta = obj_spex.select_cells(use_sc_orig = True, p = 0, mean_num_per_spot = num_per_spot, mode = 'strict', max_rep = 1,\n",
    "                                    repeat_penalty = repeat_penalty)\n",
    "sc_agg_meta.to_csv(f'{outDir}/spexmod_sc_meta.tsv',sep = '\\t',header=True,index=True)"
   ]
  },
  {
   "cell_type": "markdown",
   "metadata": {},
   "source": [
    "if p != 0, extremely time consuming"
   ]
  },
  {
   "cell_type": "code",
   "execution_count": 11,
   "metadata": {},
   "outputs": [
    {
     "name": "stdout",
     "output_type": "stream",
     "text": [
      "\t Estimating the cell number in each spot by the deconvolution result.\n",
      "\t SpexMod selects 882 feature genes.\n",
      "\t Init solution: max - 1.0000,     mean - 0.9612,     min - 0.6215\n",
      "\t Swap selection start...\n",
      "\t Swapped solution: max - 1.00,     mean - 0.97,     min - 0.60\n"
     ]
    }
   ],
   "source": [
    "# change p to 0.1, use different code to select cells\n",
    "sc_agg_meta = obj_spex.select_cells(use_sc_orig = True, p = 0.1, mean_num_per_spot = num_per_spot, mode = 'strict', max_rep = 1, \n",
    "                                    repeat_penalty = repeat_penalty)\n",
    "sc_agg_meta.to_csv(f'{outDir}/spexmod_sc_meta.tsv',sep = '\\t',header=True,index=True)"
   ]
  },
  {
   "cell_type": "code",
   "execution_count": null,
   "metadata": {},
   "outputs": [
    {
     "name": "stdout",
     "output_type": "stream",
     "text": [
      "Running v12 now...\n",
      "Init sc_coord by affinity embedding...\n",
      "Average shape correlation is: 0.9759135237438116\n",
      "First-term calculation done!\n",
      "Second-term calculation done!\n",
      "Third term calculation done!\n",
      "Fourth term calculation done!\n",
      "Hyperparameters adjusted.\n",
      "-----Start iteration 0 -----\n",
      "Average shape correlation is: 0.9759135237438116\n",
      "First-term calculation done!\n",
      "Second-term calculation done!\n",
      "Third term calculation done!\n",
      "Fourth term calculation done!\n",
      "---0 self.loss4 530.0900433206876 self.GAMMA 0.0031353520975105484 self.GAMMA*self.loss4 1.6620189291949754\n",
      "---In iteration 0, the loss is:loss1:1662.01893,loss2:2645.69843,loss3:725.50450,loss4:530.09004,loss5:3372.40747.\n",
      "---In iteration 0, the loss is:loss1:1662.01893,loss2:1662.01893,loss3:1.66202,loss4:1.66202,loss5:166.20189.\n",
      "The total loss after iteration 0 is 3493.56379.\n",
      "-----Start iteration 1 -----\n",
      "Average shape correlation is: 0.9748397296808959\n",
      "First-term calculation done!\n",
      "Second-term calculation done!\n",
      "Third term calculation done!\n",
      "Fourth term calculation done!\n",
      "---1 self.loss4 518.2735929502188 self.GAMMA 0.0031353520975105484 self.GAMMA*self.loss4 1.6249701967407968\n",
      "---In iteration 1, the loss is:loss1:1658.72071,loss2:2641.85918,loss3:726.37649,loss4:518.27359,loss5:3368.04845.\n",
      "---In iteration 1, the loss is:loss1:1658.72071,loss2:1659.60713,loss3:1.66402,loss4:1.62497,loss5:165.98707.\n",
      "The total loss after iteration 1 is 3487.60389.\n",
      "-----Start iteration 2 -----\n",
      "Average shape correlation is: 0.9752687864303105\n",
      "First-term calculation done!\n",
      "Second-term calculation done!\n",
      "Third term calculation done!\n",
      "Fourth term calculation done!\n",
      "---2 self.loss4 508.93572506179675 self.GAMMA 0.0031353520975105484 self.GAMMA*self.loss4 1.5956926930705562\n",
      "---In iteration 2, the loss is:loss1:1655.42925,loss2:2638.02712,loss3:1210.40006,loss4:508.93573,loss5:3363.69690.\n",
      "---In iteration 2, the loss is:loss1:1655.42925,loss2:1657.19984,loss3:2.77284,loss4:1.59569,loss5:165.77261.\n",
      "The total loss after iteration 2 is 3482.77023.\n",
      "-----Start iteration 3 -----\n",
      "Average shape correlation is: 0.9751618382165\n",
      "First-term calculation done!\n",
      "Second-term calculation done!\n",
      "Third term calculation done!\n",
      "Fourth term calculation done!\n",
      "---3 self.loss4 508.16881132197557 self.GAMMA 0.0031353520975105484 self.GAMMA*self.loss4 1.593288148467798\n",
      "---In iteration 3, the loss is:loss1:1652.14453,loss2:2634.20224,loss3:708.83108,loss4:508.16881,loss5:3359.35304.\n",
      "---In iteration 3, the loss is:loss1:1652.14453,loss2:1654.79707,loss3:1.62382,loss4:1.59329,loss5:165.55853.\n",
      "The total loss after iteration 3 is 3475.71724.\n",
      "-----Start iteration 4 -----\n",
      "Average shape correlation is: 0.9748491688011601\n",
      "First-term calculation done!\n",
      "Second-term calculation done!\n",
      "Third term calculation done!\n",
      "Fourth term calculation done!\n",
      "---4 self.loss4 511.00382935653005 self.GAMMA 0.0031353520975105484 self.GAMMA*self.loss4 1.6021769282089189\n",
      "---In iteration 4, the loss is:loss1:1648.86657,loss2:2630.38455,loss3:1528.09951,loss4:511.00383,loss5:3355.01688.\n",
      "---In iteration 4, the loss is:loss1:1648.86657,loss2:1652.39881,loss3:3.50064,loss4:1.60218,loss5:165.34484.\n",
      "The total loss after iteration 4 is 3471.71303.\n",
      "-----Start iteration 5 -----\n",
      "Average shape correlation is: 0.9747375054542591\n",
      "First-term calculation done!\n",
      "Second-term calculation done!\n",
      "Third term calculation done!\n",
      "Fourth term calculation done!\n",
      "---5 self.loss4 510.5400632526427 self.GAMMA 0.0031353520975105484 self.GAMMA*self.loss4 1.6007228581823414\n",
      "---In iteration 5, the loss is:loss1:1645.59531,loss2:2626.57403,loss3:1506.62736,loss4:510.54006,loss5:3350.68840.\n",
      "---In iteration 5, the loss is:loss1:1645.59531,loss2:1650.00505,loss3:3.45145,loss4:1.60072,loss5:165.13151.\n",
      "The total loss after iteration 5 is 3465.78404.\n",
      "-----Start iteration 6 -----\n",
      "Average shape correlation is: 0.9751483734965074\n",
      "First-term calculation done!\n",
      "Second-term calculation done!\n",
      "Third term calculation done!\n",
      "Fourth term calculation done!\n",
      "---6 self.loss4 521.6466792562176 self.GAMMA 0.0031353520975105484 self.GAMMA*self.loss4 1.635546009965394\n",
      "---In iteration 6, the loss is:loss1:1642.33074,loss2:2622.77064,loss3:1239.12760,loss4:521.64668,loss5:3346.36756.\n",
      "---In iteration 6, the loss is:loss1:1642.33074,loss2:1647.61577,loss3:2.83865,loss4:1.63555,loss5:164.91857.\n",
      "The total loss after iteration 6 is 3459.33928.\n",
      "-----Start iteration 7 -----\n",
      "Average shape correlation is: 0.9753160252877406\n",
      "First-term calculation done!\n",
      "Second-term calculation done!\n",
      "Third term calculation done!\n",
      "Fourth term calculation done!\n",
      "---7 self.loss4 511.50295980175207 self.GAMMA 0.0031353520975105484 self.GAMMA*self.loss4 1.603741877897277\n",
      "---In iteration 7, the loss is:loss1:1639.07288,loss2:2618.97438,loss3:723.11367,loss4:511.50296,loss5:3342.05435.\n",
      "---In iteration 7, the loss is:loss1:1639.07288,loss2:1645.23097,loss3:1.65654,loss4:1.60374,loss5:164.70600.\n",
      "The total loss after iteration 7 is 3452.27014.\n",
      "-----Start iteration 8 -----\n",
      "Average shape correlation is: 0.9712266988058312\n",
      "First-term calculation done!\n",
      "Second-term calculation done!\n",
      "Third term calculation done!\n",
      "Fourth term calculation done!\n",
      "---8 self.loss4 508.89395379445625 self.GAMMA 0.0031353520975105484 self.GAMMA*self.loss4 1.5955617254398844\n",
      "---In iteration 8, the loss is:loss1:1635.82169,loss2:2615.18524,loss3:743.74861,loss4:508.89395,loss5:3337.74878.\n",
      "---In iteration 8, the loss is:loss1:1635.82169,loss2:1642.85065,loss3:1.70381,loss4:1.59556,loss5:164.49381.\n",
      "The total loss after iteration 8 is 3446.46552.\n",
      "-----Start iteration 9 -----\n",
      "Average shape correlation is: 0.9764884889497182\n",
      "First-term calculation done!\n",
      "Second-term calculation done!\n",
      "Third term calculation done!\n",
      "Fourth term calculation done!\n",
      "---9 self.loss4 515.3123019670238 self.GAMMA 0.0031353520975105484 self.GAMMA*self.loss4 1.615685506845297\n",
      "---In iteration 9, the loss is:loss1:1632.57717,loss2:2611.40320,loss3:733.82488,loss4:515.31230,loss5:3333.45082.\n",
      "---In iteration 9, the loss is:loss1:1632.57717,loss2:1640.47478,loss3:1.68108,loss4:1.61569,loss5:164.28200.\n",
      "The total loss after iteration 9 is 3440.63072.\n",
      "-----Start iteration 10 -----\n",
      "Average shape correlation is: 0.9768252592022167\n",
      "First-term calculation done!\n",
      "Second-term calculation done!\n",
      "Third term calculation done!\n",
      "Fourth term calculation done!\n",
      "---10 self.loss4 527.7873535301896 self.GAMMA 0.0031353520975105484 self.GAMMA*self.loss4 1.6547991859304214\n",
      "---In iteration 10, the loss is:loss1:1629.33927,loss2:2607.62822,loss3:733.06591,loss4:527.78735,loss5:3329.16043.\n",
      "---In iteration 10, the loss is:loss1:1629.33927,loss2:1638.10335,loss3:1.67934,loss4:1.65480,loss5:164.07055.\n",
      "The total loss after iteration 10 is 3434.84732.\n",
      "-----Start iteration 11 -----\n",
      "Average shape correlation is: 0.9754146000899239\n",
      "First-term calculation done!\n",
      "Second-term calculation done!\n",
      "Third term calculation done!\n",
      "Fourth term calculation done!\n",
      "---11 self.loss4 516.1081080086235 self.GAMMA 0.0031353520975105484 self.GAMMA*self.loss4 1.6181806389870383\n",
      "---In iteration 11, the loss is:loss1:1626.10804,loss2:2603.86034,loss3:723.30027,loss4:516.10811,loss5:3324.87765.\n",
      "---In iteration 11, the loss is:loss1:1626.10804,loss2:1635.73638,loss3:1.65697,loss4:1.61818,loss5:163.85949.\n",
      "The total loss after iteration 11 is 3428.97906.\n",
      "-----Start iteration 12 -----\n",
      "Average shape correlation is: 0.9765156991239664\n",
      "First-term calculation done!\n",
      "Second-term calculation done!\n",
      "Third term calculation done!\n",
      "Fourth term calculation done!\n",
      "---12 self.loss4 507.5102880475797 self.GAMMA 0.0031353520975105484 self.GAMMA*self.loss4 1.5912234461381616\n",
      "---In iteration 12, the loss is:loss1:1622.88344,loss2:2600.09953,loss3:1774.67117,loss4:507.51029,loss5:3320.60245.\n",
      "---In iteration 12, the loss is:loss1:1622.88344,loss2:1633.37385,loss3:4.06550,loss4:1.59122,loss5:163.64879.\n",
      "The total loss after iteration 12 is 3425.56281.\n",
      "-----Start iteration 13 -----\n",
      "Average shape correlation is: 0.9761554829598786\n",
      "First-term calculation done!\n",
      "Second-term calculation done!\n",
      "Third term calculation done!\n",
      "Fourth term calculation done!\n",
      "---13 self.loss4 500.7462494450998 self.GAMMA 0.0031353520975105484 self.GAMMA*self.loss4 1.5700158035182339\n",
      "---In iteration 13, the loss is:loss1:1619.66542,loss2:2596.34576,loss3:1221.41395,loss4:500.74625,loss5:3316.33479.\n",
      "---In iteration 13, the loss is:loss1:1619.66542,loss2:1631.01575,loss3:2.79807,loss4:1.57002,loss5:163.43847.\n",
      "The total loss after iteration 13 is 3418.48772.\n",
      "-----Start iteration 14 -----\n",
      "Average shape correlation is: 0.9747685018238431\n",
      "First-term calculation done!\n",
      "Second-term calculation done!\n",
      "Third term calculation done!\n",
      "Fourth term calculation done!\n",
      "---14 self.loss4 512.0456718575647 self.GAMMA 0.0031353520975105484 self.GAMMA*self.loss4 1.6054434712798133\n",
      "---In iteration 14, the loss is:loss1:1616.45402,loss2:2592.59904,loss3:732.60698,loss4:512.04567,loss5:3312.07468.\n",
      "---In iteration 14, the loss is:loss1:1616.45402,loss2:1628.66207,loss3:1.67829,loss4:1.60544,loss5:163.22852.\n",
      "The total loss after iteration 14 is 3411.62834.\n",
      "-----Start iteration 15 -----\n"
     ]
    }
   ],
   "source": [
    "alter_sc_exp, sc_agg_meta = obj_spex.gradient_descent(\n",
    "                alpha, beta, gamma, delta, eta, \n",
    "                init_sc_embed = False,\n",
    "                iteration = max_rep, k = 2, W_HVG = 2,\n",
    "                left_range = 1, right_range = 2, steps = 1, dim = 2)\n",
    "sc_agg_meta.to_csv(f'{outDir}/spexmod_sc_meta.tsv',sep = '\\t',header=True,index=True)\n",
    "with open(f'{outDir}/sc_knn.json', 'w') as fp:\n",
    "    json.dump(obj_spex.sc_knn, fp)\n",
    "# utils.save_object(obj_spex, f'{outDir}/obj_spex.pkl')\n"
   ]
  }
 ],
 "metadata": {
  "kernelspec": {
   "display_name": "SpaMint.venv",
   "language": "python",
   "name": "spamint.venv"
  },
  "language_info": {
   "codemirror_mode": {
    "name": "ipython",
    "version": 3
   },
   "file_extension": ".py",
   "mimetype": "text/x-python",
   "name": "python",
   "nbconvert_exporter": "python",
   "pygments_lexer": "ipython3",
   "version": "3.12.3"
  },
  "vscode": {
   "interpreter": {
    "hash": "7786051ca713700aed95fca0518a8a985661b55e7fd6f71a0a277d271e5f8daf"
   }
  }
 },
 "nbformat": 4,
 "nbformat_minor": 4
}
