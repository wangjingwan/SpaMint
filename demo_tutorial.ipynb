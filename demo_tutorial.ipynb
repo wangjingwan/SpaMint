{
 "cells": [
  {
   "cell_type": "code",
   "execution_count": 3,
   "metadata": {},
   "outputs": [],
   "source": [
    "import os\n",
    "import scanpy as sc\n",
    "import pandas as pd\n",
    "import numpy as np\n",
    "import json"
   ]
  },
  {
   "cell_type": "code",
   "execution_count": 4,
   "metadata": {},
   "outputs": [],
   "source": [
    "from spamint import sprout_plus\n",
    "from spamint import preprocess as pp\n",
    "import warnings\n",
    "warnings.filterwarnings(\"ignore\")"
   ]
  },
  {
   "attachments": {},
   "cell_type": "markdown",
   "metadata": {},
   "source": [
    "# 1. Load files"
   ]
  },
  {
   "cell_type": "code",
   "execution_count": 16,
   "metadata": {},
   "outputs": [],
   "source": [
    "inputDir = './tutorial/demo/'\n",
    "outDir = f'{inputDir}/demo_results/'\n",
    "sc_exp = pd.read_csv(f'{inputDir}/SC_exp.tsv',sep = '\\t',header=0,index_col=0)\n",
    "sc_meta = pd.read_csv(f'{inputDir}/SC_meta.tsv',sep = '\\t',header=0,index_col=0)\n",
    "st_exp = pd.read_csv(f'{inputDir}/ST_exp.tsv',sep = '\\t',header=0,index_col=0)\n",
    "st_coord = pd.read_csv(f'{inputDir}/ST_coord.tsv',sep = '\\t',header=0,index_col=0)\n",
    "st_decon = pd.read_csv(f'{inputDir}/ST_decon.tsv',sep = '\\t',header=0,index_col=0)\n",
    "# TODO run smurf for demo\n",
    "sc_smurf = sc_exp + np.random.rand(sc_exp.shape[0],sc_exp.shape[1])*10\n",
    "lr_df = pd.read_csv('./LR/mouse_LR_pairs.txt',sep='\\t',header=None)"
   ]
  },
  {
   "attachments": {},
   "cell_type": "markdown",
   "metadata": {},
   "source": [
    "# 2.Run sprout"
   ]
  },
  {
   "cell_type": "code",
   "execution_count": 17,
   "metadata": {},
   "outputs": [],
   "source": [
    "species = 'Mouse'\n",
    "st_tp = 'st'"
   ]
  },
  {
   "cell_type": "code",
   "execution_count": 18,
   "metadata": {},
   "outputs": [],
   "source": [
    "st_coord.index = ['spot_' + str(x) for x in st_coord.index]\n",
    "st_exp.index = ['spot_' + str(x) for x in st_exp.index]\n",
    "st_decon.index = ['spot_' + str(x) for x in st_decon.index]\n",
    "sc_exp.index = ['cell_' + str(x) for x in sc_exp.index]\n",
    "sc_meta.index = ['cell_' + str(x) for x in sc_meta.index]\n",
    "sc_smurf.index = ['cell_' + str(x) for x in sc_smurf.index]"
   ]
  },
  {
   "cell_type": "markdown",
   "metadata": {},
   "source": [
    "# Parameters"
   ]
  },
  {
   "cell_type": "code",
   "execution_count": 19,
   "metadata": {},
   "outputs": [],
   "source": [
    "SUM = 1e4\n",
    "alpha, beta, gamma, delta, eta = [1, 0.001, 0.001, 0.1, 0.0005]\n",
    "if st_tp == 'slide-seq':\n",
    "    num_per_spot = 1\n",
    "    repeat_penalty = 2\n",
    "else:\n",
    "    num_per_spot = 10\n",
    "    repeat_penalty = int((st_exp.shape[0] * num_per_spot/sc_exp.shape[0]) * 10)\n",
    "\n",
    "max_rep = 20"
   ]
  },
  {
   "cell_type": "code",
   "execution_count": null,
   "metadata": {},
   "outputs": [],
   "source": [
    "from importlib import reload\n",
    "reload(sprout_plus)"
   ]
  },
  {
   "cell_type": "markdown",
   "metadata": {},
   "source": [
    "# Preprocess"
   ]
  },
  {
   "cell_type": "code",
   "execution_count": 27,
   "metadata": {},
   "outputs": [
    {
     "name": "stdout",
     "output_type": "stream",
     "text": [
      "Data clean and scale are done! Single-cell data has 882 genes, spatial data has 882 genes.\n"
     ]
    }
   ],
   "source": [
    "if st_exp.shape[1]<1e4:\n",
    "    # merfish data, only has 200~500 genes\n",
    "    sc_adata, st_adata, sc_ref, lr_df = pp.prep_all_adata_merfish(sc_exp = sc_exp, st_exp = st_exp, sc_distribution = sc_smurf, \n",
    "                                                        sc_meta = sc_meta, st_coord = st_coord, lr_df = lr_df, SP = species)\n",
    "else:\n",
    "    sc_adata, st_adata, sc_ref, lr_df = pp.prep_all_adata(sc_exp = sc_exp, st_exp = st_exp, sc_distribution = sc_smurf, \n",
    "                                                            sc_meta = sc_meta, st_coord = st_coord, lr_df = lr_df, SP = species)"
   ]
  },
  {
   "cell_type": "code",
   "execution_count": 28,
   "metadata": {},
   "outputs": [
    {
     "name": "stdout",
     "output_type": "stream",
     "text": [
      "sc_ref and sc_adata has different genes, both data are subset to 882 genes.\n",
      "Parameters checked!\n",
      "Getting svg genes\n",
      "By setting k as 6, each spot has average 5.978835978835979 neighbors.\n"
     ]
    }
   ],
   "source": [
    "obj_spex = sprout_plus.spaMint(save_path = outDir, st_adata = st_adata, weight = st_decon, \n",
    "                 sc_ref = sc_ref, sc_adata = sc_adata, cell_type_key = 'celltype', lr_df = lr_df, \n",
    "                 st_tp = st_tp)\n",
    "obj_spex.prep()"
   ]
  },
  {
   "cell_type": "markdown",
   "metadata": {},
   "source": [
    "# cell selection"
   ]
  },
  {
   "cell_type": "code",
   "execution_count": 29,
   "metadata": {},
   "outputs": [
    {
     "name": "stdout",
     "output_type": "stream",
     "text": [
      "\t Estimating the cell number in each spot by the deconvolution result.\n",
      "\t SpexMod selects 882 feature genes.\n",
      "\t Init solution: max - 1.0000,     mean - 0.9612,     min - 0.6215\n",
      "\t Swap selection start...\n",
      "\t Swapped solution: max - 1.00,     mean - 0.98,     min - 0.62\n"
     ]
    }
   ],
   "source": [
    "sc_agg_meta = obj_spex.select_cells(use_sc_orig = True, p = 0, mean_num_per_spot = num_per_spot, mode = 'strict', max_rep = 1, \n",
    "                                    repeat_penalty = repeat_penalty)\n",
    "sc_agg_meta.to_csv(f'{outDir}/spexmod_sc_meta.tsv',sep = '\\t',header=True,index=True)"
   ]
  },
  {
   "cell_type": "markdown",
   "metadata": {},
   "source": [
    "if p != 0, extremely time consuming"
   ]
  },
  {
   "cell_type": "code",
   "execution_count": 30,
   "metadata": {},
   "outputs": [
    {
     "name": "stdout",
     "output_type": "stream",
     "text": [
      "\t Estimating the cell number in each spot by the deconvolution result.\n",
      "\t SpexMod selects 882 feature genes.\n",
      "\t Init solution: max - 1.0000,     mean - 0.9614,     min - 0.6215\n",
      "\t Swap selection start...\n",
      "\t Swapped solution: max - 1.00,     mean - 0.98,     min - 0.61\n"
     ]
    }
   ],
   "source": [
    "# change p to 0.1, use different code to select cells\n",
    "sc_agg_meta = obj_spex.select_cells(use_sc_orig = True, p = 0.1, mean_num_per_spot = num_per_spot, mode = 'strict', max_rep = 1, \n",
    "                                    repeat_penalty = repeat_penalty)\n",
    "sc_agg_meta.to_csv(f'{outDir}/spexmod_sc_meta.tsv',sep = '\\t',header=True,index=True)"
   ]
  },
  {
   "cell_type": "code",
   "execution_count": 31,
   "metadata": {},
   "outputs": [
    {
     "name": "stdout",
     "output_type": "stream",
     "text": [
      "Running v12 now...\n",
      "Init sc_coord by affinity embedding...\n",
      "Avearge shape correlation is: 0.9775563419483628\n",
      "First-term calculation done!\n",
      "Second-term calculation done!\n",
      "Third term calculation done!\n",
      "Fourth term calculation done!\n",
      "Hyperparameters adjusted.\n",
      "-----Start iteration 0 -----\n",
      "Avearge shape correlation is: 0.9775563419483628\n",
      "First-term calculation done!\n",
      "Second-term calculation done!\n",
      "Third term calculation done!\n",
      "Fourth term calculation done!\n",
      "---0 self.loss4 231.45334216469772 self.GAMMA 0.004929331087856589 self.GAMMA*self.loss4 1.1409101549207525\n",
      "---In iteration 0, the loss is:loss1:1140.91015,loss2:2445.32648,loss3:496.65820,loss4:231.45334,loss5:2943.01440.\n",
      "---In iteration 0, the loss is:loss1:1140.91015,loss2:1140.91015,loss3:1.14091,loss4:1.14091,loss5:114.09102.\n",
      "The total loss after iteration 0 is 2398.19315.\n",
      "-----Start iteration 1 -----\n",
      "Avearge shape correlation is: 0.978597862997212\n",
      "First-term calculation done!\n",
      "Second-term calculation done!\n",
      "Third term calculation done!\n",
      "Fourth term calculation done!\n",
      "---1 self.loss4 226.79467989622168 self.GAMMA 0.004929331087856589 self.GAMMA*self.loss4 1.1179460661729292\n",
      "---In iteration 1, the loss is:loss1:1138.69514,loss2:2442.40921,loss3:530.25528,loss4:226.79468,loss5:2939.78101.\n",
      "---In iteration 1, the loss is:loss1:1138.69514,loss2:1139.54905,loss3:1.21809,loss4:1.11795,loss5:113.96567.\n",
      "The total loss after iteration 1 is 2394.54589.\n",
      "-----Start iteration 2 -----\n",
      "Avearge shape correlation is: 0.9786510642999673\n",
      "First-term calculation done!\n",
      "Second-term calculation done!\n",
      "Third term calculation done!\n",
      "Fourth term calculation done!\n",
      "---2 self.loss4 226.67741911721095 self.GAMMA 0.004929331087856589 self.GAMMA*self.loss4 1.1173680489695652\n",
      "---In iteration 2, the loss is:loss1:1136.48468,loss2:2439.49706,loss3:523.77133,loss4:226.67742,loss5:2936.55226.\n",
      "---In iteration 2, the loss is:loss1:1136.48468,loss2:1138.19033,loss3:1.20319,loss4:1.11737,loss5:113.84050.\n",
      "The total loss after iteration 2 is 2390.83608.\n",
      "-----Start iteration 3 -----\n",
      "Avearge shape correlation is: 0.9785234448868075\n",
      "First-term calculation done!\n",
      "Second-term calculation done!\n",
      "Third term calculation done!\n",
      "Fourth term calculation done!\n",
      "---3 self.loss4 226.1295597599646 self.GAMMA 0.004929331087856589 self.GAMMA*self.loss4 1.1146674688081177\n",
      "---In iteration 3, the loss is:loss1:1134.27873,loss2:2436.59009,loss3:508.93795,loss4:226.12956,loss5:2933.32899.\n",
      "---In iteration 3, the loss is:loss1:1134.27873,loss2:1136.83404,loss3:1.16912,loss4:1.11467,loss5:113.71554.\n",
      "The total loss after iteration 3 is 2387.11210.\n",
      "-----Start iteration 4 -----\n",
      "Avearge shape correlation is: 0.9771310161145249\n",
      "First-term calculation done!\n",
      "Second-term calculation done!\n",
      "Third term calculation done!\n",
      "Fourth term calculation done!\n",
      "---4 self.loss4 225.28793939680284 self.GAMMA 0.004929331087856589 self.GAMMA*self.loss4 1.1105188433878113\n",
      "---In iteration 4, the loss is:loss1:1132.07712,loss2:2433.68797,loss3:521.62106,loss4:225.28794,loss5:2930.11084.\n",
      "---In iteration 4, the loss is:loss1:1132.07712,loss2:1135.48000,loss3:1.19825,loss4:1.11052,loss5:113.59079.\n",
      "The total loss after iteration 4 is 2383.45668.\n",
      "-----Start iteration 5 -----\n",
      "Avearge shape correlation is: 0.9779094826380156\n",
      "First-term calculation done!\n",
      "Second-term calculation done!\n",
      "Third term calculation done!\n",
      "Fourth term calculation done!\n",
      "---5 self.loss4 227.26848190392448 self.GAMMA 0.004929331087856589 self.GAMMA*self.loss4 1.1202815931389876\n",
      "---In iteration 5, the loss is:loss1:1129.87996,loss2:2430.79099,loss3:524.87418,loss4:227.26848,loss5:2926.89811.\n",
      "---In iteration 5, the loss is:loss1:1129.87996,loss2:1134.12837,loss3:1.20573,loss4:1.12028,loss5:113.46624.\n",
      "The total loss after iteration 5 is 2379.80058.\n",
      "-----Start iteration 6 -----\n",
      "Avearge shape correlation is: 0.9782219717025434\n",
      "First-term calculation done!\n",
      "Second-term calculation done!\n",
      "Third term calculation done!\n",
      "Fourth term calculation done!\n",
      "---6 self.loss4 223.36876213715817 self.GAMMA 0.004929331087856589 self.GAMMA*self.loss4 1.1010585832587374\n",
      "---In iteration 6, the loss is:loss1:1127.68729,loss2:2427.89922,loss3:506.68621,loss4:223.36876,loss5:2923.69090.\n",
      "---In iteration 6, the loss is:loss1:1127.68729,loss2:1132.77916,loss3:1.16395,loss4:1.10106,loss5:113.34191.\n",
      "The total loss after iteration 6 is 2376.07336.\n",
      "-----Start iteration 7 -----\n",
      "Avearge shape correlation is: 0.9772312651768663\n",
      "First-term calculation done!\n",
      "Second-term calculation done!\n",
      "Third term calculation done!\n",
      "Fourth term calculation done!\n",
      "---7 self.loss4 224.54197679504597 self.GAMMA 0.004929331087856589 self.GAMMA*self.loss4 1.1068417467445928\n",
      "---In iteration 7, the loss is:loss1:1125.49903,loss2:2425.01236,loss3:491.82793,loss4:224.54198,loss5:2920.48886.\n",
      "---In iteration 7, the loss is:loss1:1125.49903,loss2:1131.43225,loss3:1.12981,loss4:1.10684,loss5:113.21777.\n",
      "The total loss after iteration 7 is 2372.38571.\n",
      "-----Start iteration 8 -----\n",
      "Avearge shape correlation is: 0.977261492388239\n",
      "First-term calculation done!\n",
      "Second-term calculation done!\n",
      "Third term calculation done!\n",
      "Fourth term calculation done!\n",
      "---8 self.loss4 221.35834092675728 self.GAMMA 0.004929331087856589 self.GAMMA*self.loss4 1.0911485514866222\n",
      "---In iteration 8, the loss is:loss1:1123.31523,loss2:2422.13073,loss3:508.79398,loss4:221.35834,loss5:2917.29237.\n",
      "---In iteration 8, the loss is:loss1:1123.31523,loss2:1130.08777,loss3:1.16879,loss4:1.09115,loss5:113.09386.\n",
      "The total loss after iteration 8 is 2368.75679.\n",
      "-----Start iteration 9 -----\n",
      "Avearge shape correlation is: 0.9761836112839638\n",
      "First-term calculation done!\n",
      "Second-term calculation done!\n",
      "Third term calculation done!\n",
      "Fourth term calculation done!\n",
      "---9 self.loss4 222.03028155894663 self.GAMMA 0.004929331087856589 self.GAMMA*self.loss4 1.094460769334067\n",
      "---In iteration 9, the loss is:loss1:1121.13583,loss2:2419.25396,loss3:507.90410,loss4:222.03028,loss5:2914.10101.\n",
      "---In iteration 9, the loss is:loss1:1121.13583,loss2:1128.74556,loss3:1.16674,loss4:1.09446,loss5:112.97014.\n",
      "The total loss after iteration 9 is 2365.11274.\n",
      "-----Start iteration 10 -----\n",
      "Avearge shape correlation is: 0.978551805076107\n",
      "First-term calculation done!\n",
      "Second-term calculation done!\n",
      "Third term calculation done!\n",
      "Fourth term calculation done!\n",
      "---10 self.loss4 220.48521477142023 self.GAMMA 0.004929331087856589 self.GAMMA*self.loss4 1.0868446235854985\n",
      "---In iteration 10, the loss is:loss1:1118.96076,loss2:2416.38227,loss3:500.37776,loss4:220.48521,loss5:2910.91502.\n",
      "---In iteration 10, the loss is:loss1:1118.96076,loss2:1127.40573,loss3:1.14945,loss4:1.08684,loss5:112.84663.\n",
      "The total loss after iteration 10 is 2361.44942.\n",
      "-----Start iteration 11 -----\n",
      "Avearge shape correlation is: 0.9777334540279087\n",
      "First-term calculation done!\n",
      "Second-term calculation done!\n",
      "Third term calculation done!\n",
      "Fourth term calculation done!\n",
      "---11 self.loss4 221.2753451146949 self.GAMMA 0.004929331087856589 self.GAMMA*self.loss4 1.090739437650061\n",
      "---In iteration 11, the loss is:loss1:1116.79017,loss2:2413.51567,loss3:543.40628,loss4:221.27535,loss5:2907.73441.\n",
      "---In iteration 11, the loss is:loss1:1116.79017,loss2:1126.06826,loss3:1.24830,loss4:1.09074,loss5:112.72333.\n",
      "The total loss after iteration 11 is 2357.92080.\n",
      "-----Start iteration 12 -----\n",
      "Avearge shape correlation is: 0.9797934153445566\n",
      "First-term calculation done!\n",
      "Second-term calculation done!\n",
      "Third term calculation done!\n",
      "Fourth term calculation done!\n",
      "---12 self.loss4 224.9744797119048 self.GAMMA 0.004929331087856589 self.GAMMA*self.loss4 1.1089736968182538\n",
      "---In iteration 12, the loss is:loss1:1114.62399,loss2:2410.65418,loss3:498.95895,loss4:224.97448,loss5:2904.55919.\n",
      "---In iteration 12, the loss is:loss1:1114.62399,loss2:1124.73318,loss3:1.14620,loss4:1.10897,loss5:112.60023.\n",
      "The total loss after iteration 12 is 2354.21258.\n",
      "-----Start iteration 13 -----\n",
      "Avearge shape correlation is: 0.9766118909250436\n",
      "First-term calculation done!\n",
      "Second-term calculation done!\n",
      "Third term calculation done!\n",
      "Fourth term calculation done!\n",
      "---13 self.loss4 226.369694872467 self.GAMMA 0.004929331087856589 self.GAMMA*self.loss4 1.1158511742834618\n",
      "---In iteration 13, the loss is:loss1:1112.46205,loss2:2407.79746,loss3:506.11147,loss4:226.36969,loss5:2901.38903.\n",
      "---In iteration 13, the loss is:loss1:1112.46205,loss2:1123.40033,loss3:1.16263,loss4:1.11585,loss5:112.47734.\n",
      "The total loss after iteration 13 is 2350.61819.\n",
      "-----Start iteration 14 -----\n",
      "Avearge shape correlation is: 0.9781078876514201\n",
      "First-term calculation done!\n",
      "Second-term calculation done!\n",
      "Third term calculation done!\n",
      "Fourth term calculation done!\n",
      "---14 self.loss4 223.5952120538318 self.GAMMA 0.004929331087856589 self.GAMMA*self.loss4 1.1021748298728393\n",
      "---In iteration 14, the loss is:loss1:1110.30445,loss2:2404.94570,loss3:527.17957,loss4:223.59521,loss5:2898.22407.\n",
      "---In iteration 14, the loss is:loss1:1110.30445,loss2:1122.06979,loss3:1.21102,loss4:1.10217,loss5:112.35464.\n",
      "The total loss after iteration 14 is 2347.04208.\n",
      "-----Start iteration 15 -----\n",
      "Avearge shape correlation is: 0.9786808608233155\n",
      "First-term calculation done!\n",
      "Second-term calculation done!\n",
      "Third term calculation done!\n",
      "Fourth term calculation done!\n",
      "---15 self.loss4 222.23690802704175 self.GAMMA 0.004929331087856589 self.GAMMA*self.loss4 1.0954792996068223\n",
      "---In iteration 15, the loss is:loss1:1108.15129,loss2:2402.09906,loss3:487.93846,loss4:222.23691,loss5:2895.06457.\n",
      "---In iteration 15, the loss is:loss1:1108.15129,loss2:1120.74164,loss3:1.12088,loss4:1.09548,loss5:112.23216.\n",
      "The total loss after iteration 15 is 2343.34145.\n",
      "-----Start iteration 16 -----\n",
      "Avearge shape correlation is: 0.9778424766752755\n",
      "First-term calculation done!\n",
      "Second-term calculation done!\n",
      "Third term calculation done!\n",
      "Fourth term calculation done!\n",
      "---16 self.loss4 216.50508621913724 self.GAMMA 0.004929331087856589 self.GAMMA*self.loss4 1.0672252521790644\n",
      "---In iteration 16, the loss is:loss1:1106.00250,loss2:2399.25730,loss3:471.82028,loss4:216.50509,loss5:2891.91022.\n",
      "---In iteration 16, the loss is:loss1:1106.00250,loss2:1119.41577,loss3:1.08385,loss4:1.06723,loss5:112.10987.\n",
      "The total loss after iteration 16 is 2339.67922.\n",
      "-----Start iteration 17 -----\n",
      "Avearge shape correlation is: 0.9777419182449368\n",
      "First-term calculation done!\n",
      "Second-term calculation done!\n",
      "Third term calculation done!\n",
      "Fourth term calculation done!\n",
      "---17 self.loss4 221.3659331118807 self.GAMMA 0.004929331087856589 self.GAMMA*self.loss4 1.0911859758807758\n",
      "---In iteration 17, the loss is:loss1:1103.85805,loss2:2396.42065,loss3:518.41613,loss4:221.36593,loss5:2888.76128.\n",
      "---In iteration 17, the loss is:loss1:1103.85805,loss2:1118.09228,loss3:1.19089,loss4:1.09119,loss5:111.98780.\n",
      "The total loss after iteration 17 is 2336.22020.\n",
      "-----Start iteration 18 -----\n",
      "Avearge shape correlation is: 0.9787560668661582\n",
      "First-term calculation done!\n",
      "Second-term calculation done!\n",
      "Third term calculation done!\n",
      "Fourth term calculation done!\n",
      "---18 self.loss4 219.40060919220906 self.GAMMA 0.004929331087856589 self.GAMMA*self.loss4 1.0814982435858302\n",
      "---In iteration 18, the loss is:loss1:1101.71789,loss2:2393.58887,loss3:509.05760,loss4:219.40061,loss5:2885.61749.\n",
      "---In iteration 18, the loss is:loss1:1101.71789,loss2:1116.77106,loss3:1.16939,loss4:1.08150,loss5:111.86593.\n",
      "The total loss after iteration 18 is 2332.60576.\n",
      "-----Start iteration 19 -----\n",
      "Avearge shape correlation is: 0.9788779782385238\n",
      "First-term calculation done!\n",
      "Second-term calculation done!\n",
      "Third term calculation done!\n",
      "Fourth term calculation done!\n",
      "---19 self.loss4 223.62469810672306 self.GAMMA 0.004929331087856589 self.GAMMA*self.loss4 1.1023201763900143\n",
      "---In iteration 19, the loss is:loss1:1099.58209,loss2:2390.76211,loss3:550.17316,loss4:223.62470,loss5:2882.47901.\n",
      "---In iteration 19, the loss is:loss1:1099.58209,loss2:1115.45219,loss3:1.26384,loss4:1.10232,loss5:111.74426.\n",
      "The total loss after iteration 19 is 2329.14470.\n",
      "Avearge shape correlation is: 0.9800505482332755\n"
     ]
    }
   ],
   "source": [
    "alter_sc_exp, sc_agg_meta = obj_spex.gradient_descent(\n",
    "                alpha, beta, gamma, delta, eta, \n",
    "                init_sc_embed = False,\n",
    "                iteration = max_rep, k = 2, W_HVG = 2,\n",
    "                left_range = 1, right_range = 2, steps = 1, dim = 2)\n",
    "sc_agg_meta.to_csv(f'{outDir}/spexmod_sc_meta.tsv',sep = '\\t',header=True,index=True)\n",
    "with open(f'{outDir}/sc_knn.json', 'w') as fp:\n",
    "    json.dump(obj_spex.sc_knn, fp)\n",
    "# utils.save_object(obj_spex, f'{outDir}/obj_spex.pkl')\n"
   ]
  }
 ],
 "metadata": {
  "kernelspec": {
   "display_name": "Python 3.8.8 ('base')",
   "language": "python",
   "name": "python3"
  },
  "language_info": {
   "codemirror_mode": {
    "name": "ipython",
    "version": 3
   },
   "file_extension": ".py",
   "mimetype": "text/x-python",
   "name": "python",
   "nbconvert_exporter": "python",
   "pygments_lexer": "ipython3",
   "version": "3.8.10"
  },
  "orig_nbformat": 4,
  "vscode": {
   "interpreter": {
    "hash": "7786051ca713700aed95fca0518a8a985661b55e7fd6f71a0a277d271e5f8daf"
   }
  }
 },
 "nbformat": 4,
 "nbformat_minor": 2
}
