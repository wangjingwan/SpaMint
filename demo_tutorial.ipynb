{
 "cells": [
  {
   "cell_type": "markdown",
   "metadata": {},
   "source": [
    "# 0. Import libraries"
   ]
  },
  {
   "cell_type": "code",
   "execution_count": 1,
   "metadata": {},
   "outputs": [],
   "source": [
    "import os\n",
    "import scanpy as sc\n",
    "import pandas as pd\n",
    "import numpy as np\n",
    "import json\n",
    "\n",
    "import warnings\n",
    "warnings.filterwarnings(\"ignore\")"
   ]
  },
  {
   "cell_type": "code",
   "execution_count": 2,
   "metadata": {},
   "outputs": [],
   "source": [
    "from spamint import sprout_plus\n",
    "from spamint import preprocess as pp"
   ]
  },
  {
   "attachments": {},
   "cell_type": "markdown",
   "metadata": {},
   "source": [
    "# 1. Load files"
   ]
  },
  {
   "cell_type": "code",
   "execution_count": 3,
   "metadata": {},
   "outputs": [],
   "source": [
    "inputDir = './tutorial/demo/'\n",
    "outDir = f'{inputDir}/demo_results/'\n",
    "sc_exp = pd.read_csv(f'{inputDir}/SC_exp.tsv',sep = '\\t',header=0,index_col=0)\n",
    "sc_meta = pd.read_csv(f'{inputDir}/SC_meta.tsv',sep = '\\t',header=0,index_col=0)\n",
    "st_exp = pd.read_csv(f'{inputDir}/ST_exp.tsv',sep = '\\t',header=0,index_col=0)\n",
    "st_coord = pd.read_csv(f'{inputDir}/ST_coord.tsv',sep = '\\t',header=0,index_col=0)\n",
    "st_decon = pd.read_csv(f'{inputDir}/ST_decon.tsv',sep = '\\t',header=0,index_col=0)\n",
    "# TODO run smurf for demo\n",
    "sc_smurf = sc_exp + np.random.rand(sc_exp.shape[0],sc_exp.shape[1])*10\n",
    "lr_df = pd.read_csv('./LR/mouse_LR_pairs.txt',sep='\\t',header=None)"
   ]
  },
  {
   "attachments": {},
   "cell_type": "markdown",
   "metadata": {},
   "source": [
    "# 2.Run sprout"
   ]
  },
  {
   "cell_type": "code",
   "execution_count": 4,
   "metadata": {},
   "outputs": [],
   "source": [
    "species = 'Mouse'\n",
    "st_tp = 'st'"
   ]
  },
  {
   "cell_type": "code",
   "execution_count": 5,
   "metadata": {},
   "outputs": [],
   "source": [
    "st_coord.index = ['spot_' + str(x) for x in st_coord.index]\n",
    "st_exp.index = ['spot_' + str(x) for x in st_exp.index]\n",
    "st_decon.index = ['spot_' + str(x) for x in st_decon.index]\n",
    "sc_exp.index = ['cell_' + str(x) for x in sc_exp.index]\n",
    "sc_meta.index = ['cell_' + str(x) for x in sc_meta.index]\n",
    "sc_smurf.index = ['cell_' + str(x) for x in sc_smurf.index]"
   ]
  },
  {
   "cell_type": "markdown",
   "metadata": {},
   "source": [
    "# Parameters"
   ]
  },
  {
   "cell_type": "code",
   "execution_count": 6,
   "metadata": {},
   "outputs": [],
   "source": [
    "SUM = 1e4\n",
    "alpha, beta, gamma, delta, eta = [1, 0.001, 0.001, 0.1, 0.0005]\n",
    "if st_tp == 'slide-seq':\n",
    "    num_per_spot = 1\n",
    "    repeat_penalty = 2\n",
    "else:\n",
    "    num_per_spot = 10\n",
    "    repeat_penalty = int((st_exp.shape[0] * num_per_spot/sc_exp.shape[0]) * 10)\n",
    "\n",
    "max_rep = 20"
   ]
  },
  {
   "cell_type": "code",
   "execution_count": 7,
   "metadata": {},
   "outputs": [
    {
     "data": {
      "text/plain": [
       "<module 'spamint.sprout_plus' from '/home/notify/Documents/2406-work/SpaMint/spamint/sprout_plus.py'>"
      ]
     },
     "execution_count": 7,
     "metadata": {},
     "output_type": "execute_result"
    }
   ],
   "source": [
    "from importlib import reload\n",
    "reload(sprout_plus)"
   ]
  },
  {
   "cell_type": "markdown",
   "metadata": {},
   "source": [
    "# Preprocess"
   ]
  },
  {
   "cell_type": "code",
   "execution_count": 8,
   "metadata": {},
   "outputs": [
    {
     "name": "stdout",
     "output_type": "stream",
     "text": [
      "Data clean and scale are done! Single-cell data has 882 genes, spatial data has 882 genes.\n"
     ]
    }
   ],
   "source": [
    "if st_exp.shape[1]<1e4:\n",
    "    # merfish data, only has 200~500 genes\n",
    "    sc_adata, st_adata, sc_ref, lr_df = pp.prep_all_adata_merfish(sc_exp = sc_exp, st_exp = st_exp, sc_distribution = sc_smurf, \n",
    "                                                        sc_meta = sc_meta, st_coord = st_coord, lr_df = lr_df, SP = species)\n",
    "else:\n",
    "    sc_adata, st_adata, sc_ref, lr_df = pp.prep_all_adata(sc_exp = sc_exp, st_exp = st_exp, sc_distribution = sc_smurf, \n",
    "                                                            sc_meta = sc_meta, st_coord = st_coord, lr_df = lr_df, SP = species)"
   ]
  },
  {
   "cell_type": "code",
   "execution_count": 9,
   "metadata": {},
   "outputs": [
    {
     "name": "stdout",
     "output_type": "stream",
     "text": [
      "sc_ref and sc_adata has different genes, both data are subset to 882 genes.\n",
      "Parameters checked!\n",
      "Getting svg genes\n",
      "By setting k as 4, each spot has average 3.9788359788359786 neighbors.\n"
     ]
    }
   ],
   "source": [
    "obj_spex = sprout_plus.SpaMint(save_path = outDir, st_adata = st_adata, weight = st_decon, \n",
    "                 sc_ref = sc_ref, sc_adata = sc_adata, cell_type_key = 'celltype', lr_df = lr_df, \n",
    "                 st_tp = st_tp)"
   ]
  },
  {
   "cell_type": "markdown",
   "metadata": {},
   "source": [
    "# cell selection"
   ]
  },
  {
   "cell_type": "code",
   "execution_count": 10,
   "metadata": {},
   "outputs": [
    {
     "name": "stdout",
     "output_type": "stream",
     "text": [
      "\t Estimating the cell number in each spot by the deconvolution result.\n",
      "\t SpexMod selects 882 feature genes.\n",
      "\t Init solution: max - 1.0000,     mean - 0.9632,     min - 0.7753\n",
      "\t Swap selection start...\n",
      "\t Swapped solution: max - 1.00,     mean - 0.99,     min - 0.94\n"
     ]
    }
   ],
   "source": [
    "sc_agg_meta = obj_spex.select_cells(use_sc_orig = True, p = 0, mean_num_per_spot = num_per_spot, mode = 'strict', max_rep = 1,\n",
    "                                    repeat_penalty = repeat_penalty)\n",
    "sc_agg_meta.to_csv(f'{outDir}/spexmod_sc_meta.tsv',sep = '\\t',header=True,index=True)"
   ]
  },
  {
   "cell_type": "markdown",
   "metadata": {},
   "source": [
    "if p != 0, extremely time consuming"
   ]
  },
  {
   "cell_type": "code",
   "execution_count": 11,
   "metadata": {},
   "outputs": [
    {
     "name": "stdout",
     "output_type": "stream",
     "text": [
      "\t Estimating the cell number in each spot by the deconvolution result.\n",
      "\t SpexMod selects 882 feature genes.\n",
      "\t Init solution: max - 1.0000,     mean - 0.9635,     min - 0.7753\n",
      "\t Swap selection start...\n",
      "\t Swapped solution: max - 1.00,     mean - 0.97,     min - 0.81\n"
     ]
    }
   ],
   "source": [
    "# change p to 0.1, use different code to select cells\n",
    "#sc_agg_meta = obj_spex.select_cells(use_sc_orig = True, p = 0.1, mean_num_per_spot = num_per_spot, mode = 'strict', max_rep = 1, \n",
    "#                                    repeat_penalty = repeat_penalty)\n",
    "#sc_agg_meta.to_csv(f'{outDir}/spexmod_sc_meta.tsv',sep = '\\t',header=True,index=True)"
   ]
  },
  {
   "cell_type": "code",
   "execution_count": 12,
   "metadata": {},
   "outputs": [
    {
     "name": "stdout",
     "output_type": "stream",
     "text": [
      "Running v12 now...\n",
      "Init sc_coord by affinity embedding...\n",
      "Average shape correlation is: 0.9781484686379595\n",
      "First-term calculation done!\n",
      "Second-term calculation done!\n",
      "Third term calculation done!\n",
      "Fourth term calculation done!\n",
      "Hyperparameters adjusted.\n",
      "-----Start iteration 0 -----\n",
      "Average shape correlation is: 0.9781484686379595\n",
      "First-term calculation done!\n",
      "Second-term calculation done!\n",
      "Third term calculation done!\n",
      "Fourth term calculation done!\n",
      "---0 self.loss4 506.23408458969135 self.GAMMA 0.003257917226911025 self.GAMMA*self.loss4 1.6492687450342884\n",
      "---In iteration 0, the loss is:loss1:1649.26875,loss2:2654.15712,loss3:1303.35056,loss4:506.23408,loss5:3381.05054.\n",
      "---In iteration 0, the loss is:loss1:1649.26875,loss2:1649.26875,loss3:1.64927,loss4:1.64927,loss5:164.92687.\n",
      "The total loss after iteration 0 is 3466.76290.\n",
      "-----Start iteration 1 -----\n",
      "Average shape correlation is: 0.9771336656771149\n",
      "First-term calculation done!\n",
      "Second-term calculation done!\n",
      "Third term calculation done!\n",
      "Fourth term calculation done!\n",
      "---1 self.loss4 512.7978011059233 self.GAMMA 0.003257917226911025 self.GAMMA*self.loss4 1.6706527901450812\n",
      "---In iteration 1, the loss is:loss1:1645.99967,loss2:2650.31446,loss3:679.92962,loss4:512.79780,loss5:3376.68735.\n",
      "---In iteration 1, the loss is:loss1:1645.99967,loss2:1646.88095,loss3:0.86039,loss4:1.67065,loss5:164.71404.\n",
      "The total loss after iteration 1 is 3460.12570.\n",
      "-----Start iteration 2 -----\n",
      "Average shape correlation is: 0.9769990519265231\n",
      "First-term calculation done!\n",
      "Second-term calculation done!\n",
      "Third term calculation done!\n",
      "Fourth term calculation done!\n",
      "---2 self.loss4 515.8718198185184 self.GAMMA 0.003257917226911025 self.GAMMA*self.loss4 1.6806676886646914\n",
      "---In iteration 2, the loss is:loss1:1642.73730,loss2:2646.47900,loss3:677.15288,loss4:515.87182,loss5:3372.33220.\n",
      "---In iteration 2, the loss is:loss1:1642.73730,loss2:1644.49763,loss3:0.85687,loss4:1.68067,loss5:164.50160.\n",
      "The total loss after iteration 2 is 3454.27407.\n",
      "-----Start iteration 3 -----\n",
      "Average shape correlation is: 0.9763417673220717\n",
      "First-term calculation done!\n",
      "Second-term calculation done!\n",
      "Third term calculation done!\n",
      "Fourth term calculation done!\n",
      "---3 self.loss4 505.2249722661873 self.GAMMA 0.003257917226911025 self.GAMMA*self.loss4 1.6459811406116565\n",
      "---In iteration 3, the loss is:loss1:1639.48161,loss2:2642.65068,loss3:702.54629,loss4:505.22497,loss5:3367.98471.\n",
      "---In iteration 3, the loss is:loss1:1639.48161,loss2:1642.11875,loss3:0.88901,loss4:1.64598,loss5:164.28953.\n",
      "The total loss after iteration 3 is 3448.42487.\n",
      "-----Start iteration 4 -----\n",
      "Average shape correlation is: 0.9779969675172158\n",
      "First-term calculation done!\n",
      "Second-term calculation done!\n",
      "Third term calculation done!\n",
      "Fourth term calculation done!\n",
      "---4 self.loss4 488.36127933359944 self.GAMMA 0.003257917226911025 self.GAMMA*self.loss4 1.5910406248972409\n",
      "---In iteration 4, the loss is:loss1:1636.23257,loss2:2638.82955,loss3:804.59116,loss4:488.36128,loss5:3363.64490.\n",
      "---In iteration 4, the loss is:loss1:1636.23257,loss2:1639.74433,loss3:1.01814,loss4:1.59104,loss5:164.07783.\n",
      "The total loss after iteration 4 is 3442.66391.\n",
      "-----Start iteration 5 -----\n",
      "Average shape correlation is: 0.9770572920931181\n",
      "First-term calculation done!\n",
      "Second-term calculation done!\n",
      "Third term calculation done!\n",
      "Fourth term calculation done!\n",
      "---5 self.loss4 488.7100335584162 self.GAMMA 0.003257917226911025 self.GAMMA*self.loss4 1.5921768372942293\n",
      "---In iteration 5, the loss is:loss1:1632.99021,loss2:2635.01559,loss3:681.74523,loss4:488.71003,loss5:3359.31279.\n",
      "---In iteration 5, the loss is:loss1:1632.99021,loss2:1637.37437,loss3:0.86269,loss4:1.59218,loss5:163.86651.\n",
      "The total loss after iteration 5 is 3436.68596.\n",
      "-----Start iteration 6 -----\n",
      "Average shape correlation is: 0.9769039325317305\n",
      "First-term calculation done!\n",
      "Second-term calculation done!\n",
      "Third term calculation done!\n",
      "Fourth term calculation done!\n",
      "---6 self.loss4 511.79196106049034 self.GAMMA 0.003257917226911025 self.GAMMA*self.loss4 1.667375846533548\n",
      "---In iteration 6, the loss is:loss1:1629.75447,loss2:2631.20874,loss3:790.02891,loss4:511.79196,loss5:3354.98830.\n",
      "---In iteration 6, the loss is:loss1:1629.75447,loss2:1635.00883,loss3:0.99971,loss4:1.66738,loss5:163.65556.\n",
      "The total loss after iteration 6 is 3431.08595.\n",
      "-----Start iteration 7 -----\n",
      "Average shape correlation is: 0.9771147554854815\n",
      "First-term calculation done!\n",
      "Second-term calculation done!\n",
      "Third term calculation done!\n",
      "Fourth term calculation done!\n",
      "---7 self.loss4 502.8376876340626 self.GAMMA 0.003257917226911025 self.GAMMA*self.loss4 1.6382035648831175\n",
      "---In iteration 7, the loss is:loss1:1626.52539,loss2:2627.40904,loss3:682.74851,loss4:502.83769,loss5:3350.67146.\n",
      "---In iteration 7, the loss is:loss1:1626.52539,loss2:1632.64773,loss3:0.86395,loss4:1.63820,loss5:163.44499.\n",
      "The total loss after iteration 7 is 3425.12027.\n",
      "-----Start iteration 8 -----\n",
      "Average shape correlation is: 0.9763367143535066\n",
      "First-term calculation done!\n",
      "Second-term calculation done!\n",
      "Third term calculation done!\n",
      "Fourth term calculation done!\n",
      "---8 self.loss4 497.79640972398516 self.GAMMA 0.003257917226911025 self.GAMMA*self.loss4 1.6217794987342302\n",
      "---In iteration 8, the loss is:loss1:1623.30291,loss2:2623.61641,loss3:810.91043,loss4:497.79641,loss5:3346.36220.\n",
      "---In iteration 8, the loss is:loss1:1623.30291,loss2:1630.29103,loss3:1.02613,loss4:1.62178,loss5:163.23479.\n",
      "The total loss after iteration 8 is 3419.47663.\n",
      "-----Start iteration 9 -----\n",
      "Average shape correlation is: 0.9761553264278727\n",
      "First-term calculation done!\n",
      "Second-term calculation done!\n",
      "Third term calculation done!\n",
      "Fourth term calculation done!\n",
      "---9 self.loss4 493.3246236291234 self.GAMMA 0.003257917226911025 self.GAMMA*self.loss4 1.6072107897807189\n",
      "---In iteration 9, the loss is:loss1:1620.08701,loss2:2619.83088,loss3:800.93397,loss4:493.32462,loss5:3342.06054.\n",
      "---In iteration 9, the loss is:loss1:1620.08701,loss2:1627.93873,loss3:1.01351,loss4:1.60721,loss5:163.02495.\n",
      "The total loss after iteration 9 is 3413.67141.\n",
      "-----Start iteration 10 -----\n",
      "Average shape correlation is: 0.9774986984807561\n",
      "First-term calculation done!\n",
      "Second-term calculation done!\n",
      "Third term calculation done!\n",
      "Fourth term calculation done!\n",
      "---10 self.loss4 490.23318136118496 self.GAMMA 0.003257917226911025 self.GAMMA*self.loss4 1.5971391267600012\n",
      "---In iteration 10, the loss is:loss1:1616.87770,loss2:2616.05244,loss3:694.05996,loss4:490.23318,loss5:3337.76647.\n",
      "---In iteration 10, the loss is:loss1:1616.87770,loss2:1625.59084,loss3:0.87827,loss4:1.59714,loss5:162.81549.\n",
      "The total loss after iteration 10 is 3407.75944.\n",
      "-----Start iteration 11 -----\n",
      "Average shape correlation is: 0.9765622313983768\n",
      "First-term calculation done!\n",
      "Second-term calculation done!\n",
      "Third term calculation done!\n",
      "Fourth term calculation done!\n",
      "---11 self.loss4 538.8476113857394 self.GAMMA 0.003257917226911025 self.GAMMA*self.loss4 1.7555209158134577\n",
      "---In iteration 11, the loss is:loss1:1613.67497,loss2:2612.28103,loss3:709.51118,loss4:538.84761,loss5:3333.47995.\n",
      "---In iteration 11, the loss is:loss1:1613.67497,loss2:1623.24733,loss3:0.89782,loss4:1.75552,loss5:162.60639.\n",
      "The total loss after iteration 11 is 3402.18203.\n",
      "-----Start iteration 12 -----\n",
      "Average shape correlation is: 0.9781648493869763\n",
      "First-term calculation done!\n",
      "Second-term calculation done!\n",
      "Third term calculation done!\n",
      "Fourth term calculation done!\n",
      "---12 self.loss4 510.81308873727824 self.GAMMA 0.003257917226911025 self.GAMMA*self.loss4 1.6641867615288088\n",
      "---In iteration 12, the loss is:loss1:1610.47880,loss2:2608.51667,loss3:685.31850,loss4:510.81309,loss5:3329.20099.\n",
      "---In iteration 12, the loss is:loss1:1610.47880,loss2:1620.90819,loss3:0.86721,loss4:1.66419,loss5:162.39767.\n",
      "The total loss after iteration 12 is 3396.31605.\n",
      "-----Start iteration 13 -----\n",
      "Average shape correlation is: 0.97790744535629\n",
      "First-term calculation done!\n",
      "Second-term calculation done!\n",
      "Third term calculation done!\n",
      "Fourth term calculation done!\n",
      "---13 self.loss4 493.81205356444167 self.GAMMA 0.003257917226911025 self.GAMMA*self.loss4 1.6087987961639043\n",
      "---In iteration 13, the loss is:loss1:1607.28919,loss2:2604.75936,loss3:697.45353,loss4:493.81205,loss5:3324.92958.\n",
      "---In iteration 13, the loss is:loss1:1607.28919,loss2:1618.57343,loss3:0.88256,loss4:1.60880,loss5:162.18931.\n",
      "The total loss after iteration 13 is 3390.54329.\n",
      "-----Start iteration 14 -----\n",
      "Average shape correlation is: 0.9772934242655644\n",
      "First-term calculation done!\n",
      "Second-term calculation done!\n",
      "Third term calculation done!\n",
      "Fourth term calculation done!\n",
      "---14 self.loss4 493.07242430200836 self.GAMMA 0.003257917226911025 self.GAMMA*self.loss4 1.6063891452482955\n",
      "---In iteration 14, the loss is:loss1:1604.10609,loss2:2601.00907,loss3:694.28912,loss4:493.07242,loss5:3320.66568.\n",
      "---In iteration 14, the loss is:loss1:1604.10609,loss2:1616.24303,loss3:0.87856,loss4:1.60639,loss5:161.98132.\n",
      "The total loss after iteration 14 is 3384.81538.\n",
      "-----Start iteration 15 -----\n",
      "Average shape correlation is: 0.9758711184326888\n",
      "First-term calculation done!\n",
      "Second-term calculation done!\n",
      "Third term calculation done!\n",
      "Fourth term calculation done!\n",
      "---15 self.loss4 503.4027196134183 self.GAMMA 0.003257917226911025 self.GAMMA*self.loss4 1.640044392302416\n",
      "---In iteration 15, the loss is:loss1:1600.92949,loss2:2597.26578,loss3:805.56597,loss4:503.40272,loss5:3316.40931.\n",
      "---In iteration 15, the loss is:loss1:1600.92949,loss2:1613.91699,loss3:1.01937,loss4:1.64004,loss5:161.77369.\n",
      "The total loss after iteration 15 is 3379.27959.\n",
      "-----Start iteration 16 -----\n",
      "Average shape correlation is: 0.9774656423646245\n",
      "First-term calculation done!\n",
      "Second-term calculation done!\n",
      "Third term calculation done!\n",
      "Fourth term calculation done!\n",
      "---16 self.loss4 503.15252253079166 self.GAMMA 0.003257917226911025 self.GAMMA*self.loss4 1.6392292709168037\n",
      "---In iteration 16, the loss is:loss1:1597.75942,loss2:2593.52952,loss3:680.69200,loss4:503.15252,loss5:3312.16047.\n",
      "---In iteration 16, the loss is:loss1:1597.75942,loss2:1611.59531,loss3:0.86135,loss4:1.63923,loss5:161.56643.\n",
      "The total loss after iteration 16 is 3373.42175.\n",
      "-----Start iteration 17 -----\n",
      "Average shape correlation is: 0.9772739268121392\n",
      "First-term calculation done!\n",
      "Second-term calculation done!\n",
      "Third term calculation done!\n",
      "Fourth term calculation done!\n",
      "---17 self.loss4 505.4393507764104 self.GAMMA 0.003257917226911025 self.GAMMA*self.loss4 1.6466795680531918\n",
      "---In iteration 17, the loss is:loss1:1594.59803,loss2:2589.80019,loss3:1344.51060,loss4:505.43935,loss5:3307.91907.\n",
      "---In iteration 17, the loss is:loss1:1594.59803,loss2:1609.27794,loss3:1.70135,loss4:1.64668,loss5:161.35954.\n",
      "The total loss after iteration 17 is 3368.58355.\n",
      "-----Start iteration 18 -----\n",
      "Average shape correlation is: 0.9785358874762237\n",
      "First-term calculation done!\n",
      "Second-term calculation done!\n",
      "Third term calculation done!\n",
      "Fourth term calculation done!\n",
      "---18 self.loss4 481.11989643989193 self.GAMMA 0.003257917226911025 self.GAMMA*self.loss4 1.5674487988211723\n",
      "---In iteration 18, the loss is:loss1:1591.44489,loss2:2586.07785,loss3:693.93262,loss4:481.11990,loss5:3303.68518.\n",
      "---In iteration 18, the loss is:loss1:1591.44489,loss2:1606.96491,loss3:0.87811,loss4:1.56745,loss5:161.15301.\n",
      "The total loss after iteration 18 is 3362.00837.\n",
      "-----Start iteration 19 -----\n",
      "Average shape correlation is: 0.9779478066473942\n",
      "First-term calculation done!\n",
      "Second-term calculation done!\n",
      "Third term calculation done!\n",
      "Fourth term calculation done!\n",
      "---19 self.loss4 496.70359726943065 self.GAMMA 0.003257917226911025 self.GAMMA*self.loss4 1.618219206212754\n",
      "---In iteration 19, the loss is:loss1:1588.29820,loss2:2582.36244,loss3:705.26501,loss4:496.70360,loss5:3299.45873.\n",
      "---In iteration 19, the loss is:loss1:1588.29820,loss2:1604.65619,loss3:0.89245,loss4:1.61822,loss5:160.94684.\n",
      "The total loss after iteration 19 is 3356.41190.\n",
      "Average shape correlation is: 0.9776315090732632\n"
     ]
    }
   ],
   "source": [
    "alter_sc_exp, sc_agg_meta = obj_spex.gradient_descent(\n",
    "                alpha, beta, gamma, delta, eta, \n",
    "                init_sc_embed = False,\n",
    "                iteration = max_rep, k = 2, W_HVG = 2,\n",
    "                left_range = 1, right_range = 2, steps = 1, dim = 2)\n",
    "sc_agg_meta.to_csv(f'{outDir}/spexmod_sc_meta.tsv',sep = '\\t',header=True,index=True)\n",
    "with open(f'{outDir}/sc_knn.json', 'w') as fp:\n",
    "    json.dump(obj_spex.sc_knn, fp)\n",
    "# utils.save_object(obj_spex, f'{outDir}/obj_spex.pkl')\n"
   ]
  }
 ],
 "metadata": {
  "kernelspec": {
   "display_name": ".venv",
   "language": "python",
   "name": "python3"
  },
  "language_info": {
   "codemirror_mode": {
    "name": "ipython",
    "version": 3
   },
   "file_extension": ".py",
   "mimetype": "text/x-python",
   "name": "python",
   "nbconvert_exporter": "python",
   "pygments_lexer": "ipython3",
   "version": "3.12.3"
  }
 },
 "nbformat": 4,
 "nbformat_minor": 4
}
