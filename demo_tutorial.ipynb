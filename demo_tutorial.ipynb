{
 "cells": [
  {
   "cell_type": "markdown",
   "metadata": {},
   "source": [
    "# 0. Import libraries"
   ]
  },
  {
   "cell_type": "code",
   "execution_count": 2,
   "metadata": {},
   "outputs": [],
   "source": [
    "import os\n",
    "import scanpy as sc\n",
    "import pandas as pd\n",
    "import numpy as np\n",
    "import json\n",
    "\n",
    "import warnings\n",
    "warnings.filterwarnings(\"ignore\")"
   ]
  },
  {
   "cell_type": "code",
   "execution_count": 3,
   "metadata": {},
   "outputs": [],
   "source": [
    "from spamint import sprout_plus\n",
    "from spamint import preprocess as pp"
   ]
  },
  {
   "attachments": {},
   "cell_type": "markdown",
   "metadata": {},
   "source": [
    "# 1. Load files"
   ]
  },
  {
   "cell_type": "code",
   "execution_count": 4,
   "metadata": {},
   "outputs": [],
   "source": [
    "inputDir = './tutorial/demo/'\n",
    "outDir = f'{inputDir}/demo_results/'\n",
    "sc_exp = pd.read_csv(f'{inputDir}/SC_exp.tsv',sep = '\\t',header=0,index_col=0)\n",
    "sc_meta = pd.read_csv(f'{inputDir}/SC_meta.tsv',sep = '\\t',header=0,index_col=0)\n",
    "st_exp = pd.read_csv(f'{inputDir}/ST_exp.tsv',sep = '\\t',header=0,index_col=0)\n",
    "st_coord = pd.read_csv(f'{inputDir}/ST_coord.tsv',sep = '\\t',header=0,index_col=0)\n",
    "st_decon = pd.read_csv(f'{inputDir}/ST_decon.tsv',sep = '\\t',header=0,index_col=0)\n",
    "# TODO run smurf for demo\n",
    "sc_smurf = sc_exp + np.random.rand(sc_exp.shape[0],sc_exp.shape[1])*10\n",
    "lr_df = pd.read_csv('./LR/mouse_LR_pairs.txt',sep='\\t',header=None)"
   ]
  },
  {
   "attachments": {},
   "cell_type": "markdown",
   "metadata": {},
   "source": [
    "# 2.Run sprout"
   ]
  },
  {
   "cell_type": "code",
   "execution_count": 5,
   "metadata": {},
   "outputs": [],
   "source": [
    "species = 'Mouse'\n",
    "st_tp = 'st'"
   ]
  },
  {
   "cell_type": "code",
   "execution_count": 6,
   "metadata": {},
   "outputs": [],
   "source": [
    "st_coord.index = ['spot_' + str(x) for x in st_coord.index]\n",
    "st_exp.index = ['spot_' + str(x) for x in st_exp.index]\n",
    "st_decon.index = ['spot_' + str(x) for x in st_decon.index]\n",
    "sc_exp.index = ['cell_' + str(x) for x in sc_exp.index]\n",
    "sc_meta.index = ['cell_' + str(x) for x in sc_meta.index]\n",
    "sc_smurf.index = ['cell_' + str(x) for x in sc_smurf.index]"
   ]
  },
  {
   "cell_type": "markdown",
   "metadata": {},
   "source": [
    "# Parameters"
   ]
  },
  {
   "cell_type": "code",
   "execution_count": 7,
   "metadata": {},
   "outputs": [],
   "source": [
    "SUM = 1e4\n",
    "alpha, beta, gamma, delta, eta = [1, 0.001, 0.001, 0.1, 0.0005]\n",
    "if st_tp == 'slide-seq':\n",
    "    num_per_spot = 1\n",
    "    repeat_penalty = 2\n",
    "else:\n",
    "    num_per_spot = 10\n",
    "    repeat_penalty = int((st_exp.shape[0] * num_per_spot/sc_exp.shape[0]) * 10)\n",
    "\n",
    "max_rep = 20"
   ]
  },
  {
   "cell_type": "code",
   "execution_count": 8,
   "metadata": {},
   "outputs": [
    {
     "data": {
      "text/plain": [
       "<module 'spamint.sprout_plus' from '/home/notify/Documents/2406-work/SpaMint/spamint/sprout_plus.py'>"
      ]
     },
     "execution_count": 8,
     "metadata": {},
     "output_type": "execute_result"
    }
   ],
   "source": [
    "from importlib import reload\n",
    "reload(sprout_plus)"
   ]
  },
  {
   "cell_type": "markdown",
   "metadata": {},
   "source": [
    "# Preprocess"
   ]
  },
  {
   "cell_type": "code",
   "execution_count": 9,
   "metadata": {},
   "outputs": [
    {
     "name": "stdout",
     "output_type": "stream",
     "text": [
      "Data clean and scale are done! Single-cell data has 882 genes, spatial data has 882 genes.\n"
     ]
    }
   ],
   "source": [
    "if st_exp.shape[1]<1e4:\n",
    "    # merfish data, only has 200~500 genes\n",
    "    sc_adata, st_adata, sc_ref, lr_df = pp.prep_all_adata_merfish(sc_exp = sc_exp, st_exp = st_exp, sc_distribution = sc_smurf, \n",
    "                                                        sc_meta = sc_meta, st_coord = st_coord, lr_df = lr_df, SP = species)\n",
    "else:\n",
    "    sc_adata, st_adata, sc_ref, lr_df = pp.prep_all_adata(sc_exp = sc_exp, st_exp = st_exp, sc_distribution = sc_smurf, \n",
    "                                                            sc_meta = sc_meta, st_coord = st_coord, lr_df = lr_df, SP = species)"
   ]
  },
  {
   "cell_type": "code",
   "execution_count": 10,
   "metadata": {},
   "outputs": [
    {
     "name": "stdout",
     "output_type": "stream",
     "text": [
      "sc_ref and sc_adata has different genes, both data are subset to 882 genes.\n",
      "Parameters checked!\n",
      "Getting svg genes\n",
      "By setting k as 4, each spot has average 3.9788359788359786 neighbors.\n"
     ]
    }
   ],
   "source": [
    "obj_spex = sprout_plus.spaMint(save_path = outDir, st_adata = st_adata, weight = st_decon, \n",
    "                 sc_ref = sc_ref, sc_adata = sc_adata, cell_type_key = 'celltype', lr_df = lr_df, \n",
    "                 st_tp = st_tp)\n",
    "obj_spex.prep()"
   ]
  },
  {
   "cell_type": "markdown",
   "metadata": {},
   "source": [
    "# cell selection"
   ]
  },
  {
   "cell_type": "code",
   "execution_count": 11,
   "metadata": {},
   "outputs": [
    {
     "name": "stdout",
     "output_type": "stream",
     "text": [
      "\t Estimating the cell number in each spot by the deconvolution result.\n",
      "\t SpexMod selects 882 feature genes.\n",
      "\t Init solution: max - 1.0000,     mean - 0.9616,     min - 0.6215\n",
      "\t Swap selection start...\n",
      "\t Swapped solution: max - 1.00,     mean - 0.99,     min - 0.60\n"
     ]
    }
   ],
   "source": [
    "sc_agg_meta = obj_spex.select_cells(use_sc_orig = True, p = 0, mean_num_per_spot = num_per_spot, mode = 'strict', max_rep = 1,\n",
    "                                    repeat_penalty = repeat_penalty)\n",
    "sc_agg_meta.to_csv(f'{outDir}/spexmod_sc_meta.tsv',sep = '\\t',header=True,index=True)"
   ]
  },
  {
   "cell_type": "markdown",
   "metadata": {},
   "source": [
    "if p != 0, extremely time consuming"
   ]
  },
  {
   "cell_type": "code",
   "execution_count": 12,
   "metadata": {},
   "outputs": [
    {
     "name": "stdout",
     "output_type": "stream",
     "text": [
      "\t Estimating the cell number in each spot by the deconvolution result.\n",
      "\t SpexMod selects 882 feature genes.\n",
      "\t Init solution: max - 1.0000,     mean - 0.9613,     min - 0.6215\n",
      "\t Swap selection start...\n",
      "\t Swapped solution: max - 1.00,     mean - 0.98,     min - 0.60\n"
     ]
    }
   ],
   "source": [
    "# change p to 0.1, use different code to select cells\n",
    "#sc_agg_meta = obj_spex.select_cells(use_sc_orig = True, p = 0.1, mean_num_per_spot = num_per_spot, mode = 'strict', max_rep = 1, \n",
    "#                                    repeat_penalty = repeat_penalty)\n",
    "#sc_agg_meta.to_csv(f'{outDir}/spexmod_sc_meta.tsv',sep = '\\t',header=True,index=True)"
   ]
  },
  {
   "cell_type": "code",
   "execution_count": 13,
   "metadata": {},
   "outputs": [
    {
     "name": "stdout",
     "output_type": "stream",
     "text": [
      "Running v12 now...\n",
      "Init sc_coord by affinity embedding...\n",
      "Avearge shape correlation is: 0.9768658841593747\n",
      "First-term calculation done!\n",
      "Second-term calculation done!\n",
      "Third term calculation done!\n",
      "Fourth term calculation done!\n",
      "Hyperparameters adjusted.\n",
      "-----Start iteration 0 -----\n",
      "Avearge shape correlation is: 0.9768658841593747\n",
      "First-term calculation done!\n",
      "Second-term calculation done!\n",
      "Third term calculation done!\n",
      "Fourth term calculation done!\n",
      "---0 self.loss4 260.2295080455443 self.GAMMA 0.0031624709994505797 self.GAMMA*self.loss4 0.8229682723953252\n",
      "---In iteration 0, the loss is:loss1:822.96827,loss2:1914.20351,loss3:1028.00694,loss4:260.22951,loss5:2385.90552.\n",
      "---In iteration 0, the loss is:loss1:822.96827,loss2:822.96827,loss3:0.82297,loss4:0.82297,loss5:82.29683.\n",
      "The total loss after iteration 0 is 1729.87931.\n",
      "-----Start iteration 1 -----\n",
      "Avearge shape correlation is: 0.9764766821967036\n",
      "First-term calculation done!\n",
      "Second-term calculation done!\n",
      "Third term calculation done!\n",
      "Fourth term calculation done!\n",
      "---1 self.loss4 262.73272446904565 self.GAMMA 0.0031624709994505797 self.GAMMA*self.loss4 0.8308846217399966\n",
      "---In iteration 1, the loss is:loss1:821.38768,loss2:1912.02434,loss3:1028.61083,loss4:262.73272,loss5:2383.42755.\n",
      "---In iteration 1, the loss is:loss1:821.38768,loss2:822.03138,loss3:0.82345,loss4:0.83088,loss5:82.21135.\n",
      "The total loss after iteration 1 is 1727.28475.\n",
      "-----Start iteration 2 -----\n",
      "Avearge shape correlation is: 0.9755382207810821\n",
      "First-term calculation done!\n",
      "Second-term calculation done!\n",
      "Third term calculation done!\n",
      "Fourth term calculation done!\n",
      "---2 self.loss4 260.6039512281928 self.GAMMA 0.0031624709994505797 self.GAMMA*self.loss4 0.8241524381013929\n",
      "---In iteration 2, the loss is:loss1:819.81025,loss2:1909.84881,loss3:1048.15356,loss4:260.60395,loss5:2380.95300.\n",
      "---In iteration 2, the loss is:loss1:819.81025,loss2:821.09606,loss3:0.83910,loss4:0.82415,loss5:82.12600.\n",
      "The total loss after iteration 2 is 1724.69556.\n",
      "-----Start iteration 3 -----\n",
      "Avearge shape correlation is: 0.9750346466918031\n",
      "First-term calculation done!\n",
      "Second-term calculation done!\n",
      "Third term calculation done!\n",
      "Fourth term calculation done!\n",
      "---3 self.loss4 258.97743929310684 self.GAMMA 0.0031624709994505797 self.GAMMA*self.loss4 0.8190086412764235\n",
      "---In iteration 3, the loss is:loss1:818.23600,loss2:1907.67708,loss3:969.98173,loss4:258.97744,loss5:2378.48255.\n",
      "---In iteration 3, the loss is:loss1:818.23600,loss2:820.16238,loss3:0.77652,loss4:0.81901,loss5:82.04079.\n",
      "The total loss after iteration 3 is 1722.03469.\n",
      "-----Start iteration 4 -----\n",
      "Avearge shape correlation is: 0.9775519225981536\n",
      "First-term calculation done!\n",
      "Second-term calculation done!\n",
      "Third term calculation done!\n",
      "Fourth term calculation done!\n",
      "---4 self.loss4 257.0851902239633 self.GAMMA 0.0031624709994505797 self.GAMMA*self.loss4 0.8130244584715196\n",
      "---In iteration 4, the loss is:loss1:816.66492,loss2:1905.50908,loss3:983.33621,loss4:257.08519,loss5:2376.01609.\n",
      "---In iteration 4, the loss is:loss1:816.66492,loss2:819.23030,loss3:0.78721,loss4:0.81302,loss5:81.95571.\n",
      "The total loss after iteration 4 is 1719.45116.\n",
      "-----Start iteration 5 -----\n",
      "Avearge shape correlation is: 0.9768822280461825\n",
      "First-term calculation done!\n",
      "Second-term calculation done!\n",
      "Third term calculation done!\n",
      "Fourth term calculation done!\n",
      "---5 self.loss4 255.7692862128619 self.GAMMA 0.0031624709994505797 self.GAMMA*self.loss4 0.8088629501983507\n",
      "---In iteration 5, the loss is:loss1:815.09703,loss2:1903.34488,loss3:1024.53943,loss4:255.76929,loss5:2373.55372.\n",
      "---In iteration 5, the loss is:loss1:815.09703,loss2:818.29985,loss3:0.82019,loss4:0.80886,loss5:81.87078.\n",
      "The total loss after iteration 5 is 1716.89671.\n",
      "-----Start iteration 6 -----\n",
      "Avearge shape correlation is: 0.9756779431128688\n",
      "First-term calculation done!\n",
      "Second-term calculation done!\n",
      "Third term calculation done!\n",
      "Fourth term calculation done!\n",
      "---6 self.loss4 259.4696538396341 self.GAMMA 0.0031624709994505797 self.GAMMA*self.loss4 0.8205652555053236\n",
      "---In iteration 6, the loss is:loss1:813.53226,loss2:1901.18445,loss3:1087.60739,loss4:259.46965,loss5:2371.09540.\n",
      "---In iteration 6, the loss is:loss1:813.53226,loss2:817.37102,loss3:0.87068,loss4:0.82057,loss5:81.78598.\n",
      "The total loss after iteration 6 is 1714.38051.\n",
      "-----Start iteration 7 -----\n",
      "Avearge shape correlation is: 0.9763876844325897\n",
      "First-term calculation done!\n",
      "Second-term calculation done!\n",
      "Third term calculation done!\n",
      "Fourth term calculation done!\n",
      "---7 self.loss4 255.6329237721859 self.GAMMA 0.0031624709994505797 self.GAMMA*self.loss4 0.8084317079342986\n",
      "---In iteration 7, the loss is:loss1:811.97057,loss2:1899.02761,loss3:981.56369,loss4:255.63292,loss5:2368.64092.\n",
      "---In iteration 7, the loss is:loss1:811.97057,loss2:816.44374,loss3:0.78579,loss4:0.80843,loss5:81.70132.\n",
      "The total loss after iteration 7 is 1711.70985.\n",
      "-----Start iteration 8 -----\n",
      "Avearge shape correlation is: 0.9763564082671355\n",
      "First-term calculation done!\n",
      "Second-term calculation done!\n",
      "Third term calculation done!\n",
      "Fourth term calculation done!\n",
      "---8 self.loss4 257.4999459137022 self.GAMMA 0.0031624709994505797 self.GAMMA*self.loss4 0.8143361113121761\n",
      "---In iteration 8, the loss is:loss1:810.41213,loss2:1896.87467,loss3:1031.66977,loss4:257.49995,loss5:2366.19064.\n",
      "---In iteration 8, the loss is:loss1:810.41213,loss2:815.51813,loss3:0.82590,loss4:0.81434,loss5:81.61680.\n",
      "The total loss after iteration 8 is 1709.18730.\n",
      "-----Start iteration 9 -----\n",
      "Avearge shape correlation is: 0.9751058082174099\n",
      "First-term calculation done!\n",
      "Second-term calculation done!\n",
      "Third term calculation done!\n",
      "Fourth term calculation done!\n",
      "---9 self.loss4 258.14266696922425 self.GAMMA 0.0031624709994505797 self.GAMMA*self.loss4 0.8163686980110008\n",
      "---In iteration 9, the loss is:loss1:808.85674,loss2:1894.72529,loss3:983.67991,loss4:258.14267,loss5:2363.74418.\n",
      "---In iteration 9, the loss is:loss1:808.85674,loss2:814.59405,loss3:0.78748,loss4:0.81637,loss5:81.53242.\n",
      "The total loss after iteration 9 is 1706.58706.\n",
      "-----Start iteration 10 -----\n",
      "Avearge shape correlation is: 0.9755740456452487\n",
      "First-term calculation done!\n",
      "Second-term calculation done!\n",
      "Third term calculation done!\n",
      "Fourth term calculation done!\n",
      "---10 self.loss4 256.02079600096397 self.GAMMA 0.0031624709994505797 self.GAMMA*self.loss4 0.8096583426093015\n",
      "---In iteration 10, the loss is:loss1:807.30448,loss2:1892.57956,loss3:951.97808,loss4:256.02080,loss5:2361.30164.\n",
      "---In iteration 10, the loss is:loss1:807.30448,loss2:813.67155,loss3:0.76210,loss4:0.80966,loss5:81.44817.\n",
      "The total loss after iteration 10 is 1703.99595.\n",
      "-----Start iteration 11 -----\n",
      "Avearge shape correlation is: 0.976427762325844\n",
      "First-term calculation done!\n",
      "Second-term calculation done!\n",
      "Third term calculation done!\n",
      "Fourth term calculation done!\n",
      "---11 self.loss4 255.71036306023342 self.GAMMA 0.0031624709994505797 self.GAMMA*self.loss4 0.808676607436967\n",
      "---In iteration 11, the loss is:loss1:805.75533,loss2:1890.43761,loss3:967.55507,loss4:255.71036,loss5:2358.86315.\n",
      "---In iteration 11, the loss is:loss1:805.75533,loss2:812.75066,loss3:0.77457,loss4:0.80868,loss5:81.36406.\n",
      "The total loss after iteration 11 is 1701.45330.\n",
      "-----Start iteration 12 -----\n",
      "Avearge shape correlation is: 0.9765993742768105\n",
      "First-term calculation done!\n",
      "Second-term calculation done!\n",
      "Third term calculation done!\n",
      "Fourth term calculation done!\n",
      "---12 self.loss4 254.22832435887798 self.GAMMA 0.0031624709994505797 self.GAMMA*self.loss4 0.803989703023867\n",
      "---In iteration 12, the loss is:loss1:804.20931,loss2:1888.29936,loss3:1011.85208,loss4:254.22832,loss5:2356.42866.\n",
      "---In iteration 12, the loss is:loss1:804.20931,loss2:811.83137,loss3:0.81004,loss4:0.80399,loss5:81.28008.\n",
      "The total loss after iteration 12 is 1698.93479.\n",
      "-----Start iteration 13 -----\n",
      "Avearge shape correlation is: 0.9753296437900616\n",
      "First-term calculation done!\n",
      "Second-term calculation done!\n",
      "Third term calculation done!\n",
      "Fourth term calculation done!\n",
      "---13 self.loss4 255.08775304777555 self.GAMMA 0.0031624709994505797 self.GAMMA*self.loss4 0.8067076213286014\n",
      "---In iteration 13, the loss is:loss1:802.66636,loss2:1886.16479,loss3:1072.02575,loss4:255.08775,loss5:2353.99811.\n",
      "---In iteration 13, the loss is:loss1:802.66636,loss2:810.91366,loss3:0.85821,loss4:0.80671,loss5:81.19625.\n",
      "The total loss after iteration 13 is 1696.44118.\n",
      "-----Start iteration 14 -----\n",
      "Avearge shape correlation is: 0.9749715630590859\n",
      "First-term calculation done!\n",
      "Second-term calculation done!\n",
      "Third term calculation done!\n",
      "Fourth term calculation done!\n",
      "---14 self.loss4 256.2948675280007 self.GAMMA 0.0031624709994505797 self.GAMMA*self.loss4 0.8105250858653302\n",
      "---In iteration 14, the loss is:loss1:801.12647,loss2:1884.03374,loss3:1199.62690,loss4:256.29487,loss5:2351.57133.\n",
      "---In iteration 14, the loss is:loss1:801.12647,loss2:809.99746,loss3:0.96036,loss4:0.81053,loss5:81.11254.\n",
      "The total loss after iteration 14 is 1694.00736.\n",
      "-----Start iteration 15 -----\n",
      "Avearge shape correlation is: 0.9759248203793248\n",
      "First-term calculation done!\n",
      "Second-term calculation done!\n",
      "Third term calculation done!\n",
      "Fourth term calculation done!\n",
      "---15 self.loss4 255.46192558386645 self.GAMMA 0.0031624709994505797 self.GAMMA*self.loss4 0.8078909311227798\n",
      "---In iteration 15, the loss is:loss1:799.58970,loss2:1881.90648,loss3:1066.89648,loss4:255.46193,loss5:2349.14862.\n",
      "---In iteration 15, the loss is:loss1:799.58970,loss2:809.08290,loss3:0.85410,loss4:0.80789,loss5:81.02897.\n",
      "The total loss after iteration 15 is 1691.36356.\n",
      "-----Start iteration 16 -----\n",
      "Avearge shape correlation is: 0.9772600497270605\n",
      "First-term calculation done!\n",
      "Second-term calculation done!\n",
      "Third term calculation done!\n",
      "Fourth term calculation done!\n",
      "---16 self.loss4 253.9489126737046 self.GAMMA 0.0031624709994505797 self.GAMMA*self.loss4 0.8031060716725986\n",
      "---In iteration 16, the loss is:loss1:798.05598,loss2:1879.78275,loss3:1013.63137,loss4:253.94891,loss5:2346.72971.\n",
      "---In iteration 16, the loss is:loss1:798.05598,loss2:808.16985,loss3:0.81146,loss4:0.80311,loss5:80.94554.\n",
      "The total loss after iteration 16 is 1688.78594.\n",
      "-----Start iteration 17 -----\n",
      "Avearge shape correlation is: 0.978389714136661\n",
      "First-term calculation done!\n",
      "Second-term calculation done!\n",
      "Third term calculation done!\n",
      "Fourth term calculation done!\n",
      "---17 self.loss4 255.66092831810099 self.GAMMA 0.0031624709994505797 self.GAMMA*self.loss4 0.8085202714986078\n",
      "---In iteration 17, the loss is:loss1:796.52538,loss2:1877.66278,loss3:1066.40432,loss4:255.66093,loss5:2344.31485.\n",
      "---In iteration 17, the loss is:loss1:796.52538,loss2:807.25842,loss3:0.85371,loss4:0.80852,loss5:80.86224.\n",
      "The total loss after iteration 17 is 1686.30827.\n",
      "-----Start iteration 18 -----\n",
      "Avearge shape correlation is: 0.977034349957168\n",
      "First-term calculation done!\n",
      "Second-term calculation done!\n",
      "Third term calculation done!\n",
      "Fourth term calculation done!\n",
      "---18 self.loss4 254.68699820266406 self.GAMMA 0.0031624709994505797 self.GAMMA*self.loss4 0.805440245753047\n",
      "---In iteration 18, the loss is:loss1:794.99791,loss2:1875.54653,loss3:1017.28892,loss4:254.68700,loss5:2341.90399.\n",
      "---In iteration 18, the loss is:loss1:794.99791,loss2:806.34858,loss3:0.81439,loss4:0.80544,loss5:80.77909.\n",
      "The total loss after iteration 18 is 1683.74540.\n",
      "-----Start iteration 19 -----\n",
      "Avearge shape correlation is: 0.9775268898576143\n",
      "First-term calculation done!\n",
      "Second-term calculation done!\n",
      "Third term calculation done!\n",
      "Fourth term calculation done!\n",
      "---19 self.loss4 252.08124439836573 self.GAMMA 0.0031624709994505797 self.GAMMA*self.loss4 0.7971996249152455\n",
      "---In iteration 19, the loss is:loss1:793.47342,loss2:1873.43384,loss3:1027.64945,loss4:252.08124,loss5:2339.49695.\n",
      "---In iteration 19, the loss is:loss1:793.47342,loss2:805.44028,loss3:0.82268,loss4:0.79720,loss5:80.69606.\n",
      "The total loss after iteration 19 is 1681.22964.\n",
      "Avearge shape correlation is: 0.977230761512479\n"
     ]
    }
   ],
   "source": [
    "alter_sc_exp, sc_agg_meta = obj_spex.gradient_descent(\n",
    "                alpha, beta, gamma, delta, eta, \n",
    "                init_sc_embed = False,\n",
    "                iteration = max_rep, k = 2, W_HVG = 2,\n",
    "                left_range = 1, right_range = 2, steps = 1, dim = 2)\n",
    "sc_agg_meta.to_csv(f'{outDir}/spexmod_sc_meta.tsv',sep = '\\t',header=True,index=True)\n",
    "with open(f'{outDir}/sc_knn.json', 'w') as fp:\n",
    "    json.dump(obj_spex.sc_knn, fp)\n",
    "# utils.save_object(obj_spex, f'{outDir}/obj_spex.pkl')\n"
   ]
  },
  {
   "cell_type": "code",
   "execution_count": null,
   "metadata": {},
   "outputs": [],
   "source": []
  }
 ],
 "metadata": {
  "kernelspec": {
   "display_name": "SpaMint.venv",
   "language": "python",
   "name": "spamint.venv"
  },
  "language_info": {
   "codemirror_mode": {
    "name": "ipython",
    "version": 3
   },
   "file_extension": ".py",
   "mimetype": "text/x-python",
   "name": "python",
   "nbconvert_exporter": "python",
   "pygments_lexer": "ipython3",
   "version": "3.12.3"
  },
  "vscode": {
   "interpreter": {
    "hash": "7786051ca713700aed95fca0518a8a985661b55e7fd6f71a0a277d271e5f8daf"
   }
  }
 },
 "nbformat": 4,
 "nbformat_minor": 4
}
